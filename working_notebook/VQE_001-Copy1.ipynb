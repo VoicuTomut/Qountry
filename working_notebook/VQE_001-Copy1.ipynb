{
 "cells": [
  {
   "cell_type": "markdown",
   "id": "940d26c3",
   "metadata": {},
   "source": [
    "## VQE ansatz: 001"
   ]
  },
  {
   "cell_type": "code",
   "execution_count": 1,
   "id": "42055090",
   "metadata": {},
   "outputs": [],
   "source": [
    "import os\n",
    "import numpy\n",
    "\n",
    "\n",
    "import pennylane as qml\n",
    "from pennylane import numpy as np\n",
    "from pennylane.optimize import AdamOptimizer, GradientDescentOptimizer\n",
    "\n",
    "\n",
    "import sys\n",
    "sys.path.append(\"..\")\n",
    "from wordsToNumbers import Corpus\n",
    "from wordsToNumbers import fibonacci_vocabulary\n",
    "\n",
    "from wordsToQubits import put_word_on_sphere\n",
    "\n",
    "from utils import get_corpus_from_directory, working_window, get_word_from_sphere"
   ]
  },
  {
   "cell_type": "code",
   "execution_count": 2,
   "id": "25724fca",
   "metadata": {},
   "outputs": [],
   "source": [
    "np.random.seed(73)"
   ]
  },
  {
   "cell_type": "code",
   "execution_count": null,
   "id": "712a727b",
   "metadata": {},
   "outputs": [],
   "source": []
  },
  {
   "cell_type": "markdown",
   "id": "4951bf91",
   "metadata": {},
   "source": [
    "## Corpus"
   ]
  },
  {
   "cell_type": "code",
   "execution_count": 3,
   "id": "a1bc2987",
   "metadata": {},
   "outputs": [
    {
     "name": "stdout",
     "output_type": "stream",
     "text": [
      "nr. words:15 \n",
      "nr. distinct words: 13 \n",
      "len.text/len.vocab:1.1538461538461537\n"
     ]
    }
   ],
   "source": [
    "corpus_text = \"Same old dive, same old end of the work week drink Bartender knows my name,\"#but I don't mind She kicks 'em up strong, serves me up right And here I go again I'm drinkin' one, I'm drinkin' two I got my heartache medication, a strong dedication To gettin' over you, turnin' me loose On that hardwood jukebox lost in neon time My heartache medication, well it suits me fine And I'm drinkin' enough to take you off my mind I got my heartache medication\"\n",
    "corpus= Corpus(corpus_text)\n",
    "print(corpus.prop())"
   ]
  },
  {
   "cell_type": "code",
   "execution_count": 4,
   "id": "2a79b495",
   "metadata": {},
   "outputs": [],
   "source": [
    "parameterize_vovabulary = fibonacci_vocabulary(corpus.vocabulary)"
   ]
  },
  {
   "cell_type": "code",
   "execution_count": 5,
   "id": "3761a237",
   "metadata": {},
   "outputs": [
    {
     "name": "stdout",
     "output_type": "stream",
     "text": [
      "corpus: ['same', 'old', 'dive', 'same', 'old', 'end', 'of', 'the', 'work', 'week', 'drink', 'bartender', 'knows', 'my', 'name']\n"
     ]
    }
   ],
   "source": [
    "print(\"corpus:\",corpus.split_text)"
   ]
  },
  {
   "cell_type": "code",
   "execution_count": null,
   "id": "29cc7ee8",
   "metadata": {},
   "outputs": [],
   "source": []
  },
  {
   "cell_type": "markdown",
   "id": "23056c1a",
   "metadata": {},
   "source": [
    "## Training set "
   ]
  },
  {
   "cell_type": "code",
   "execution_count": 6,
   "id": "484b6501",
   "metadata": {},
   "outputs": [],
   "source": [
    "history_lenghth = 3"
   ]
  },
  {
   "cell_type": "code",
   "execution_count": 7,
   "id": "01c733f0",
   "metadata": {},
   "outputs": [],
   "source": [
    "x,y = working_window(history_lenghth, splited_text=corpus.split_text)"
   ]
  },
  {
   "cell_type": "code",
   "execution_count": 8,
   "id": "0689e8e4",
   "metadata": {},
   "outputs": [
    {
     "name": "stdout",
     "output_type": "stream",
     "text": [
      "len training set: 11\n"
     ]
    }
   ],
   "source": [
    "print(\"len training set:\", len(x))"
   ]
  },
  {
   "cell_type": "code",
   "execution_count": null,
   "id": "050b1301",
   "metadata": {},
   "outputs": [],
   "source": []
  },
  {
   "cell_type": "code",
   "execution_count": 9,
   "id": "9275e6b1",
   "metadata": {},
   "outputs": [
    {
     "name": "stdout",
     "output_type": "stream",
     "text": [
      "['same', 'old', 'end', 'of', 'the', 'work', 'week', 'drink', 'bartender', 'knows']\n"
     ]
    }
   ],
   "source": [
    "print(y[:10])"
   ]
  },
  {
   "cell_type": "markdown",
   "id": "46257ec7",
   "metadata": {},
   "source": [
    "## Circuit"
   ]
  },
  {
   "cell_type": "code",
   "execution_count": null,
   "id": "e58423cf",
   "metadata": {},
   "outputs": [],
   "source": []
  },
  {
   "cell_type": "code",
   "execution_count": 10,
   "id": "d20aced7",
   "metadata": {},
   "outputs": [],
   "source": [
    "dev = qml.device(\"default.qubit\", wires=history_lenghth+1)\n",
    "\n",
    "# circuit initializer\n",
    "def circuit_initializer(words):\n",
    "    for i in range(len(words)):\n",
    "        put_word_on_sphere(words[i], qubit=i)"
   ]
  },
  {
   "cell_type": "code",
   "execution_count": 11,
   "id": "c34fdfac",
   "metadata": {},
   "outputs": [],
   "source": [
    "def layer_type1(param, wires=[0,1,2]):\n",
    "\n",
    "    qml.CRZ( param[0], wires=[0,3])\n",
    "    qml.CRX( param[1], wires=[0,3])\n",
    "    qml.CRY( param[2], wires=[0,3])\n",
    "\n",
    "    qml.CRZ( param[3], wires=[1,3])\n",
    "    qml.CRX( param[4], wires=[1,3])\n",
    "    qml.CRY( param[5], wires=[1,3])\n",
    "\n",
    "    qml.CRZ( param[6], wires=[2,3])\n",
    "    qml.CRX( param[7], wires=[2,3])\n",
    "    qml.CRY( param[8], wires=[2,3])\n",
    "\n",
    "    qml.CNOT(wires=[0,1])\n",
    "    qml.RX( param[9], wires=0)\n",
    "    qml.RY( param[10], wires=0)\n",
    "\n",
    "    qml.CNOT(wires=[1,2])\n",
    "    qml.RX( param[11], wires=1)\n",
    "    qml.RY( param[12], wires=1)\n",
    "    \n",
    "    qml.CNOT(wires=[2,3])\n",
    "    qml.RX( param[13], wires=2)\n",
    "    qml.RY( param[14], wires=2)\n",
    "\n",
    "    qml.CNOT(wires=[3,0])\n",
    "    qml.RX( param[15], wires=3)\n",
    "    qml.RY( param[16], wires=3)\n"
   ]
  },
  {
   "cell_type": "code",
   "execution_count": 12,
   "id": "24a97158",
   "metadata": {},
   "outputs": [],
   "source": [
    "@qml.qnode(dev)\n",
    "def next_gen(params, x, obs='z'):\n",
    "    \"\"\"\n",
    "    obs:'z', 'x' or 'y'\n",
    "    \"\"\"\n",
    "\n",
    "    # initialize the circuit \n",
    "    circuit_initializer(x)\n",
    "\n",
    "    # \n",
    "    for param in params:\n",
    "        layer_type1(param, wires=[0,1,2])\n",
    "    #circuit_initializer(x) # just for a test \n",
    "\n",
    "\n",
    "    # measure \n",
    "    if obs=='z':\n",
    "        return  qml.expval(qml.PauliZ(3))\n",
    "    if obs=='x':\n",
    "        return qml.expval(qml.PauliX(3))\n",
    "    if obs=='y':\n",
    "        return qml.expval(qml.PauliY(3))\n",
    "\n"
   ]
  },
  {
   "cell_type": "code",
   "execution_count": 13,
   "id": "a2217ebf",
   "metadata": {},
   "outputs": [
    {
     "name": "stdout",
     "output_type": "stream",
     "text": [
      "x: ['same', 'old', 'dive']\n",
      "x_vec: [[0.885600611124963, -0.33333333333333326, 0.32341992280003534], [0.8319539402538132, 0.16666666666666663, -0.5292209968608358], [-0.0, -1.0, -0.0]]\n"
     ]
    }
   ],
   "source": [
    "x_vec=[ parameterize_vovabulary[w] for w in x[0]]\n",
    "print(\"x:\",x[0])\n",
    "print(\"x_vec:\",x_vec)"
   ]
  },
  {
   "cell_type": "code",
   "execution_count": 14,
   "id": "35e93b74",
   "metadata": {},
   "outputs": [
    {
     "name": "stdout",
     "output_type": "stream",
     "text": [
      "x: ['same', 'old', 'dive']\n",
      "x_vec: [[0.885600611124963, -0.33333333333333326, 0.32341992280003534], [0.8319539402538132, 0.16666666666666663, -0.5292209968608358], [-0.0, -1.0, -0.0]]\n",
      "example tensor: [[0.885600611124963, -0.33333333333333326, 0.32341992280003534], [0.8319539402538132, 0.16666666666666663, -0.5292209968608358], [-0.0, -1.0, -0.0]]\n",
      "\n",
      "\n",
      "\n",
      " 0: ──RY(-5.04)──RZ(-0.36)──╭C──────────╭C──────────╭C─────────────────────────────────────────────╭C───────────RX(0.311)───RY(0.404)─────────────────────────────╭X────────────────────────┤     \n",
      " 1: ──RY(-4.15)──RZ(0.198)──│───────────│───────────│───────────╭C─────────╭C──────────╭C──────────╰X──────────────────────────────────╭C───RX(0.597)──RY(0.241)──│─────────────────────────┤     \n",
      " 2: ──RY(-1.57)──RZ(1.57)───│───────────│───────────│───────────│──────────│───────────│───────────╭C──────────╭C──────────╭C──────────╰X──╭C──────────RX(0.906)──│───RY(0.159)─────────────┤     \n",
      " 3: ────────────────────────╰RZ(0.643)──╰RX(0.539)──╰RY(0.512)──╰RZ(0.61)──╰RX(0.493)──╰RY(0.214)──╰RZ(0.244)──╰RX(0.572)──╰RY(0.773)──────╰X─────────────────────╰C──RX(0.589)──RY(0.262)──┤ ⟨Z⟩ \n",
      "\n"
     ]
    }
   ],
   "source": [
    "x_vec=[ parameterize_vovabulary[w] for w in x[0]]\n",
    "print(\"x:\",x[0])\n",
    "print(\"x_vec:\",x_vec)\n",
    "\n",
    "params= np.random.uniform(size=(1, 17), requires_grad=True)\n",
    "\n",
    "print(\"example tensor:\", x_vec )\n",
    "print(\"\\n\\n\")\n",
    "print(qml.draw(next_gen)(params,x_vec,obs='z'))"
   ]
  },
  {
   "cell_type": "code",
   "execution_count": 15,
   "id": "59d15992",
   "metadata": {},
   "outputs": [],
   "source": [
    "pred_vector=[ next_gen(params,x_vec, obs=o) for o in ['x', 'y', 'z']]"
   ]
  },
  {
   "cell_type": "markdown",
   "id": "ee4b16a4",
   "metadata": {},
   "source": [
    "## Learning"
   ]
  },
  {
   "cell_type": "code",
   "execution_count": 16,
   "id": "2d76f165",
   "metadata": {},
   "outputs": [],
   "source": [
    "def pred_target_distance(pred_vector, target):\n",
    "\n",
    "    distance= np.linalg.norm(pred_vector-target)\n",
    "\n",
    "    #np.sqrt((pred_vector[0]-target[0])*(pred_vector[0]-target[0])+\n",
    "    #                 (pred_vector[1]-target[1])*(pred_vector[1]-target[1])+\n",
    "    #                 (pred_vector[2]-target[2])*(pred_vector[2]-target[2]))\n",
    "\n",
    "    return distance"
   ]
  },
  {
   "cell_type": "code",
   "execution_count": 17,
   "id": "87594d23",
   "metadata": {},
   "outputs": [
    {
     "name": "stdout",
     "output_type": "stream",
     "text": [
      "target word: same\n",
      "target vector: [0.885600611124963, -0.33333333333333326, 0.32341992280003534]\n",
      "prediction: [tensor(0.15143019, requires_grad=True), tensor(0.02224266, requires_grad=True), tensor(-0.10865775, requires_grad=True)]\n",
      "prediction word: old\n",
      "distance: 0.9231097540604356\n"
     ]
    }
   ],
   "source": [
    "print(\"target word:\",y[0])\n",
    "print(\"target vector:\",parameterize_vovabulary[y[0]] )\n",
    "print(\"prediction:\",pred_vector)\n",
    "pred_word= get_word_from_sphere(pred_vector, parameterize_vovabulary)\n",
    "print(\"prediction word:\",pred_word)\n",
    "distance= pred_target_distance(np.array(pred_vector), np.array(parameterize_vovabulary[y[0]]))\n",
    "print(\"distance:\", distance)"
   ]
  },
  {
   "cell_type": "code",
   "execution_count": 18,
   "id": "fb981b69",
   "metadata": {},
   "outputs": [
    {
     "name": "stdout",
     "output_type": "stream",
     "text": [
      "0.0\n"
     ]
    }
   ],
   "source": [
    "distance= pred_target_distance( np.array(parameterize_vovabulary[y[0]]) ,np.array(parameterize_vovabulary[y[0]]))\n",
    "print(distance)"
   ]
  },
  {
   "cell_type": "code",
   "execution_count": 19,
   "id": "abb9c9a5",
   "metadata": {},
   "outputs": [],
   "source": [
    "def cost( par , x, y):\n",
    "\n",
    "    predictions = [[next_gen(par, w_input,obs='x') ,next_gen(par,w_input,obs='y') ,next_gen(par,w_input,obs='z') ] for w_input in x ]\n",
    "\n",
    "    c=0.0\n",
    "    for i in range(len(predictions)):\n",
    "        c = c+ pred_target_distance(np.array(predictions[i]), y)\n",
    "\n",
    "    c=c/len(predictions)\n",
    "\n",
    "    return np.array(c)"
   ]
  },
  {
   "cell_type": "code",
   "execution_count": 20,
   "id": "18dc8640",
   "metadata": {},
   "outputs": [],
   "source": [
    "def accuracy(predictions, y):\n",
    "    pred_words=[ get_word_from_sphere(p_v, parameterize_vovabulary) for p_v in predictions]\n",
    "    target_words=[ get_word_from_sphere(p_v, parameterize_vovabulary) for p_v in y]\n",
    "    ac=0\n",
    "    for i in range(len(pred_words)):\n",
    "        if pred_words[i]==target_words[i]:\n",
    "            ac=ac+1\n",
    "    return ac/len(pred_words)"
   ]
  },
  {
   "cell_type": "markdown",
   "id": "e0bba265",
   "metadata": {},
   "source": [
    "## Training:"
   ]
  },
  {
   "cell_type": "code",
   "execution_count": 21,
   "id": "5b071ffb",
   "metadata": {},
   "outputs": [
    {
     "name": "stdout",
     "output_type": "stream",
     "text": [
      "[ 0  1  2  3  4  5  6  7  8  9 10]\n"
     ]
    }
   ],
   "source": [
    "## shuffling data \n",
    "index = np.array([ i for i in range(len(x))])\n",
    "print(index)"
   ]
  },
  {
   "cell_type": "code",
   "execution_count": 22,
   "id": "bb08af03",
   "metadata": {},
   "outputs": [],
   "source": [
    "X_train= []\n",
    "Y_train= []\n",
    "Y_train_w= []\n",
    "\n",
    "for i in range(len(x)):\n",
    "    vec = [parameterize_vovabulary[w] for w in x[i]]\n",
    "    X_train.append(vec)\n",
    "    Y_train.append(parameterize_vovabulary[y[i]])\n",
    "    Y_train_w.append(y[i])\n",
    "    \n",
    "X_train= np.array(X_train)\n",
    "Y_train= np.array(Y_train)"
   ]
  },
  {
   "cell_type": "code",
   "execution_count": 23,
   "id": "ddfa12e9",
   "metadata": {},
   "outputs": [],
   "source": [
    "def iterate_batches(X,Y, batch_size):\n",
    "    X1 = [torch.reshape(x[0], (1, 2 ** (len(spec.latent_qubits) + len(spec.trash_qubits)))) for x in X]\n",
    "    X2 = []\n",
    "    for i in range(len(X1)):\n",
    "        X2.append([X1[1], X[i][1]])\n",
    "    X = X2\n",
    "    random.shuffle(X)\n",
    "\n",
    "    batch_list = []\n",
    "    batch = []\n",
    "    for x in X:\n",
    "        if len(batch) < batch_size:\n",
    "            batch.append(x)\n",
    "\n",
    "        else:\n",
    "            batch_list.append(batch)\n",
    "            batch = []\n",
    "    if len(batch) != 0:\n",
    "        batch_list.append(batch)\n",
    "    return batch_list"
   ]
  },
  {
   "cell_type": "code",
   "execution_count": 24,
   "id": "d587df13",
   "metadata": {},
   "outputs": [],
   "source": [
    "## Model parameters \n",
    "\n",
    "num_layers= 1\n",
    "layer_param= 17\n",
    "#params = np.random.uniform(size=(2, layer_param), requires_grad=True)\n",
    "\n",
    "learning_rate= 0.6\n",
    "opt = AdamOptimizer(learning_rate, beta1=0.9, beta2=0.999)\n",
    "\n",
    "nr_epochs= 2000#500"
   ]
  },
  {
   "cell_type": "code",
   "execution_count": null,
   "id": "5f42d331",
   "metadata": {},
   "outputs": [
    {
     "name": "stdout",
     "output_type": "stream",
     "text": [
      "Iter:0 | train_cost:3.5702909925263184\n",
      "ac: 0.09090909090909091\n",
      "Iter:1 | train_cost:3.4453281767406922\n",
      "Iter:2 | train_cost:3.414921562527073\n",
      "Iter:3 | train_cost:3.4426288339760593\n",
      "Iter:4 | train_cost:3.358457695845408\n",
      "Iter:5 | train_cost:3.3769059119671554\n",
      "Iter:6 | train_cost:3.371524887100874\n",
      "Iter:7 | train_cost:3.3754697298908725\n",
      "Iter:8 | train_cost:3.373101366342141\n",
      "Iter:9 | train_cost:3.3693039494235824\n",
      "Iter:10 | train_cost:3.368035137818269\n",
      "ac: 0.0\n",
      "Iter:11 | train_cost:3.3675467859406623\n",
      "Iter:12 | train_cost:3.3652313755161853\n",
      "Iter:13 | train_cost:3.3623935807542833\n",
      "Iter:14 | train_cost:3.3631357521694527\n",
      "Iter:15 | train_cost:3.356066303168467\n",
      "Iter:16 | train_cost:3.3497369503024106\n",
      "Iter:17 | train_cost:3.348782364855822\n",
      "Iter:18 | train_cost:3.350652756650166\n",
      "Iter:19 | train_cost:3.3455656037335633\n",
      "Iter:20 | train_cost:3.3363246525181776\n",
      "ac: 0.0\n",
      "Iter:21 | train_cost:3.3357912770418228\n",
      "Iter:22 | train_cost:3.3356267059377487\n",
      "Iter:23 | train_cost:3.3321247854130847\n",
      "Iter:24 | train_cost:3.329016887896917\n",
      "Iter:25 | train_cost:3.3265963977005053\n",
      "Iter:26 | train_cost:3.3262140503370996\n",
      "Iter:27 | train_cost:3.324912007801842\n",
      "Iter:28 | train_cost:3.3266032962101337\n",
      "Iter:29 | train_cost:3.323033985894544\n",
      "Iter:30 | train_cost:3.3227229500015056\n",
      "ac: 0.0\n",
      "Iter:31 | train_cost:3.3233290443200363\n",
      "Iter:32 | train_cost:3.3235808210820026\n",
      "Iter:33 | train_cost:3.322831117661083\n",
      "Iter:34 | train_cost:3.322498185759807\n",
      "Iter:35 | train_cost:3.324430223743558\n",
      "Iter:36 | train_cost:3.322532476440181\n",
      "Iter:37 | train_cost:3.322937597112012\n",
      "Iter:38 | train_cost:3.32357918970076\n",
      "Iter:39 | train_cost:3.3224647411469252\n",
      "Iter:40 | train_cost:3.3216233079129016\n",
      "ac: 0.0\n",
      "Iter:41 | train_cost:3.3214253489816072\n",
      "Iter:42 | train_cost:3.321394657810707\n",
      "Iter:43 | train_cost:3.3209188356265513\n",
      "Iter:44 | train_cost:3.321192163635509\n",
      "Iter:45 | train_cost:3.3207481627506668\n",
      "Iter:46 | train_cost:3.320513039310519\n",
      "Iter:47 | train_cost:3.32020499705216\n",
      "Iter:48 | train_cost:3.320278248716373\n",
      "Iter:49 | train_cost:3.3202412674864545\n",
      "Iter:50 | train_cost:3.3200565979153662\n",
      "ac: 0.0\n",
      "Iter:51 | train_cost:3.3200734641769074\n",
      "Iter:52 | train_cost:3.3197784379161615\n",
      "Iter:53 | train_cost:3.319883827310198\n",
      "Iter:54 | train_cost:3.3196745720131413\n",
      "Iter:55 | train_cost:3.3196404202116057\n",
      "Iter:56 | train_cost:3.3197188030820133\n",
      "Iter:57 | train_cost:3.319678595375556\n",
      "Iter:58 | train_cost:3.319618892686191\n"
     ]
    }
   ],
   "source": [
    "ls_progres=[]\n",
    "ac_progres=[]\n",
    "for e in range(nr_epochs):\n",
    "    params, ls = opt.step_and_cost(lambda p: cost( par=p, x=X_train, y=Y_train),params)\n",
    "\n",
    "    print(\"Iter:{} | train_cost:{}\".format(e, ls))\n",
    "    ls_progres.append(ls)\n",
    "\n",
    "\n",
    "    if e%10==0:\n",
    "        predictions = [[next_gen(params, w_input,obs='x') ,next_gen(params,w_input,obs='y') ,next_gen(params,w_input,obs='z') ] for w_input in X_train ]\n",
    "        ac=accuracy(predictions, y=Y_train)\n",
    "\n",
    "        print(\"ac:\",ac)\n",
    "        ac_progres.append(ac)\n",
    "  "
   ]
  },
  {
   "cell_type": "code",
   "execution_count": null,
   "id": "fcd9fa59",
   "metadata": {},
   "outputs": [],
   "source": []
  },
  {
   "cell_type": "markdown",
   "id": "aa2be45b",
   "metadata": {},
   "source": [
    "## Results"
   ]
  },
  {
   "cell_type": "code",
   "execution_count": null,
   "id": "9032e5e8",
   "metadata": {},
   "outputs": [],
   "source": [
    "import matplotlib.pyplot as plt"
   ]
  },
  {
   "cell_type": "code",
   "execution_count": null,
   "id": "9c2d03b5",
   "metadata": {},
   "outputs": [],
   "source": [
    "fig = plt.figure()\n",
    "plt.plot([x for x in range(0,len(ls_progres))],np.array(ls_progres),label=\"train loss\")\n",
    "\n",
    "\n",
    "plt.legend()\n",
    "plt.title(\"loss_VQE_001_C0\",)\n",
    "plt.xlabel(\"epoch\")\n",
    "plt.ylabel(\"loss\")\n",
    "\n",
    "print(\"last loss:\",ls_progres[-1])"
   ]
  },
  {
   "cell_type": "code",
   "execution_count": null,
   "id": "af600611",
   "metadata": {},
   "outputs": [],
   "source": [
    "fig = plt.figure()\n",
    "plt.plot([x for x in range(0,len(ac_progres)*10,10)],np.array(ac_progres),label=\"train accuracy\")\n",
    "\n",
    "\n",
    "plt.legend()\n",
    "plt.title(\"accuracy_VQE_001_C0\",)\n",
    "plt.xlabel(\"epoch\")\n",
    "plt.ylabel(\"accyracy\")\n",
    "\n",
    "print(\"accuracy loss:\",ac_progres[-1])"
   ]
  },
  {
   "cell_type": "code",
   "execution_count": null,
   "id": "5df4c590",
   "metadata": {},
   "outputs": [],
   "source": []
  },
  {
   "cell_type": "code",
   "execution_count": null,
   "id": "c6d77c6b",
   "metadata": {},
   "outputs": [],
   "source": [
    "for i in range(len(x)):\n",
    "    \n",
    "    words_vec = [parameterize_vovabulary[w] for w in x[i]]\n",
    "    pred_vector=[ next_gen(params,words_vec, obs=o) for o in ['x', 'y', 'z']]\n",
    "    pred_word= get_word_from_sphere(pred_vector, parameterize_vovabulary)\n",
    "    print(\"{}={}\".format(pred_word,y[i]))"
   ]
  },
  {
   "cell_type": "code",
   "execution_count": null,
   "id": "ed750c06",
   "metadata": {},
   "outputs": [],
   "source": []
  }
 ],
 "metadata": {
  "kernelspec": {
   "display_name": "Python 3 (ipykernel)",
   "language": "python",
   "name": "python3"
  },
  "language_info": {
   "codemirror_mode": {
    "name": "ipython",
    "version": 3
   },
   "file_extension": ".py",
   "mimetype": "text/x-python",
   "name": "python",
   "nbconvert_exporter": "python",
   "pygments_lexer": "ipython3",
   "version": "3.9.7"
  }
 },
 "nbformat": 4,
 "nbformat_minor": 5
}
