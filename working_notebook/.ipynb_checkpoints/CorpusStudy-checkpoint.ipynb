{
 "cells": [
  {
   "cell_type": "markdown",
   "id": "508a55ff",
   "metadata": {},
   "source": [
    "## Corpus study"
   ]
  },
  {
   "cell_type": "code",
   "execution_count": 1,
   "id": "493dc9ae",
   "metadata": {},
   "outputs": [],
   "source": [
    "from wordsToNumbers import Corpus\n",
    "\n",
    "from wordsToNumbers import fibonacci_vocabulary"
   ]
  },
  {
   "cell_type": "code",
   "execution_count": null,
   "id": "8f81157f",
   "metadata": {},
   "outputs": [],
   "source": []
  },
  {
   "cell_type": "markdown",
   "id": "cfcce0cd",
   "metadata": {},
   "source": [
    "### ORIGINAL CORPUS"
   ]
  },
  {
   "cell_type": "code",
   "execution_count": 2,
   "id": "fc6f9e47",
   "metadata": {
    "scrolled": true
   },
   "outputs": [
    {
     "name": "stdout",
     "output_type": "stream",
     "text": [
      "nr. words:85 \n",
      " nr. distinct words: 59 \n",
      "len.text/len.vocab:1.4406779661016949\n"
     ]
    }
   ],
   "source": [
    "corpus_text = \"Same old dive, same old end of the work week drink Bartender knows my name, but I don't mind She kicks 'em up strong, serves me up right And here I go again I'm drinkin' one, I'm drinkin' two I got my heartache medication, a strong dedication To gettin' over you, turnin' me loose On that hardwood jukebox lost in neon time My heartache medication, well it suits me fine And I'm drinkin' enough to take you off my mind I got my heartache medication\"\n",
    "corpus= Corpus(corpus_text)\n",
    "print(corpus.prop())"
   ]
  },
  {
   "cell_type": "code",
   "execution_count": 3,
   "id": "6a9c2446",
   "metadata": {},
   "outputs": [
    {
     "name": "stdout",
     "output_type": "stream",
     "text": [
      "{'go': 1, 'kicks': 1, 'it': 1, 'me': 3, 'end': 1, 'turnin': 1, 'to': 2, 'gettin': 1, 'heartache': 3, 'off': 1, 'again': 1, 'well': 1, 'knows': 1, 'in': 1, 'over': 1, 'right': 1, 'time': 1, 'jukebox': 1, 'and': 2, 'dedication': 1, 'work': 1, 'enough': 1, 'lost': 1, 'neon': 1, 'dont': 1, 'up': 2, 'one': 1, 'a': 1, 'strong': 2, 'fine': 1, 'drinkin': 3, 'em': 1, 'got': 2, 'loose': 1, 'old': 2, 'same': 2, 'name': 1, 'take': 1, 'here': 1, 'serves': 1, 'you': 2, 'my': 5, 'i': 4, 'drink': 1, 'bartender': 1, 'of': 1, 'dive': 1, 'week': 1, 'medication': 3, 'hardwood': 1, 'on': 1, 'that': 1, 'im': 3, 'she': 1, 'two': 1, 'mind': 2, 'suits': 1, 'the': 1, 'but': 1}\n"
     ]
    }
   ],
   "source": [
    "words_freq = corpus.frequency()\n",
    "print(words_freq)"
   ]
  },
  {
   "cell_type": "code",
   "execution_count": 4,
   "id": "387eac90",
   "metadata": {},
   "outputs": [
    {
     "name": "stdout",
     "output_type": "stream",
     "text": [
      "85\n"
     ]
    }
   ],
   "source": [
    "test=0\n",
    "for k in words_freq:\n",
    "    test=test+words_freq[k]\n",
    "print(test)\n",
    "\n"
   ]
  },
  {
   "cell_type": "code",
   "execution_count": 5,
   "id": "01bc262e",
   "metadata": {},
   "outputs": [
    {
     "data": {
      "text/plain": [
       "85"
      ]
     },
     "execution_count": 5,
     "metadata": {},
     "output_type": "execute_result"
    }
   ],
   "source": [
    "len(corpus_text.split())"
   ]
  },
  {
   "cell_type": "markdown",
   "id": "a433c5dc",
   "metadata": {},
   "source": [
    "## Taylor corpus"
   ]
  },
  {
   "cell_type": "code",
   "execution_count": 6,
   "id": "5e66522f",
   "metadata": {},
   "outputs": [],
   "source": [
    "lines = []\n",
    "with open('TaylorSwift/bulk_taylor.txt') as f:\n",
    "    lines = f.readlines()\n",
    "\n",
    "corpus_text  = \" \"\n",
    "for index in range(int(len(lines)/2)):\n",
    "    corpus_text =  corpus_text+ \"\\n\"+ lines[index]"
   ]
  },
  {
   "cell_type": "code",
   "execution_count": 7,
   "id": "596fcbf5",
   "metadata": {},
   "outputs": [
    {
     "name": "stdout",
     "output_type": "stream",
     "text": [
      "nr. words:3409 \n",
      " nr. distinct words: 1119 \n",
      "len.text/len.vocab:3.0464700625558536\n"
     ]
    }
   ],
   "source": [
    "corpus= Corpus(corpus_text)\n",
    "print(corpus.prop())"
   ]
  },
  {
   "cell_type": "code",
   "execution_count": 8,
   "id": "97c2cfeb",
   "metadata": {},
   "outputs": [
    {
     "name": "stdout",
     "output_type": "stream",
     "text": [
      "{'mewelcome': 1, 'guitarthe': 1, 'million': 1, 'youive': 1, 'nonefor': 1, 'youyou': 5, 'thingim': 1, 'carthere': 1, 'nasty': 1, 'insanebut': 1, 'us': 5, 'emyou': 1, 'niceso': 1, 'timeit': 1, 'come': 5, 'hard': 1, 'dreamsoh': 1, 'best': 5, 'whoaand': 1, 'keep': 5, 'memoryaugust': 1, 'all': 23, 'outwell': 1, 'count': 1, 'oh': 4, 'dancingstood': 1, 'quieti': 1, 'mans': 1, 'tossing': 1, 'ohohohno': 1, 'goes': 2, 'archer': 1, 'meetdarling': 1, 'rememberedand': 1, 'redloving': 1, 'delicateis': 1, 'bought': 2, 'heartshouldve': 1, 'mystified': 1, 'look': 7, 'die': 1, 'slipped': 1, 'great': 1, 'sleeping': 1, 'knownmissing': 1, 'trueit': 1, 'soul': 2, 'gamecause': 1, 'peaceful': 1, 'bear': 1, 'babyill': 1, 'feelingbut': 1, 'fun': 1, 'magic': 2, 'what': 19, 'nightand': 2, 'likei': 1, 'most': 1, 'cant': 8, 'mysterythink': 1, 'rosy': 1, 'offtake': 2, 'somebody': 2, 'anything': 3, 'front': 1, 'lock': 1, 'bedsheetsaugust': 1, 'hollywood': 1, 'body': 2, 'nearbut': 1, 'space': 1, 'mind': 1, 'recall': 1, 'forgot': 3, 'singing': 1, 'youre': 15, 'big': 2, 'end': 2, 'love': 13, 'badthen': 1, 'its': 25, 'longand': 1, 'peacehey': 1, 'at': 10, 'bloodyou': 1, 'badbut': 1, 'used': 1, 'cafe': 1, 'bodyits': 1, 'souland': 1, 'wateryou': 1, 'madno': 1, 'stringtying': 1, 'and': 36, 'london': 2, 'existedand': 1, 'say': 5, 'tell': 8, 'dowe': 1, 'monthsthinking': 1, 'running': 1, 'green': 1, 'feeling': 3, 'lost': 2, 'goesi': 1, 'timeare': 1, 'downin': 1, 'partywould': 1, 'woman': 1, 'feet': 1, 'slicked': 1, 'stayall': 4, 'blank': 1, 'john': 1, 'palm': 1, 'prince': 1, 'ocean': 1, 'ohoh': 10, 'no': 6, 'itisnt': 3, 'could': 13, 'rules': 1, 'thisyour': 1, 'real': 1, 'man': 2, 'diceyou': 1, 'aint': 5, 'meantsorry': 1, 'an': 3, 'calm': 2, 'did': 2, 'hit': 1, 'american': 2, 'garden': 1, 'meanwhy': 1, 'existedit': 1, 'death': 2, 'friend': 3, 'drunk': 1, 'false': 2, 'homei': 1, 'innocentshes': 1, 'manand': 1, 'it': 61, 'heyall': 1, 'tryingsaying': 1, 'dynastywho': 1, 'devils': 1, 'cliffside': 1, 'princess': 1, 'haahcarve': 1, 'down': 8, 'ahaah': 2, 'dead': 1, 'darling': 1, 'wantin': 1, 'warmif': 1, 'impressand': 1, 'youbeen': 1, 'themand': 1, 'missing': 1, 'camden': 1, 'theres': 4, 'backnow': 1, 'downand': 1, 'godwed': 2, 'defense': 1, 'itso': 1, 'soroaring': 1, 'dreambaby': 1, 'andi': 1, 'shakei': 2, 'thatevery': 1, 'ohohyou': 1, 'meif': 1, 'keepand': 1, 'towni': 1, 'if': 17, 'know': 25, 'miss': 1, 'our': 4, 'proudlywe': 1, 'worship': 3, 'rolling': 1, 'streamhigh': 1, 'leaving': 1, 'boyboy': 1, 'felt': 1, 'walk': 5, 'chill': 1, 'haveand': 1, 'lovehe': 1, 'affairsand': 1, 'gorgeousbut': 1, 'these': 1, 'yours': 2, 'gonedont': 1, 'ruining': 1, 'stupid': 2, 'againthats': 1, 'youhush': 1, 'doesnt': 1, 'downnow': 1, 'knowsbut': 1, 'messed': 1, 'maddest': 1, 'ii': 1, 'blame': 1, 'picture': 1, 'dies': 2, 'crazyif': 1, 'betteri': 1, 'babys': 2, 'by': 5, 'though': 2, 'showbut': 1, 'yorkwelcome': 1, 'paingot': 1, 'sitting': 1, 'roombut': 1, 'with': 19, 'summerits': 1, 'is': 26, 'illkeep': 1, 'players': 1, 'haand': 1, 'should': 4, 'sweatshirtbaby': 1, 'been': 13, 'thousand': 2, 'throw': 1, 'dearyoull': 1, 'metbut': 1, 'first': 7, 'facecause': 1, 'time': 4, 'mecause': 1, 'inso': 2, 'sing': 1, 'togetheri': 1, 'child': 1, 'spending': 1, 'lipseven': 1, 'playersand': 1, 'endbut': 1, 'trueyou': 1, 'meanlong': 1, 'oohi': 2, 'saint': 1, 'places': 5, 'wednesday': 1, 'slamming': 1, 'them': 3, 'indifferencei': 1, 'cold': 1, 'likeand': 1, 'goodnever': 1, 'alonebut': 1, 'every': 4, 'mama': 1, 'make': 1, 'break': 6, 'lead': 2, 'preywho': 1, 'heynow': 2, 'hipseven': 1, 'pretendersone': 1, 'sorry': 1, 'this': 20, 'known': 2, 'breatheand': 1, 'okaywere': 1, 'shake': 12, 'small': 1, 'thats': 9, 'tiedyeah': 2, 'life': 3, 'will': 3, 'honey': 1, 'thought': 3, 'clandestine': 1, 'wonderstruckblushing': 1, 'aroundcause': 1, 'outcause': 1, 'ricochetsay': 1, 'wantthis': 1, 'anthemwe': 1, 'longing': 1, 'loveeven': 1, 'whenever': 2, 'id': 10, 'everand': 1, 'closeforever': 1, 'hadand': 1, 'market': 1, 'tied': 2, 'meand': 2, 'or': 1, 'believe': 1, 'late': 3, 'itreligions': 1, 'knownlosing': 1, 'babyand': 1, 'downim': 1, 'wishes': 1, 'school': 1, 'heart': 5, 'meheartbreak': 1, 'coming': 1, 'better': 4, 'compasses': 1, 'tiptoesspinning': 2, 'loudand': 1, 'quicker': 1, 'hidei': 1, 'meridin': 1, 'knew': 4, 'kinda': 1, 'screaming': 1, 'mineand': 2, 'goesim': 1, 'haahand': 1, 'world': 1, 'offheartbreakers': 1, 'tallest': 2, 'flying': 1, 'was': 30, 'clues': 1, 'pouring': 2, 'lying': 1, 'ten': 1, 'comeall': 1, 'inthis': 1, 'donecause': 1, 'take': 8, 'bring': 1, 'remember': 2, 'innocentyoure': 1, 'mebut': 1, 'lasts': 1, 'whoasoon': 1, 'nameand': 1, 'meansomeday': 1, 'carwe': 1, 'bluebut': 1, 'youwelcome': 3, 'just': 29, 'yousay': 1, 'under': 3, 'car': 1, 'styleyou': 1, 'prizesits': 1, 'donti': 1, 'youve': 2, 'beentil': 1, 'kissnever': 1, 'staresits': 1, 'fairytaleim': 1, 'freedom': 1, 'loveyou': 1, 'likely': 1, 'hero': 1, 'always': 1, 'over': 4, 'stoodwas': 1, 'ohohahhno': 1, 'youyoure': 2, 'tea': 1, 'cool': 3, 'cutsand': 1, 'chasing': 1, 'oohits': 1, 'loverooh': 1, 'hatebaby': 1, 'highest': 2, 'cornelia': 4, 'songsthe': 1, 'ohohtrouble': 2, 'lovestay': 1, 'loving': 1, 'fifteen': 2, 'smileits': 1, 'red': 2, 'tois': 1, 'we': 50, 'rightlord': 1, 'ohyou': 1, 'worldthey': 1, 'friends': 3, 'screams': 1, 'altar': 1, 'day': 2, 'couldve': 2, 'sayyoure': 1, 'huh': 2, 'night': 4, 'timegave': 1, 'fall': 2, 'meanwanna': 1, 'fancy': 2, 'cleanoh': 1, 'lifethey': 1, 'comingand': 1, 'wont': 3, 'summercross': 1, 'street': 4, 'said': 5, 'mandont': 1, 'ahtake': 1, 'wishing': 3, 'ibelieveindontwant': 1, 'nowflew': 2, 'head': 2, 'list': 2, 'tears': 1, 'wanna': 6, 'told': 1, 'friendsshe': 1, 'except': 1, 'give': 1, 'aloneforgetting': 1, 'mineso': 1, 'kill': 1, 'belong': 2, 'back': 10, 'doeson': 1, 'god': 1, 'ooh': 4, 'youll': 4, 'careless': 1, 'glancebut': 1, 'into': 3, 'burned': 1, 'theyre': 1, 'does': 1, 'tapping': 1, 'strange': 1, 'folk': 1, 'upchandeliers': 1, 'sadness': 1, 'terrified': 1, 'kidi': 1, 'ohi': 1, 'pooland': 1, 'youand': 2, 'hate': 6, 'right': 2, 'momentlipstick': 1, 'downwatch': 1, 'methis': 1, 'timecause': 3, 'forever': 4, 'walls': 1, 'madeand': 1, 'almost': 2, 'cari': 1, 'mattress': 1, 'one': 13, 'fardont': 1, 'cause': 1, 'laughthe': 1, 'yetcause': 1, 'awayid': 1, 'enoughcause': 1, 'yorkits': 1, 'thatll': 1, 'build': 1, 'togetherlike': 1, 'boarded': 1, 'actress': 1, 'takes': 1, 'him': 6, 'pennies': 1, 'careful': 1, 'breakable': 1, 'upi': 1, 'went': 3, 'little': 3, 'of': 37, 'whisper': 1, 'otherand': 1, 'gardenin': 1, 'busy': 1, 'clear': 8, 'hey': 1, 'as': 3, 'avenuei': 1, 'dreams': 2, 'togetheryou': 1, 'youso': 1, 'oohare': 1, 'but': 11, 'so': 20, 'teardrops': 1, 'james': 1, 'offrain': 1, 'still': 10, 'downwhen': 1, 'cutsflashbacks': 1, 'dancingdancing': 2, 'hmmor': 1, 'namebut': 1, 'tells': 1, 'swallowing': 1, 'might': 2, 'waybut': 1, 'else': 2, 'dancingand': 1, 'put': 3, 'wish': 1, 'breakand': 1, 'sit': 1, 'bricks': 1, 'playground': 1, 'have': 11, 'fake': 5, 'gorgeousi': 1, 'think': 11, 'doour': 1, 'motionstanding': 1, 'silence': 4, 'meetings': 1, 'who': 5, 'stealing': 1, 'othershade': 1, 'enjoy': 1, 'saving': 1, 'would': 7, 'outyou': 1, 'sparklingdont': 1, 'leavethink': 1, 'kingdom': 1, 'staycause': 1, 'handthen': 1, 'waiting': 4, 'realized': 1, 'yetare': 4, 'understands': 1, 'rumors': 1, 'haters': 1, 'mmif': 1, 'oneoohmy': 1, 'marry': 1, 'home': 5, 'blind': 1, 'floorwearing': 1, 'my': 38, 'woodsare': 2, 'womanwhat': 1, 'i': 102, 'lipsand': 1, 'instay': 1, 'paint': 1, 'gownyou': 1, 'problemsand': 1, 'nice': 6, 'im': 22, 'let': 4, 'the': 124, 'slowcause': 1, 'me': 57, 'meoohoohoohoohits': 1, 'knocked': 1, 'goodbye': 1, 'mestanding': 1, 'now': 8, 'city': 1, 'sunset': 1, 'darlingbecause': 1, 'youin': 1, 'shoulda': 1, 'trying': 1, 'starhes': 1, 'fakebaby': 1, 'easyall': 1, 'goodare': 2, 'knowour': 1, 'are': 19, 'doin': 1, 'okaythe': 1, 'ido': 1, 'funif': 1, 'bright': 2, 'tragic': 1, 'crashed': 1, 'samebaby': 1, 'enough': 3, 'wouldve': 3, 'ibut': 1, 'showed': 2, 'drowning': 1, 'pretty': 1, 'morning': 1, 'timeyou': 1, 'herecause': 1, 'toso': 1, 'boyi': 1, 'againeven': 1, 'wait': 3, 'alright': 3, 'didntand': 1, 'goodi': 1, 'amenasking': 1, 'jet': 1, 'didive': 1, 'those': 1, 'here': 1, 'againdo': 1, 'drug': 1, 'thismiss': 1, 'downbut': 1, 'gotand': 1, 'hoax': 1, 'whoashes': 1, 'wed': 3, 'stylebut': 1, 'save': 1, 'loveshining': 2, 'there': 7, 'once': 2, 'sceneloves': 1, 'weve': 4, 'toeverything': 1, 'ive': 3, 'timessweet': 1, 'ohdid': 1, 'redwelcome': 1, 'peoples': 1, 'didnt': 3, 'accidents': 1, 'dirty': 1, 'step': 1, 'secretthe': 1, 'details': 1, 'ill': 8, 'whys': 2, 'feel': 4, 'getting': 3, 'wonderlandey': 3, 'myself': 1, 'around': 5, 'national': 1, 'living': 1, 'gocan': 1, 'worksthats': 2, 'hurt': 1, 'latewell': 1, 'stayand': 1, 'afire': 1, 'claws': 1, 'something': 6, 'fast': 1, 'new': 13, 'haawildest': 1, 'withthe': 1, 'worth': 1, 'shes': 3, 'comes': 1, 'feetbaby': 1, 'clothesall': 1, 'rest': 1, 'figure': 1, 'a': 65, 'wave': 1, 'downcause': 1, 'eight': 1, 'bedpostcause': 1, 'dressin': 1, 'mindthere': 1, 'againthat': 1, 'walked': 2, 'windowwhen': 1, 'enchanted': 1, 'turns': 1, 'drivin': 1, 'breathe': 1, 'looking': 2, 'twisted': 1, 'canwondering': 1, 'frames': 1, 'true': 1, 'haunt': 1, 'rings': 1, 'hands': 4, 'about': 6, 'other': 2, 'thatis': 2, 'slow': 1, 'mineim': 1, 'nowmeet': 1, 'hes': 1, 'fit': 1, 'beennow': 1, 'yorkthis': 1, 'ringsuh': 1, 'dance': 1, 'daughteryou': 1, 'woods': 6, 'meet': 1, 'dowith': 1, 'faceand': 2, 'castleout': 1, 'knewi': 1, 'furiousat': 1, 'seeyou': 1, 'bad': 8, 'ohits': 3, 'worshipwe': 1, 'winecause': 1, 'imagined': 1, 'through': 1, 'summerwith': 1, 'goking': 1, 'morninggone': 1, 'sick': 2, 'friendonly': 2, 'foundand': 1, 'their': 1, 'next': 1, 'dean': 1, 'babered': 1, 'headim': 1, 'mein': 1, 'matesso': 1, 'year': 1, 'dark': 2, 'am': 1, 'dressstaring': 1, 'hear': 2, 'pretended': 1, 'live': 2, 'phone': 1, 'brand': 1, 'beenyoure': 1, 'fore': 1, 'guess': 1, 'things': 7, 'bet': 1, 'everything': 4, 'cheekssay': 1, 'yet': 10, 'for': 19, 'along': 3, 'rightdarling': 2, 'foreverwondering': 1, 'ever': 16, 'out': 21, 'mad': 4, 'delicateand': 1, 'faceso': 1, 'blood': 2, 'reasonyour': 1, 'faithless': 1, 'placesdear': 1, 'how': 7, 'faith': 1, 'isi': 1, 'youyour': 1, 'youno': 1, 'heavenbut': 1, 'see': 12, 'youit': 1, 'americana': 1, 'throughall': 1, 'fuck': 1, 'affaircause': 1, 'can': 11, 'far': 1, 'town': 2, 'date': 1, 'marvelous': 1, 'youwishing': 1, 'sad': 2, 'foreveror': 1, 'thinkall': 1, 'run': 2, 'soundtrack': 1, 'to': 65, 'curious': 1, 'stopsi': 1, 'had': 11, 'middle': 2, 'illicit': 1, 'wouldnt': 1, 'pretend': 2, 'tails': 1, 'homeill': 1, 'his': 2, 'til': 1, 'afternoonhe': 1, 'endsid': 1, 'cruel': 2, 'girlbut': 1, 'smile': 1, 'wanted': 2, 'attitude': 1, 'womanand': 1, 'screaminggive': 1, 'getaway': 4, 'flyin': 1, 'likes': 2, 'saying': 1, 'play': 6, 'being': 1, 'worse': 2, 'such': 1, 'fakers': 1, 'faritll': 1, 'flickering': 1, 'breathing': 1, 'party': 1, 'they': 6, 'downgive': 1, 'babyin': 1, 'welcome': 3, 'tryingi': 1, 'eywe': 1, 'old': 1, 'before': 2, 'you': 119, 'came': 2, 'moment': 2, 'saidthere': 1, 'that': 31, 'soon': 1, 'hair': 1, 'scargot': 1, 'headcause': 1, 'stayedlook': 1, 'whats': 1, 'sirens': 1, 'track': 1, 'outand': 1, 'streetlight': 1, 'not': 12, 'itand': 2, 'funny': 1, 'arm': 1, 'where': 5, 'breathless': 1, 'manid': 2, 'well': 1, 'young': 2, 'again': 1, 'notits': 1, 'dancinglike': 1, 'eyes': 2, 'born': 1, 'liketrying': 1, 'dolook': 6, 'many': 1, 'solve': 1, 'whoa': 2, 'tshirtand': 1, 'trust': 1, 'forking': 1, 'eyey': 1, 'flamesyou': 1, 'delicate': 1, 'troubleoh': 1, 'kiss': 2, 'her': 5, 'summer': 1, 'braids': 1, 'eyin': 4, 'againid': 1, 'theyll': 1, 'cried': 1, 'made': 12, 'gonna': 14, 'youdancin': 1, 'blue': 2, 'got': 16, 'place': 2, 'againand': 2, 'facei': 1, 'everythingive': 1, 'moon': 1, 'placegetting': 1, 'shined': 1, 'sidewalktake': 1, 'screen': 1, 'walking': 2, 'anythingbut': 1, 'lips': 1, 'only': 4, 'everi': 1, 'isnt': 7, 'lipstickwith': 1, 'groundsomeday': 1, 'goodthey': 1, 'haai': 1, 'good': 3, 'shiny': 1, 'cascade': 1, 'from': 2, 'aroundand': 1, 'making': 1, 'when': 16, 'womanyou': 1, 'thing': 5, 'romanticscome': 1, 'troublecause': 1, 'freewe': 1, 'shame': 3, 'york': 6, 'ey': 14, 'levisdrunk': 1, 'daydream': 1, 'diesa': 1, 'okay': 1, 'th': 1, 'style': 2, 'your': 26, 'oohand': 1, 'knows': 1, 'in': 58, 'thingshush': 1, 'doso': 1, 'loseyou': 1, 'yourwildest': 1, 'youbut': 1, 'saw': 2, 'watched': 1, 'toyson': 1, 'sweep': 1, 'way': 8, 'delicateisnt': 1, 'paper': 2, 'dont': 17, 'really': 1, 'daylighti': 1, 'beenthere': 1, 'babyi': 1, 'spend': 1, 'saturnpassed': 1, 'dreamer': 1, 'long': 5, 'sipped': 1, 'ha': 4, 'homeyoure': 1, 'patternlove': 1, 'write': 1, 'graceand': 1, 'cutand': 1, 'dreamsyou': 1, 'awaythis': 1, 'mewould': 2, 'thisuh': 1, 'befifteendrop': 1, 'above': 1, 'then': 1, 'afterglowbut': 1, 'playand': 1, 'beat': 3, 'away': 6, 'ready': 1, 'couldit': 1, 'holy': 1, 'mendid': 1, 'seeyour': 1, 'whole': 4, 'get': 10, 'go': 15, 'single': 1, 'everbroke': 1, 'dreamsi': 1, 'baby': 7, 'knowsi': 1, 'heytime': 1, 'reason': 1, 'youi': 4, 'stairwellthis': 1, 'knewhes': 1, 'youtook': 1, 'need': 4, 'deep': 1, 'beautiful': 2, 'whyd': 1, 'meooh': 1, 'loves': 2, 'than': 1, 'rainkiss': 1, 'want': 14, 'leave': 2, 'loveso': 1, 'seeand': 1, 'games': 1, 'myselfor': 1, 'bless': 1, 'watch': 1, 'lights': 8, 'begin': 1, 'therewhat': 1, 'bluevoted': 1, 'thatand': 1, 'meoh': 1, 'lip': 1, 'tight': 1, 'keeps': 1, 'insanecause': 1, 'itthe': 1, 'missingand': 1, 'lovewed': 2, 'last': 4, 'up': 4, 'cityand': 1, 'missi': 1, 'wrap': 1, 'gave': 1, 'string': 1, 'tomy': 1, 'crashing': 2, 'smileget': 1, 'forevermorethe': 1, 'high': 1, 'heartbeatskipping': 1, 'battlebut': 1, 'name': 5, 'any': 1, 'grey': 1, 'revenge': 1, 'pieces': 1, 'daylight': 1, 'song': 3, 'skirtand': 1, 'december': 1, 'windows': 1, 'starts': 1, 'on': 19, 'signswere': 1, 'poke': 1, 'fly': 3, 'gotta': 2, 'groundoh': 1, 'rebel': 1, 'brittle': 1, 'sparks': 2, 'yeahcall': 2, 'usin': 1, 'he': 4, 'stop': 1, 'caught': 1, 'twenties': 1, 'noose': 1, 'be': 23, 'seventeen': 1, 'newso': 1, 'blues': 1, 'doorsneakin': 1, 'like': 24, 'find': 3, 'togetherwe': 1, 'waking': 1, 'off': 4, 'recklesswell': 1, 'too': 7, 'thinkshes': 1, 'why': 6, 'trouble': 4, 'goodmost': 1, 'hallway': 1, 'people': 2, 'talk': 4, 'daydreamwalking': 1, 'heartbreak': 2, 'heels': 2, 'youhand': 1, 'finally': 2, 'laughing': 1, 'whoai': 1, 'burn': 1, 'stayhad': 1, 'trace': 1, 'paincause': 1, 'ohand': 1, 'win': 1, 'bottle': 1, 'darlingbut': 1, 'white': 2, 'dancing': 2, 'were': 20, 'timeyeah': 1, 'found': 2, 'girl': 7, 'againcause': 1, 'someinvisible': 1, 'gomeet': 1, 'goim': 1, 'laughingas': 1, 'wonderlandyou': 3, 'woodsif': 1, 'caryou': 1, 'threw': 1, 'lostin': 1, 'call': 3, 'emno': 1, 'eyeand': 1, 'wakecursing': 1, 'has': 1, 'hope': 3, 'themi': 1, 'seenshe': 1, 'dress': 3, 'ah': 1, 'serve': 1, 'pridestanding': 1, 'met': 3, 'nothing': 7, 'romanticsthe': 1, 'do': 13, 'she': 4, 'never': 33, 'highgate': 1, 'exloverstheyll': 2, 'horseto': 1, 'classic': 1, 'shape': 1, 'lose': 3}\n"
     ]
    }
   ],
   "source": [
    "words_freq = corpus.frequency()\n",
    "print(words_freq)"
   ]
  },
  {
   "cell_type": "markdown",
   "id": "04f7a497",
   "metadata": {},
   "source": [
    "## Country mixt corpus"
   ]
  },
  {
   "cell_type": "code",
   "execution_count": 9,
   "id": "bf9d2f39",
   "metadata": {},
   "outputs": [],
   "source": [
    "# https://www.azlyrics.com/lyrics/bobdylan/babyletmefollowyoudown.html"
   ]
  },
  {
   "cell_type": "code",
   "execution_count": 10,
   "id": "67f41357",
   "metadata": {},
   "outputs": [],
   "source": [
    "import os"
   ]
  },
  {
   "cell_type": "code",
   "execution_count": 11,
   "id": "16dd0dcd",
   "metadata": {},
   "outputs": [],
   "source": [
    "def song_as_corpus(path,limit=1):\n",
    "    lines = []\n",
    "    with open(path) as f:\n",
    "        lines = f.readlines()\n",
    "\n",
    "    corpus_text  = \" \"\n",
    "    for index in range(int(len(lines)*limit)):\n",
    "        corpus_text =  corpus_text+ \"\\n \"+ lines[index]\n",
    "        \n",
    "    return corpus_text"
   ]
  },
  {
   "cell_type": "code",
   "execution_count": 12,
   "id": "ab9dea66",
   "metadata": {},
   "outputs": [
    {
     "name": "stdout",
     "output_type": "stream",
     "text": [
      "CountryMixt/original.txt\n",
      "CountryMixt/InMyTimeOfDying.txt\n",
      "CountryMixt/BigDreamsAndFadedJeans.txt\n",
      "CountryMixt/ShesNoGood.txt\n",
      "CountryMixt/ManOfConstantSorrow.txt\n",
      "CountryMixt/PettyPeggy.txt\n",
      "CountryMixt/FeelingFunnyInMyMindLord.txt\n",
      "CountryMixt/TalkinNewYork.txt\n",
      "CountryMixt/BabyLetMeFollowYouDown.txt\n"
     ]
    }
   ],
   "source": [
    "country_mixt_path='CountryMixt'\n",
    "songs_files = os.listdir(country_mixt_path)\n",
    "\n",
    "corpus_text = \"\"\n",
    "for f in songs_files:\n",
    "    if f[0] != \".\":\n",
    "        path = country_mixt_path+\"/\"+f\n",
    "        print(path)\n",
    "        corpus_text = corpus_text+song_as_corpus(path,limit=1) + \" \""
   ]
  },
  {
   "cell_type": "code",
   "execution_count": 13,
   "id": "912029c4",
   "metadata": {},
   "outputs": [
    {
     "name": "stdout",
     "output_type": "stream",
     "text": [
      "nr. words:1648 \n",
      " nr. distinct words: 499 \n",
      "len.text/len.vocab:3.302605210420842\n"
     ]
    }
   ],
   "source": [
    "corpus= Corpus(corpus_text)\n",
    "print(corpus.prop())"
   ]
  },
  {
   "cell_type": "code",
   "execution_count": 14,
   "id": "8ec180e1",
   "metadata": {},
   "outputs": [
    {
     "name": "stdout",
     "output_type": "stream",
     "text": [
      "{'partly': 1, 'somethin': 2, 'subway': 1, 'come': 11, 'hillbilly': 1, 'best': 1, 'busting': 3, 'faded': 11, 'lord': 10, 'started': 1, 'all': 5, 'dollar': 2, 'goes': 1, 'pulled': 1, 'die': 22, 'look': 2, 'outa': 1, 'great': 1, 'sleeping': 1, 'easy': 6, 'what': 7, 'wild': 1, 'somebody': 1, 'anything': 4, 'prettiest': 1, 'downs': 1, 'body': 1, 'mind': 7, 'food': 2, 'knowed': 1, 'big': 14, 'youre': 10, 'catch': 1, 'end': 1, 'heard': 1, 'love': 3, 'kind': 3, 'its': 2, 'at': 4, 'backio': 1, 'ariding': 1, 'ups': 1, 'and': 37, 'say': 5, 'tell': 1, 'ric': 2, 'green': 1, 'lost': 1, 'stairs': 4, 'feeling': 4, 'woman': 3, 'strong': 2, 'fine': 1, 'feet': 1, 'same': 2, 'no': 3, 'blowed': 1, 'burying': 2, 'stranger': 1, 'shore': 1, 'could': 1, 'man': 7, 'dive': 1, 'hardwood': 1, 'lot': 2, 'open': 1, 'an': 1, 'hold': 1, 'hit': 1, 'captain': 5, 'satisfied': 2, 'm': 3, 'it': 4, 'crazy': 1, 'mmhmmmmmm': 2, 'down': 23, 'dead': 4, 'lungs': 1, 'fell': 1, 'theres': 1, 'accomplish': 1, 'cap': 1, 'together': 3, 'if': 6, 'know': 3, 'future': 1, 'years': 2, 'money': 2, 'our': 5, 'rolling': 1, 'light': 1, 'walk': 1, 'these': 1, 'provide': 1, 'anybody': 1, 'eat': 1, 'buried': 1, 'mama': 1, 'ice': 1, 'lonesome': 1, 'guitar': 3, 'desire': 1, 'with': 10, 'is': 9, 'should': 1, 'been': 1, 'greater': 1, 'cut': 1, 'smoke': 1, 'pull': 1, 'time': 3, 'sing': 1, 'first': 1, 'jumpin': 1, 'air': 1, 'favorite': 1, 'lay': 3, 'golden': 1, 'them': 1, 'cold': 1, 'make': 10, 'rambled': 1, 'landed': 1, 'serves': 1, 'this': 7, 'will': 5, 'thought': 1, 'longing': 1, 'cry': 1, 'id': 2, 'believe': 6, 'or': 1, 'loved': 2, 'table': 1, 'gettin': 1, 'ole': 1, 'coming': 1, 'froze': 1, 'kinda': 2, 'pastures': 1, 'promise': 1, 'world': 6, 'blowin': 2, 'was': 6, 'take': 6, 'understand': 1, 'western': 1, 'hitch': 1, 'just': 11, 'car': 2, 'dedication': 1, 'jesus': 11, 'goin': 2, 'sure': 1, 'passion': 1, 'coldest': 1, 'heartache': 3, 'makes': 1, 'always': 4, 'over': 5, 'helped': 2, 'devil': 1, 'children': 3, 'union': 1, 'mornin': 2, 'we': 4, 'day': 3, 'screams': 1, 'night': 1, 'louisianao': 1, 'wont': 1, 'expect': 1, 'begun': 1, 'dreamed': 1, 'semitruck': 1, 'said': 4, 'some': 3, 'sometimes': 1, 'head': 4, 'wanna': 3, 'sun': 2, 'give': 6, 'mcgee': 1, 'towns': 1, 'perhaps': 1, 'back': 3, 'harmonica': 1, 'god': 5, 'scared': 1, 'youll': 1, 'treat': 1, 'into': 1, 'folk': 1, 'fenneario': 1, 'hate': 3, 'jeans': 12, 'right': 3, 'jukebox': 1, 'headed': 1, 'ways': 1, 'ya': 1, 'one': 6, 'rocking': 1, 'him': 1, 'lives': 1, 'little': 1, 'of': 18, 'even': 2, 'as': 6, 'stage': 1, 'sky': 1, 'dreams': 14, 'rising': 3, 'but': 8, 'so': 9, 'bed': 4, 'kicks': 1, 'east': 1, 'put': 2, 'wish': 1, 'seen': 2, 'youd': 1, 'have': 2, 'heres': 1, 'team': 3, 'would': 1, 'nashville': 1, 'waiting': 1, 'sound': 3, 'home': 5, 'longin': 1, 'my': 43, 'i': 60, 'im': 17, 'ramble': 1, 'let': 9, 'suits': 1, 'guide': 1, 'the': 49, 'me': 31, 'fennerio': 1, 'goodbye': 1, 'now': 1, 'means': 1, 'takin': 1, 'very': 1, 'are': 1, 'doin': 1, 'much': 1, 'ramblin': 1, 'enough': 1, 'pretty': 6, 'von': 1, 'em': 1, 'boots': 1, 'died': 1, 'coffeehouses': 1, 'loose': 1, 'here': 2, 'onto': 1, 'freeze': 1, 'there': 4, 'once': 1, 'ive': 4, 'fixing': 11, 'lieutenant': 4, 'didnt': 2, 'more': 1, 'ill': 8, 'feel': 1, 'around': 4, 'dues': 1, 'new': 6, 'worth': 1, 'insane': 1, 'dirt': 1, 'drives': 1, 'hangin': 1, 'village': 1, 'a': 35, 'university': 1, 'den': 1, 'walked': 1, 'sorrow': 1, 'medication': 3, 'notion': 1, 'agoin': 1, 'about': 2, 'wings': 1, 'other': 1, 'skies': 1, 'block': 1, 'hes': 2, 'fit': 3, 'after': 2, 'meet': 4, 'wintertime': 1, 'stars': 1, 'dove': 1, 'bad': 1, 'paid': 1, 'mourn': 1, 'sleet': 1, 'weeks': 2, 'through': 2, 'orange': 1, 'their': 2, 'rain': 1, 'thumb': 1, 'maid': 1, 'am': 1, 'shirt': 1, 'guess': 2, 'yet': 1, 'for': 7, 'gods': 1, 'along': 1, 'ever': 1, 'out': 7, 'wind': 1, 'how': 2, 'week': 1, 'see': 2, 'snow': 2, 'babe': 1, 'brain': 1, 'can': 9, 'gone': 5, 'town': 4, 'luck': 1, 'mother': 5, 'sweet': 1, 'to': 51, 'upside': 1, 'fill': 1, 'had': 3, 'middle': 1, 'wouldnt': 1, 'rodeo': 1, 'talkin': 1, 'harvard': 1, 'his': 1, 'til': 1, 'warm': 1, 'crying': 3, 'player': 1, 'ohohohoh': 2, 'sooner': 1, 'play': 2, 'they': 2, 'old': 3, 'you': 36, 'reeling': 1, 'seems': 1, 'knives': 1, 'that': 10, 'nobody': 3, 'howdy': 1, 'winter': 1, 'hair': 1, 'yes': 3, 'funny': 6, 'singers': 1, 'where': 3, 'says': 1, 'again': 1, 'well': 48, 'pair': 1, 'raised': 1, 'eyes': 4, 'born': 1, 'swung': 1, 'marched': 3, 'many': 1, 'work': 1, 'schmidt': 1, 'neon': 1, 'times': 1, 'her': 1, 'heck': 1, 'gonna': 9, 'place': 3, 'got': 7, 'somewhere': 1, 'walking': 2, 'follow': 7, 'quite': 1, 'almighty': 4, 'country': 1, 'from': 2, 'when': 6, 'word': 1, 'seams': 3, 'turnin': 1, 'york': 6, 'ride': 2, 'forks': 1, 'destiny': 1, 'train': 1, 'your': 11, 'knows': 1, 'in': 26, 'bone': 2, 'constant': 1, 'downtown': 1, 'buildings': 1, 'way': 1, 'black': 1, 'ravin': 1, 'rob': 1, 'dont': 10, 'fear': 1, 'drinkin': 3, 'n': 1, 'darned': 1, 'inside': 1, 'long': 3, 'bigger': 2, 'drink': 1, 'above': 4, 'combing': 1, 'then': 2, 'yellow': 1, 'away': 1, 'face': 1, 'whole': 1, 'seenio': 1, 'get': 2, 'go': 2, 'texas': 1, 'cambridge': 1, 'baby': 5, 'past': 1, 'peggyo': 5, 'than': 1, 'want': 8, 'leave': 3, 'west': 1, 'pen': 1, 'lions': 1, 'ground': 3, 'leavin': 1, 'beams': 1, 'last': 2, 'up': 20, 'greenwich': 1, 'silent': 1, 'lady': 1, 'fail': 1, 'name': 2, 'side': 1, 'fountain': 1, 'song': 1, 'joined': 1, 'bartender': 1, 'later': 1, 'shoes': 1, 'grabbed': 1, 'on': 10, 'gotta': 1, 'job': 2, 'he': 13, 'be': 9, 'seventeen': 1, 'railroad': 1, 'arunning': 4, 'blues': 6, 'like': 8, 'find': 3, 'free': 3, 'freedoms': 1, 'ended': 1, 'yonder': 2, 'upon': 1, 'off': 1, 'too': 2, 'why': 1, 'trouble': 1, 'days': 2, 'people': 3, 'finally': 2, 'bobby': 1, 'found': 1, 'girl': 1, 'another': 3, 'colorado': 2, 'has': 4, 'nowhere': 1, 'path': 1, 'met': 1, 'she': 2, 'do': 7, 'never': 6, 'may': 2, 'two': 1, 'going': 1, 'dying': 9, 'lose': 2, 'abound': 2}\n"
     ]
    }
   ],
   "source": [
    "words_freq = corpus.frequency()\n",
    "print(words_freq)"
   ]
  },
  {
   "cell_type": "code",
   "execution_count": 15,
   "id": "c4203308",
   "metadata": {},
   "outputs": [
    {
     "name": "stdout",
     "output_type": "stream",
     "text": [
      "1648\n"
     ]
    }
   ],
   "source": [
    "test=0\n",
    "for k in words_freq:\n",
    "    test=test+words_freq[k]\n",
    "print(test)"
   ]
  },
  {
   "cell_type": "code",
   "execution_count": 17,
   "id": "8c99d78d",
   "metadata": {},
   "outputs": [
    {
     "data": {
      "text/plain": [
       "{'partly': [0.0, 1.0, 0.0],\n",
       " 'somethin': [-0.06601819570659982, 0.9959839357429718, 0.060478075180885736],\n",
       " 'subway': [0.011058487466867974, 0.9919678714859438, -0.12600576095794697],\n",
       " 'come': [0.09416311661652535, 0.9879518072289156, 0.12281911114391847],\n",
       " 'hillbilly': [-0.17579398395351573, 0.9839357429718876, -0.03109548050940358],\n",
       " 'best': [0.16823859232153715, 0.9799196787148594, -0.10701962119646269],\n",
       " 'busting': [-0.05664619191328753, 0.9759036144578314, 0.21072101041392016],\n",
       " 'faded': [-0.10851849104812623, 0.9718875502008032, -0.2089457510104454],\n",
       " 'lord': [0.23618801444269322, 0.9678714859437751, 0.08625548406105461],\n",
       " 'started': [-0.24626953754128653, 0.963855421686747, 0.1016564851067754],\n",
       " 'all': [0.11891007354997837, 0.9598393574297188, -0.25410392035000795],\n",
       " 'dollar': [0.08797206350487134, 0.9558232931726908, 0.2804688008873844],\n",
       " 'goes': [-0.2653576107072834, 0.9518072289156626, -0.1537801593951876],\n",
       " 'pulled': [0.3114537853452374, 0.9477911646586346, -0.0684722410116087],\n",
       " 'die': [-0.19013100438401323, 0.9437751004016064, 0.27044178862347457],\n",
       " 'look': [-0.0439297875065999, 0.9397590361445783, -0.3390031382660611],\n",
       " 'outa': [0.2696784762630986, 0.9357429718875502, 0.2272853052959404],\n",
       " 'great': [-0.3628495838337743, 0.9317269076305221, 0.015004969474187188],\n",
       " 'sleeping': [0.26460573656858644, 0.927710843373494, -0.26331804963244804],\n",
       " 'easy': [-0.017697289990262124, 0.9236947791164658, 0.38272021237450216],\n",
       " 'what': [-0.25158834708100475, 0.9196787148594378, -0.30148692351002704],\n",
       " 'wild': [0.398358017676368, 0.9156626506024097, 0.05359850785911683],\n",
       " 'somebody': [-0.3373523059466557, 0.9116465863453815, 0.2347209476746523],\n",
       " 'anything': [0.09213168978662398, 0.9076305220883534, -0.4095345981851647],\n",
       " 'prettiest': [0.21296579649458391, 0.9036144578313253, 0.37165371129806773],\n",
       " 'downs': [-0.4160582138022578, 0.8995983935742972, -0.13273391807001939],\n",
       " 'body': [0.4038724815413378, 0.8955823293172691, -0.18659933029969925],\n",
       " 'mind': [-0.17484330705103948, 0.891566265060241, 0.4177791437900988],\n",
       " 'food': [-0.15592869383468358, 0.8875502008032129, -0.43352149138558976],\n",
       " 'knowed': [0.4145933160446054, 0.8835341365461847, 0.21789862745948105],\n",
       " 'big': [-0.46014765122570944, 0.8795180722891567, 0.12129344412716038],\n",
       " 'youre': [0.2613406266449632, 0.8755020080321285, -0.4064447204682683],\n",
       " 'catch': [0.08306554426871764, 0.8714859437751004, 0.4833346306212336],\n",
       " 'end': [-0.3933268912984265, 0.8674698795180723, -0.3046144525632638],\n",
       " 'heard': [0.502705621527298, 0.8634538152610441, -0.04164813316343954],\n",
       " 'love': [-0.34717280040293663, 0.8594377510040161, 0.3752836244889212],\n",
       " 'kind': [0.0025266167012461286, 0.8554216867469879, -0.5179260121397485],\n",
       " 'its': [0.3524090323664484, 0.8514056224899599, 0.3884795231399301],\n",
       " 'at': [-0.5287058758021167, 0.8473895582329317, -0.049000341734660516],\n",
       " 'backio': [0.42801352128792686, 0.8433734939759037, -0.3248470028391609],\n",
       " 'ariding': [-0.09729187780094595, 0.8393574297188755, 0.5348022023979414],\n",
       " 'ups': [-0.29279011135552574, 0.8353413654618473, -0.4652727735863718],\n",
       " 'and': [0.5360208161953288, 0.8313253012048193, 0.14690108298446952],\n",
       " 'say': [-0.49977840070822294, 0.8273092369477911, 0.25647802371040396],\n",
       " 'tell': [0.19731299934427698, 0.8232931726907631, -0.5322179366486465],\n",
       " 'ric': [0.21619542289944946, 0.8192771084337349, 0.5310786746931064],\n",
       " 'green': [-0.5233013486447878, 0.8152610441767069, -0.24800227489773516],\n",
       " 'lost': [0.5587529014618912, 0.8112449799196787, -0.1722694913878783],\n",
       " 'stairs': [-0.2984377765376259, 0.8072289156626506, 0.5092311569939326],\n",
       " 'feeling': [-0.1250669801265125, 0.8032128514056225, -0.5824151146895862],\n",
       " 'woman': [0.4900201071571583, 0.7991967871485943, 0.3480873309861357],\n",
       " 'strong': [-0.6017175278820937, 0.7951807228915663, 0.07499089665491382],\n",
       " 'fine': [0.396422535417178, 0.7911646586345382, -0.4657334606200319],\n",
       " 'feet': [0.02247684620212933, 0.7871485943775101, 0.6163536985808684],\n",
       " 'same': [-0.43648841917830566, 0.7831325301204819, -0.4429235827886297],\n",
       " 'no': [0.626061364754568, 0.7791164658634538, 0.032010938475609804],\n",
       " 'blowed': [-0.4870840497016618, 0.7751004016064257, 0.40245309783350747],\n",
       " 'burying': [0.08798384089489483, 0.7710843373493976, -0.6306249189778518],\n",
       " 'stranger': [0.3638450510829676, 0.7670682730923695, 0.5284155970611795],\n",
       " 'shore': [-0.6298774911685128, 0.7630522088353413, -0.14493333885192466],\n",
       " 'could': [0.5664525361551588, 0.7590361445783133, -0.32092936217659873],\n",
       " 'man': [-0.20233567557411594, 0.7550200803212852, 0.6237026155962521],\n",
       " 'dive': [-0.274016309424644, 0.751004016064257, -0.6007562151361023],\n",
       " 'hardwood': [0.6120354626766135, 0.7469879518072289, 0.2596566815644551],\n",
       " 'lot': [-0.630919183362556, 0.7429718875502008, 0.223458627882696],\n",
       " 'open': [0.3163567035861103, 0.7389558232931727, -0.5948636207713826],\n",
       " 'an': [0.16964838871164317, 0.7349397590361446, 0.656569093694972],\n",
       " 'hold': [-0.5722274178571667, 0.7309236947791165, -0.3718955964554631],\n",
       " 'hit': [0.6773723056700444, 0.7269076305220883, -0.11301352219982908],\n",
       " 'captain': [-0.42573773287883737, 0.7228915662650602, 0.5442197775035703],\n",
       " 'satisfied': [-0.054014013830795744, 0.7188755020080322, -0.6930371555137476],\n",
       " 'm': [0.5109856081166739, 0.714859437751004, 0.477356986495381],\n",
       " 'it': [-0.7033168621975341, 0.7108433734939759, -0.0068621941329810865],\n",
       " 'crazy': [0.5262416435850196, 0.7068273092369478, -0.47272072883870175],\n",
       " 'mmhmmmmmm': [-0.06910356031770397, 0.7028112449799198, 0.7080120421865667],\n",
       " 'down': [-0.42967033983219566, 0.6987951807228916, -0.5718991995683739],\n",
       " 'dead': [0.7069728091587262, 0.6947791164658634, 0.13217952350168866],\n",
       " 'lungs': [-0.613860997464255, 0.6907630522088353, 0.38212704889254284],\n",
       " 'fell': [0.19554526375154035, 0.6867469879518072, -0.7001004387682248],\n",
       " 'theres': [0.330428470402632, 0.6827309236947792, 0.6516866668716267],\n",
       " 'accomplish': [-0.6873485824635673, 0.678714859437751, -0.25864660400577183],\n",
       " 'cap': [0.6849683237983383, 0.6746987951807228, -0.2749544165394978],\n",
       " 'together': [-0.3209250093566386, 0.6706827309236948, 0.6687240184187916],\n",
       " 'if': [-0.2161237043391098, 0.6666666666666667, -0.7133344937533138],\n",
       " 'know': [0.6442869317692839, 0.6626506024096386, 0.38182264034164515],\n",
       " 'future': [-0.7364537229355705, 0.6586345381526104, 0.1543906056948922],\n",
       " 'years': [0.4407874160076573, 0.6546184738955823, -0.6141507205270637],\n",
       " 'money': [0.09024097058225106, 0.6506024096385542, 0.7540378450720363],\n",
       " 'our': [-0.5784813277525186, 0.6465863453815262, -0.49727804235442064],\n",
       " 'rolling': [0.7658448744534662, 0.642570281124498, -0.024188056741670454],\n",
       " 'light': [-0.550768962001588, 0.6385542168674698, 0.5374961047453886],\n",
       " 'walk': [0.04323189830756861, 0.6345381526104418, -0.771681498968617],\n",
       " 'these': [0.49146221415440744, 0.6305220883534137, 0.6007551815481055],\n",
       " 'provide': [-0.771405150412785, 0.6265060240963856, -0.1114643247302375],\n",
       " 'anybody': [0.6467569341006936, 0.6224899598393574, -0.4406945859570621],\n",
       " 'eat': [-0.17994114714051407, 0.6184738955823292, 0.7649256330186445],\n",
       " 'buried': [-0.38555344319556023, 0.6144578313253012, -0.6883241358277767],\n",
       " 'mama': [0.7522062949931025, 0.6104417670682731, 0.24808574886783327],\n",
       " 'ice': [-0.725040597134595, 0.606425702811245, 0.3264414181389939],\n",
       " 'lonesome': [0.3153180306602701, 0.6024096385542168, -0.7332647318107607],\n",
       " 'guitar': [0.263800283143876, 0.5983935742971888, 0.7565279511379904],\n",
       " 'desire': [-0.7081730140786913, 0.5943775100401607, -0.38105951987735515],\n",
       " 'with': [0.7824492645279838, 0.5903614457831325, -0.19810732387387078],\n",
       " 'is': [-0.4447384857234548, 0.5863453815261044, 0.6770574369131583],\n",
       " 'should': [-0.12987138568850168, 0.5823293172690763, -0.8025122986149682],\n",
       " 'been': [0.640097791921988, 0.5783132530120482, 0.505795015957273],\n",
       " 'greater': [-0.816472391353912, 0.5742971887550201, 0.05962862689099159],\n",
       " 'cut': [0.5636860107857264, 0.570281124497992, -0.5975261670301809],\n",
       " 'smoke': [-0.012061984885523375, 0.5662650602409638, 0.8241349343832715],\n",
       " 'pull': [-0.549625283485981, 0.5622489959839357, -0.617890050306696],\n",
       " 'time': [0.8253574225886287, 0.5582329317269077, 0.0846233945988771],\n",
       " 'sing': [-0.6679120928996559, 0.5542168674698795, 0.4967263834046621],\n",
       " 'first': [0.157465359528838, 0.5502008032128514, -0.8200510573692268],\n",
       " 'jumpin': [0.4392066851133858, 0.5461847389558233, 0.7132879633664587],\n",
       " 'air': [-0.8081818886178878, 0.5421686746987953, -0.22998948472783678],\n",
       " 'favorite': [0.7535885913842604, 0.5381526104417671, -0.3774864273191792],\n",
       " 'lay': [-0.30159435087037506, 0.5341365461847389, 0.7897714843883105],\n",
       " 'golden': [-0.31202552670127676, 0.5301204819277108, -0.7884239629333462],\n",
       " 'them': [0.7648971212841376, 0.5261044176706827, 0.3716806903225283],\n",
       " 'cold': [-0.8174467497863561, 0.5220883534136547, 0.24331987689776058],\n",
       " 'make': [0.439656566774247, 0.5180722891566265, -0.7336914927272189],\n",
       " 'rambled': [0.1718973199874288, 0.5140562248995983, 0.8403555848705434],\n",
       " 'landed': [-0.6963419364114207, 0.5100401606425703, -0.504942513684968],\n",
       " 'serves': [0.856897954319291, 0.5060240963855422, -0.09831332443066722],\n",
       " 'this': [-0.5669765870823222, 0.5020080321285141, 0.6530891863895303],\n",
       " 'will': [-0.023146406008885404, 0.4979919678714859, -0.8668726802849175],\n",
       " 'thought': [0.6042256593369317, 0.49397590361445787, 0.625219288927597],\n",
       " 'longing': [-0.870131972066348, 0.4899598393574297, -0.053006669436684854],\n",
       " 'cry': [0.6791583183104026, 0.48594377510040165, -0.550093288552911],\n",
       " 'id': [-0.12953586073499287, 0.4819277108433735, 0.8665830267809949],\n",
       " 'believe': [-0.4910809231638624, 0.47791164658634533, -0.728313109151316],\n",
       " 'or': [0.8561891646494272, 0.4738955823293173, 0.20582296126932365],\n",
       " 'loved': [-0.7722391148625598, 0.4698795180722891, 0.4276213137490267],\n",
       " 'table': [0.28124680047948314, 0.46586345381526106, -0.8389704879311131],\n",
       " 'gettin': [0.3601877091866039, 0.4618473895582329, 0.8105318025279158],\n",
       " 'ole': [-0.8150040566157685, 0.45783132530120485, -0.355188492596232],\n",
       " 'coming': [0.8428303215960165, 0.4538152610441767, -0.28929009288560364],\n",
       " 'froze': [-0.42703668775158315, 0.44979919678714864, 0.7844235781029231],\n",
       " 'kinda': [-0.21547108969784304, 0.4457831325301205, -0.8688208148151477],\n",
       " 'pastures': [0.7474186122569878, 0.4417670682730924, 0.4961927805210748],\n",
       " 'promise': [-0.8882393421494136, 0.43775100401606426, 0.13930157766839757],\n",
       " 'world': [0.5620760312504387, 0.4337349397590361, -0.7042332973709644],\n",
       " 'blowin': [0.06137604135713246, 0.42971887550200805, 0.900874391679893],\n",
       " 'was': [-0.6551646066733511, 0.4257028112449799, -0.624128556197098],\n",
       " 'take': [0.906568954982494, 0.42168674698795183, 0.0176922942737227],\n",
       " 'understand': [-0.6818201435694267, 0.41767068273092367, 0.6005601490359235],\n",
       " 'western': [0.0972765084781326, 0.4136546184738956, -0.9052221481567493],\n",
       " 'hitch': [0.5408155314480594, 0.40963855421686746, 0.7346528539682314],\n",
       " 'just': [-0.8967903635258659, 0.4056224899598394, -0.17674116534052092],\n",
       " 'car': [0.7821653655082272, 0.40160642570281124, -0.476371304586657],\n",
       " 'dedication': [-0.25544758665008743, 0.3975903614457831, 0.8812879410045604],\n",
       " 'jesus': [-0.4077095163936441, 0.39357429718875503, -0.82393702601257],\n",
       " 'goin': [0.8587873522045246, 0.38955823293172687, 0.33275917244856257],\n",
       " 'sure': [-0.8595915771093622, 0.3855421686746988, 0.3353499019475773],\n",
       " 'passion': [0.4080467241911409, 0.38152610441767065, -0.8294188944826105],\n",
       " 'coldest': [0.259845741052093, 0.3775100401606426, 0.8888005177963155],\n",
       " 'heartache': [-0.7933698962991237, 0.37349397590361444, -0.4806937253699366],\n",
       " 'makes': [0.9112860780548798, 0.3694779116465864, -0.18177941783555393],\n",
       " 'always': [-0.5501015347425527, 0.3654618473895582, 0.7508834394075417],\n",
       " 'over': [-0.10175771923866327, 0.3614457831325302, -0.9268237763626143],\n",
       " 'helped': [0.7022566075072615, 0.357429718875502, 0.6156944479829031],\n",
       " 'devil': [-0.9352445384447272, 0.35341365461847385, 0.02040691153808886],\n",
       " 'children': [0.6769245846216412, 0.3493975903614458, -0.6478382750227358],\n",
       " 'union': [-0.06163236400510036, 0.34538152610441764, 0.9364363582929308],\n",
       " 'mornin': [-0.5880264535913372, 0.3413654618473896, -0.7332765585606249],\n",
       " 'we': [0.930345486330869, 0.3373493975903614, 0.1437103336896798],\n",
       " 'day': [-0.7842718922178475, 0.33333333333333337, 0.5232652176152411],\n",
       " 'screams': [0.22517342819560718, 0.3293172690763052, -0.9169771335877259],\n",
       " 'night': [0.4540412338275543, 0.32530120481927716, 0.8294731364712655],\n",
       " 'louisianao': [-0.8963956848214365, 0.321285140562249, -0.30536966890541684],\n",
       " 'wont': [0.868487661004357, 0.31726907630522083, -0.3808799232088939],\n",
       " 'expect': [-0.3836540584643508, 0.3132530120481928, 0.8687244176760356],\n",
       " 'begun': [-0.3043412867405901, 0.3092369477911646, -0.9009710823915973],\n",
       " 'dreamed': [0.8341447291281157, 0.30522088353413657, 0.45939393021939634],\n",
       " 'semitruck': [-0.9266303002775065, 0.3012048192771084, 0.2250154293639942],\n",
       " 'said': [0.531974211459001, 0.29718875502008035, -0.7928948746411397],\n",
       " 'some': [0.14351781911334602, 0.2931726907630522, 0.945226115269622],\n",
       " 'sometimes': [-0.7452682295669766, 0.28915662650602414, -0.6008025560413002],\n",
       " 'head': [0.9565754056596253, 0.285140562248996, -0.06048432067445229],\n",
       " 'wanna': [-0.6653143030392846, 0.2811244979919679, 0.6916110863773909],\n",
       " 'sun': [0.023433955422551778, 0.27710843373493976, -0.9605528437760321],\n",
       " 'give': [0.6323200052398217, 0.2730923694779116, 0.7249772194396537],\n",
       " 'mcgee': [-0.9570921366262509, 0.26907630522088355, -0.10757594515910912],\n",
       " 'towns': [0.7792959866959012, 0.2650602409638554, -0.5678387392383903],\n",
       " 'perhaps': [-0.19127602086694068, 0.26104417670682734, 0.9461867794726179],\n",
       " 'back': [-0.4986547591506562, 0.2570281124497992, -0.8278163930406877],\n",
       " 'harmonica': [0.9278903150726262, 0.2530120481927711, 0.27386943360609123],\n",
       " 'god': [-0.8701291958901185, 0.24899598393574296, 0.42529540609262073],\n",
       " 'scared': [0.35469776263988706, 0.2449799196787149, -0.9023160954634848],\n",
       " 'youll': [0.3483237035100834, 0.24096385542168675, 0.9058736214027518],\n",
       " 'treat': [-0.869636547350344, 0.23694779116465858, -0.4331143264482973],\n",
       " 'into': [0.9347404712660501, 0.23293172690763053, -0.26833386289686173],\n",
       " 'folk': [-0.5084895099890837, 0.22891566265060237, 0.8300819463307807],\n",
       " 'fenneario': [-0.18594652023508335, 0.22489959839357432, -0.9564748100472238],\n",
       " 'hate': [0.7839387093199467, 0.22088353413654616, 0.5802159635662615],\n",
       " 'jeans': [-0.9708782099366454, 0.2168674698795181, 0.10180374245709997],\n",
       " 'right': [0.6477136296906945, 0.21285140562248994, -0.7315472185972933],\n",
       " 'jukebox': [0.016563845204977893, 0.2088353413654619, 0.9778105334004111],\n",
       " 'headed': [-0.6732991948404492, 0.20481927710843373, -0.7104345557136008],\n",
       " 'ways': [0.977191238114188, 0.20080321285140568, 0.06910393520931733],\n",
       " 'ya': [-0.7678674517626131, 0.19678714859437751, 0.6096346403147426],\n",
       " 'one': [0.15452487146903504, 0.19277108433734935, -0.969000192539135],\n",
       " 'rocking': [0.5410383770125892, 0.1887550200803213, 0.8195419556032876],\n",
       " 'him': [-0.9532779945905242, 0.18473895582329314, -0.23902423147201593],\n",
       " 'lives': [0.8650325684649547, 0.1807228915662651, -0.46803620795708917],\n",
       " 'little': [-0.32193277551328753, 0.17670682730923692, 0.9301257900051018],\n",
       " 'of': [-0.3911907330688916, 0.17269076305220887, -0.9039622285900384],\n",
       " 'even': [0.8997045911997676, 0.1686746987951807, 0.4025922187032606],\n",
       " 'as': [-0.9360054922671819, 0.16465863453815266, 0.3110968539180391],\n",
       " 'stage': [0.48036061314154327, 0.1606425702811245, -0.862234101596402],\n",
       " 'sky': [0.2283770043183681, 0.15662650602409633, 0.960891295365533],\n",
       " 'dreams': [-0.8179910545304477, 0.15261044176706828, -0.5546176049962949],\n",
       " 'rising': [0.9784052718730347, 0.14859437751004012, -0.14367614604887163],\n",
       " 'but': [-0.6247695226460271, 0.14457831325301207, 0.767307079929261],\n",
       " 'so': [-0.05765657098453471, 0.1405622489959839, -0.9883916096262131],\n",
       " 'bed': [0.7105661159060218, 0.13654618473895586, 0.690254253416424],\n",
       " 'kicks': [-0.990754427271833, 0.1325301204819277, -0.029007447428339245],\n",
       " 'east': [0.7505458681776277, 0.12851405622489964, -0.648201386232793],\n",
       " 'put': [-0.11563510912439101, 0.12449799196787148, 0.9854586604894991],\n",
       " 'wish': [-0.5806919682999752, 0.12048192771084343, -0.8051589551430076],\n",
       " 'seen': [0.9725304495952874, 0.11646586345381527, 0.2015446036487839],\n",
       " 'youd': [-0.8536526266113296, 0.1124497991967871, 0.5085589796082458],\n",
       " 'have': [0.28605864196986897, 0.10843373493975905, -0.9520570248054306],\n",
       " 'heres': [0.4323614140441177, 0.10441767068273089, 0.8956341651003292],\n",
       " 'team': [-0.9241860896309708, 0.10040160642570284, -0.3685099580197981],\n",
       " 'would': [0.9307622783082975, 0.09638554216867468, -0.3526916621345024],\n",
       " 'nashville': [-0.44824673433151335, 0.09236947791164662, 0.8891247070638986],\n",
       " 'waiting': [-0.2701707521343375, 0.08835341365461846, -0.9587499355863041],\n",
       " 'sound': [0.8471376973674032, 0.08433734939759041, 0.5246379067467796],\n",
       " 'home': [-0.9793667620799107, 0.08032128514056225, 0.18544335115198946],\n",
       " 'longin': [0.5970783041538017, 0.07630522088353409, -0.7985455603625476],\n",
       " 'my': [0.09917256754012127, 0.07228915662650603, 0.9924409703764393],\n",
       " 'i': [-0.7437219390767285, 0.06827309236947787, -0.6649935805662034],\n",
       " 'im': [0.9978608133413225, 0.06425702811244982, -0.012034597456918336],\n",
       " 'ramble': [-0.7278448985671719, 0.06024096385542166, 0.6830906454516217],\n",
       " 'let': [0.07528674017608702, 0.05622489959839361, -0.9955755458119735],\n",
       " 'suits': [0.6171222724703672, 0.052208835341365445, 0.7851333251959873],\n",
       " 'guide': [-0.9855958869077367, 0.048192771084337394, -0.16210553514844733],\n",
       " 'the': [0.8364039037390099, 0.04417670682730923, -0.5463304205186079],\n",
       " 'me': [-0.2477393381217402, 0.04016064257028118, 0.9679939788734969],\n",
       " 'fennerio': [-0.4712675690216951, 0.03614457831325302, -0.8812493675725044],\n",
       " 'goodbye': [0.9429028425696117, 0.032128514056224855, 0.33151468754594454],\n",
       " 'now': [-0.9193134651790044, 0.028112449799196804, 0.3925206273648038],\n",
       " 'means': [0.4127725655963363, 0.02409638554216864, -0.9105153339152623],\n",
       " 'takin': [0.3107062017848362, 0.02008032128514059, 0.9502938686898522],\n",
       " 'very': [-0.8710826097515486, 0.016064257028112428, -0.49087373797603595],\n",
       " 'are': [0.9739446417701971, 0.012048192771084376, -0.2264656172977989],\n",
       " 'doin': [-0.5652039333874275, 0.008032128514056214, 0.8249121156795519],\n",
       " 'much': [-0.1404597357734561, 0.004016064257028162, -0.9900782463292153],\n",
       " 'ramblin': [0.7723651124128641, 0.0, 0.635178819803891],\n",
       " 'enough': [-0.998567071376945, -0.004016064257028162, 0.053363612973209656],\n",
       " 'pretty': [0.7002487363605181, -0.008032128514056325, -0.7138537610302488],\n",
       " 'von': [-0.03413896128699515, -0.012048192771084265, 0.9993444713276778],\n",
       " 'em': [-0.6498377911898549, -0.016064257028112428, -0.7599031417145381],\n",
       " 'boots': [0.9924053051349114, -0.02008032128514059, 0.12136099471069385],\n",
       " 'died': [-0.8136747420860538, -0.024096385542168752, 0.580820779840905],\n",
       " 'coffeehouses': [0.2076178500953869,\n",
       "  -0.028112449799196693,\n",
       "  -0.9778059718001609],\n",
       " 'loose': [0.5073460712128128, -0.032128514056224855, 0.8611432648575162],\n",
       " 'here': [-0.9556639419925214, -0.03614457831325302, -0.29223278295542404],\n",
       " 'onto': [0.9019388465637954, -0.04016064257028118, -0.42999237184805084],\n",
       " 'freeze': [-0.3745424134102893, -0.04417670682730934, 0.926156789712568],\n",
       " 'there': [-0.3493690571486769, -0.04819277108433728, -0.9357450073189048],\n",
       " 'once': [0.8895207320977352, -0.052208835341365445, 0.45390208710756924],\n",
       " 'ive': [-0.9623011871734213, -0.05622489959839361, 0.2661112283045842],\n",
       " 'fixing': [0.5296910808807366, -0.06024096385542177, -0.8460486895617573],\n",
       " 'lieutenant': [0.18087456054410467, -0.06425702811244971, 0.9814048235494529],\n",
       " 'didnt': [-0.7960878824537191, -0.06827309236947787, -0.6013176101434767],\n",
       " 'more': [0.9929129527269571, -0.07228915662650603, -0.09432998537720562],\n",
       " 'ill': [-0.6682235966836569, -0.0763052208835342, 0.7400369842792132],\n",
       " 'feel': [-0.007158250873667091, -0.08032128514056236, -0.996743322324157],\n",
       " 'around': [0.6783428552146615, -0.0843373493975903, 0.7298891575272299],\n",
       " 'dues': [-0.9928750057924005, -0.08835341365461846, -0.07995559497819056],\n",
       " 'new': [0.7858367778784751, -0.09236947791164662, -0.6114968831350703],\n",
       " 'worth': [-0.16632775216082088, -0.09638554216867479, 0.9813485140978098],\n",
       " 'insane': [-0.540030962636062, -0.10040160642570273, -0.8356351337883697],\n",
       " 'dirt': [0.9622654039535793, -0.10441767068273089, 0.251281201850134],\n",
       " 'drives': [-0.8789025331352918, -0.10843373493975905, 0.4645131455356042],\n",
       " 'hangin': [0.33415117919817433, -0.11244979919678721, -0.9357873861626217],\n",
       " 'village': [0.3855429990642398, -0.11646586345381515, 0.915309946697024],\n",
       " 'a': [-0.9021349417951499, -0.12048192771084332, -0.4142905404270541],\n",
       " 'university': [0.9445836045232787,\n",
       "  -0.12449799196787148,\n",
       "  -0.30374671037194473],\n",
       " 'den': [-0.4910749798889062, -0.12851405622489964, 0.8615854580247589],\n",
       " 'walked': [-0.21977197807486978, -0.1325301204819278, -0.9665071364548244],\n",
       " 'sorrow': [0.8144708994452724, -0.13654618473895574, 0.5639080540212598],\n",
       " 'medication': [-0.9809232394484041, -0.1405622489959839, 0.1342827333175793],\n",
       " 'notion': [0.6322259707630742, -0.14457831325301207, -0.7611750345548667],\n",
       " 'agoin': [0.047953734225283574, -0.14859437751004023, 0.9877348583229482],\n",
       " 'about': [-0.7021302407936041, -0.15261044176706817, -0.6955021049765241],\n",
       " 'wings': [0.9869058706112023, -0.15662650602409633, 0.03853492135490469],\n",
       " 'other': [-0.7532512027347096, -0.1606425702811245, 0.6378139150192533],\n",
       " 'skies': [0.12450331926929661, -0.16465863453815266, -0.9784612703438796],\n",
       " 'block': [0.5687445195824031, -0.16867469879518082, 0.8050332399543119],\n",
       " 'hes': [-0.9624868497798293, -0.17269076305220876, -0.2092772428080662],\n",
       " 'fit': [0.8504569037647485, -0.17670682730923692, -0.4954772971803863],\n",
       " 'after': [-0.2921936310836119, -0.1807228915662651, 0.939128382287588],\n",
       " 'meet': [-0.4185996904100185, -0.18473895582329325, -0.8891826681790171],\n",
       " 'wintertime': [0.9085903137470214, -0.1887550200803212, 0.3726059368281279],\n",
       " 'stars': [-0.9209254390428359, -0.19277108433734935, 0.3387265043765582],\n",
       " 'dove': [0.4498893392791032, -0.19678714859437751, -0.8711339739392021],\n",
       " 'bad': [0.25649485283068846, -0.20080321285140568, 0.9454567468583195],\n",
       " 'paid': [-0.8270753233938217, -0.20481927710843384, -0.5234457690704776],\n",
       " 'mourn': [0.9626064698758163, -0.20883534136546178, -0.17255893007894535],\n",
       " 'sleet': [-0.5927087036571893, -0.21285140562248994, 0.7767822550326084],\n",
       " 'weeks': [-0.08758465233101977, -0.2168674698795181, -0.9722640737907118],\n",
       " 'through': [0.7206714736519283, -0.22088353413654627, 0.6571476937581896],\n",
       " 'orange': [-0.9743793584377346, -0.2248995983935742, 0.0022442131979115406],\n",
       " 'their': [0.7162725835911276, -0.22891566265060237, -0.6592049797968207],\n",
       " 'rain': [-0.08278940127074531, -0.23293172690763053, 0.9689627060094008],\n",
       " 'thumb': [-0.5928861878626733, -0.2369477911646587, -0.7696373902714551],\n",
       " 'maid': [0.9560848295028977, -0.24096385542168686, 0.1668478923293056],\n",
       " 'am': [-0.816843810637699, -0.2449799196787148, 0.5222557112919815],\n",
       " 'shirt': [0.2492730774693844, -0.24899598393574296, -0.9358760242857028],\n",
       " 'guess': [0.4478868504867062, -0.2530120481927711, 0.8575443269186717],\n",
       " 'yet': [-0.9085249298293242, -0.2570281124497993, -0.3294222234293168],\n",
       " 'for': [0.8914448860508056, -0.2610441767068272, -0.3703808215085129],\n",
       " 'gods': [-0.4066732390193352, -0.2650602409638554, 0.8742768127576674],\n",
       " 'along': [-0.29036176576907885, -0.26907630522088355, -0.9183071310559122],\n",
       " 'ever': [0.8334313863571889, -0.2730923694779117, 0.4804296847278212],\n",
       " 'out': [-0.937950166671101, -0.27710843373493965, 0.2084715827028291],\n",
       " 'wind': [0.5501255576612106, -0.2811244979919678, -0.7863401855664671],\n",
       " 'how': [0.12536462884991312, -0.285140562248996, 0.9502518453513522],\n",
       " 'week': [-0.7334035201705119, -0.28915662650602414, -0.6152298123052531],\n",
       " 'see': [0.955149563808192, -0.2931726907630523, -0.04170232784596084],\n",
       " 'snow': [-0.675250579861915, -0.29718875502008024, 0.6750670324388255],\n",
       " 'babe': [0.04185226349174536, -0.3012048192771084, -0.9526405643708764],\n",
       " 'brain': [0.6118178887363049, -0.30522088353413657, 0.7297390514950474],\n",
       " 'can': [-0.94278173962466, -0.30923694779116473, -0.12463988748031012],\n",
       " 'gone': [0.7782929936871512, -0.31325301204819267, -0.5441806376748689],\n",
       " 'town': [-0.2060104708602471, -0.31726907630522083, 0.925688942958903],\n",
       " 'luck': [-0.4727127701355851, -0.321285140562249, -0.8205598670448351],\n",
       " 'mother': [0.9015358118106389, -0.32530120481927716, 0.28532841808354614],\n",
       " 'sweet': [-0.8562395232653354, -0.3293172690763053, 0.39800001895285836],\n",
       " 'to': [0.3619777684613268, -0.33333333333333326, -0.8705521144817505],\n",
       " 'upside': [0.32065143819327363, -0.3373493975903614, 0.8850864585621031],\n",
       " 'fill': [-0.8330216354055413, -0.3413654618473896, -0.43536717423801696],\n",
       " 'had': [0.9069116056139419, -0.34538152610441775, -0.24129430376311298],\n",
       " 'middle': [-0.5049346582278638, -0.3493975903614457, 0.7892796176070467],\n",
       " 'wouldnt': [-0.16056887852880697, -0.35341365461847385, -0.9215836500162182],\n",
       " 'rodeo': [0.7397097848099531, -0.357429718875502, 0.5701521115640917],\n",
       " 'talkin': [-0.9290298612444153, -0.3614457831325302, 0.07912308621315411],\n",
       " 'harvard': [0.6305294943629566, -0.36546184738955834, -0.6847409691562246],\n",
       " 'his': [-0.0023928609594894706, -0.3694779116465863, 0.9292364322505365],\n",
       " 'til': [-0.6248433737985831, -0.37349397590361444, -0.6856187046629594],\n",
       " 'warm': [0.9222483259719724, -0.3775100401606426, 0.08333183557203426],\n",
       " 'crying': [-0.7350170838540941, -0.38152610441767076, 0.5605245026673681],\n",
       " 'player': [0.16305512403757635, -0.3855421686746987, -0.9081686312016621],\n",
       " 'ohohohoh': [0.49232479248002586, -0.38955823293172687, 0.7783705299307071],\n",
       " 'sooner': [-0.8871574344139092, -0.39357429718875503, -0.2409376665374428],\n",
       " 'play': [0.8153761932614362, -0.3975903614457832, -0.42081298452863913],\n",
       " 'they': [-0.3163731638954716, -0.40160642570281135, 0.8594302182265767],\n",
       " 'old': [-0.34658127592804266, -0.4056224899598393, -0.8457847331412823],\n",
       " 'you': [0.8252558011729771, -0.40963855421686746, 0.3887790086018817],\n",
       " 'reeling': [-0.8694021171439582, -0.4136546184738956, 0.2702402918160411],\n",
       " 'seems': [0.45760099875429716, -0.4176706827309238, -0.7849538373217585],\n",
       " 'knives': [0.19241392145277472, -0.4216867469879517, 0.886090949195332],\n",
       " 'that': [-0.7388918979877286, -0.4257028112449799, -0.5223177955863778],\n",
       " 'nobody': [0.8957713163079137, -0.42971887550200805, -0.11373406225611284],\n",
       " 'howdy': [-0.5824450874898432, -0.4337349397590362, 0.6874821612894215],\n",
       " 'winter': [-0.034835316524931735, -0.43775100401606415, -0.898421148017752],\n",
       " 'hair': [0.6311777386005339, -0.4417670682730923, 0.6375394259843958],\n",
       " 'yes': [-0.8940760867139719, -0.4457831325301205, -0.04365031406374268],\n",
       " 'funny': [0.6872017019304304, -0.44979919678714864, -0.5704686699842119],\n",
       " 'singers': [-0.12109869114722563, -0.4538152610441768, 0.8828288712122155],\n",
       " 'where': [-0.5058776234657663, -0.45783132530120474, -0.7310802333872604],\n",
       " 'says': [0.864828240061091, -0.4618473895582329, 0.19689871495538475],\n",
       " 'again': [-0.7688734398684147, -0.46586345381526106, 0.43795533546724524],\n",
       " 'well': [0.27045736838260515, -0.4698795180722892, -0.8402773651501682],\n",
       " 'pair': [0.36727583187547813, -0.47389558232931717, 0.8003320813068365],\n",
       " 'raised': [-0.8094318301744138, -0.47791164658634533, -0.3412045872458739],\n",
       " 'eyes': [0.8252610437861789, -0.4819277108433735, -0.29443147102545303],\n",
       " 'born': [-0.40859791566792686, -0.48594377510040165, 0.7725971723692729],\n",
       " 'swung': [-0.22002785133788139, -0.4899598393574298, -0.8435206579879813],\n",
       " 'marched': [0.7301260096300484, -0.49397590361445776, 0.47212690742000957],\n",
       " 'many': [-0.8550275403150714, -0.4979919678714859, 0.1446786274411105],\n",
       " 'work': [0.5313172362872394, -0.5020080321285141, -0.6824147786372644],\n",
       " 'schmidt': [0.06900027932393882, -0.5060240963855422, 0.8597549507449282],\n",
       " 'neon': [-0.6299001128964495, -0.5100401606425702, -0.5857344810618044],\n",
       " 'times': [0.8577326656079873, -0.5140562248995983, 0.006393120598741947],\n",
       " 'her': [-0.6349875536035783, -0.5180722891566265, 0.5730548926381795],\n",
       " 'heck': [0.08089509767405012, -0.5220883534136547, -0.8490463676396741],\n",
       " 'gonna': [0.5123840012863772, -0.5261044176706828, 0.6787317415099677],\n",
       " 'place': [-0.8338365597857872, -0.5301204819277108, -0.15391187805148454],\n",
       " 'got': [0.7166713402804515, -0.5341365461847389, -0.4484198256661491],\n",
       " 'somewhere': [-0.22486736098581356, -0.5381526104417671, 0.8122970133134724],\n",
       " 'walking': [-0.3817175392658848, -0.5421686746987953, -0.7485618534177049],\n",
       " 'follow': [0.7846727647596039, -0.5461847389558232, 0.29320791799724416],\n",
       " 'quite': [-0.7742117426464263, -0.5502008032128514, 0.3128502096728032],\n",
       " 'almighty': [0.35840697803164523, -0.5542168674698795, -0.7512576801005749],\n",
       " 'country': [0.24240377275414315, -0.5582329317269077, 0.7934837143194177],\n",
       " 'from': [-0.7123916082204523, -0.5622489959839359, -0.41996935965869414],\n",
       " 'when': [0.8062955320886918, -0.5662650602409638, -0.17097191723821567],\n",
       " 'word': [-0.477435313579429, -0.570281124497992, 0.6684571492538757],\n",
       " 'seams': [-0.09915092406166814, -0.5742971887550201, -0.8126203500071839],\n",
       " 'turnin': [0.6198760666597269, -0.5783132530120483, 0.5303842412563635],\n",
       " 'york': [-0.8124865643650396, -0.5823293172690762, 0.027534505174885978],\n",
       " 'ride': [0.5784380583188582, -0.5863453815261044, -0.5671053749095633],\n",
       " 'forks': [-0.04329131355957634, -0.5903614457831325, 0.8059771867138275],\n",
       " 'destiny': [-0.510633137427351, -0.5943775100401607, -0.6212641745019254],\n",
       " 'train': [0.7932287446586286, -0.5983935742971886, 0.11275322118294967],\n",
       " 'your': [-0.6585780652249147, -0.6024096385542168, 0.4509740118694047],\n",
       " 'knows': [0.18029551880131608, -0.606425702811245, -0.7744297210657994],\n",
       " 'in': [0.38866458196454307, -0.6104417670682731, 0.6901454134781242],\n",
       " 'bone': [-0.7498185463084169, -0.6144578313253013, -0.24538484292013596],\n",
       " 'constant': [0.7157838044300383, -0.6184738955823292, -0.3242585169257375],\n",
       " 'downtown': [-0.3075146743425854, -0.6224899598393574, 0.7196811620177153],\n",
       " 'buildings': [-0.258321600880195, -0.6265060240963856, -0.7353639590635594],\n",
       " 'way': [0.6843481784940374, -0.6305220883534137, 0.36620959393541686],\n",
       " 'black': [-0.7488104971630626, -0.6345381526104417, 0.19142667583211792],\n",
       " 'ravin': [0.42102924881480774, -0.6385542168674698, -0.6441916514230924],\n",
       " 'rob': [0.12414854236163003, -0.642570281124498, 0.7561022240709693],\n",
       " 'dont': [-0.5996215068123033, -0.6465863453815262, -0.47157199507000486],\n",
       " 'fear': [0.7572719397778789, -0.6506024096385543, -0.057058862568012556],\n",
       " 'drinkin': [-0.5174781860030842, -0.6546184738955823, 0.5510816460793957],\n",
       " 'n': [0.009278890317902326, -0.6586345381526104, -0.7524057730686056],\n",
       " 'darned': [0.4990457659646592, -0.6626506024096386, 0.5584330779949283],\n",
       " 'inside': [-0.7416420475822572, -0.6666666666666667, -0.07431439169873069],\n",
       " 'long': [0.5941693294844975, -0.6706827309236947, -0.4440129303755438],\n",
       " 'bigger': [-0.13751529165594545, -0.6746987951807228, 0.7251696907224274],\n",
       " 'drink': [-0.38650293338579444, -0.678714859437751, -0.6244690721425442],\n",
       " 'above': [0.7032262003388391, -0.6827309236947792, 0.19837186541410728],\n",
       " 'combing': [-0.6491655371023689, -0.6867469879518073, 0.3270514943823265],\n",
       " 'then': [0.2564014479674782, -0.6907630522088353, -0.6760951879604783],\n",
       " 'yellow': [0.2662053277653743, -0.6947791164658634, 0.6681442230478714],\n",
       " 'away': [-0.6441035210595804, -0.6987951807228916, -0.3111526145754075],\n",
       " 'face': [0.6813435970208387, -0.7028112449799198, -0.20451713064797353],\n",
       " 'whole': [-0.3622090711386158, -0.7068273092369477, 0.6076180903345106],\n",
       " 'seenio': [-0.14254053265938546, -0.7108433734939759, -0.6887553229622857],\n",
       " 'get': [0.5670422312881547, -0.714859437751004, 0.40919322109984835],\n",
       " 'go': [-0.6904240172135311, -0.7188755020080322, 0.0808250522265801],\n",
       " 'texas': [0.4517693784498507, -0.7228915662650603, -0.5228118324195461],\n",
       " 'cambridge': [0.019911103584345176, -0.7269076305220883, 0.6864465344386383],\n",
       " 'baby': [-0.47539116511525886, -0.7309236947791165, -0.48964659964182505],\n",
       " 'past': [0.6769707916585379, -0.7349397590361446, 0.039674901752950034],\n",
       " 'peggyo': [-0.5225811107016487, -0.7389558232931728, 0.4252684728015237],\n",
       " 'than': [0.0974253162343949, -0.7429718875502007, -0.662194142277565],\n",
       " 'want': [0.3729513590792448, -0.7469879518072289, 0.5503783095433407],\n",
       " 'leave': [-0.6423613161061693, -0.751004016064257, -0.15285583870335853],\n",
       " 'west': [0.5728943274354347, -0.7550200803212852, -0.3189620163968446],\n",
       " 'pen': [-0.2055098781650082, -0.7590361445783131, 0.6177619454128699],\n",
       " 'lions': [-0.26383233830905833, -0.7630522088353413, -0.590037137690401],\n",
       " 'ground': [0.5887277009515314, -0.7670682730923695, 0.2549626610847445],\n",
       " 'leavin': [-0.6017672039438386, -0.7710843373493976, 0.20809895951699217],\n",
       " 'beams': [0.30082504681426253, -0.7751004016064258, -0.5556290656892907],\n",
       " 'last': [0.1522982686851381, -0.7791164658634537, 0.6080976648334964],\n",
       " 'up': [-0.518871777595249, -0.7831325301204819, -0.34274701848774525],\n",
       " 'greenwich': [0.6090940564654096, -0.7871485943775101, -0.09696143949025639],\n",
       " 'silent': [-0.3804208198047957, -0.7911646586345382, 0.4788929763389121],\n",
       " 'lady': [-0.042609525488993265, -0.7951807228915662, -0.604873578757784],\n",
       " 'fail': [0.4361570921012227, -0.7991967871485943, 0.41358371150369305],\n",
       " 'name': [-0.5956039165851517, -0.8032128514056225, -0.010251335780135465],\n",
       " 'side': [0.4420203250135214, -0.8072289156626506, -0.39115151794802244],\n",
       " 'fountain': [-0.06113456448147878, -0.8112449799196788, 0.581501631623489],\n",
       " 'song': [-0.344382110408083, -0.8152610441767068, -0.4655645947436089],\n",
       " 'joined': [0.5628301459610867, -0.8192771084337349, 0.10957758162087732],\n",
       " 'bartender': [-0.4841012547138911, -0.8232931726907631, 0.2963685661220057],\n",
       " 'later': [0.15514601007861628, -0.8273092369477912, -0.539897343962303],\n",
       " 'shoes': [0.24763972582098048, -0.8313253012048192, 0.49756688974652075],\n",
       " 'grabbed': [-0.513052824672324, -0.8353413654618473, -0.1974375907573984],\n",
       " 'on': [0.5059505362323429, -0.8393574297188755, -0.198728860666808],\n",
       " 'gotta': [-0.23608577167602723, -0.8433734939759037, 0.4826848434237511],\n",
       " 'job': [-0.15016900046134563, -0.8473895582329318, -0.5092938325743176],\n",
       " 'he': [0.44921698855446496, -0.8514056224899598, 0.2707629280136809],\n",
       " 'be': [-0.5076907248315526, -0.8554216867469879, 0.1024883689154569],\n",
       " 'seventeen': [0.3011831704435785, -0.8594377510040161, -0.41310464774765393],\n",
       " 'railroad': [0.056205998834514374, -0.8634538152610443, 0.5012867389091407],\n",
       " 'arunning': [-0.374831329215059, -0.8674698795180722, -0.32710469695156213],\n",
       " 'blues': [0.4902778369671065, -0.8714859437751004, -0.011827610970858101],\n",
       " 'like': [-0.34833163870934936, -0.8755020080321285, 0.33490491696266583],\n",
       " 'find': [0.030158143596551543, -0.8795180722891567, -0.4749088827254924],\n",
       " 'free': [0.2938539586703561, -0.8835341365461848, 0.36471534178225656],\n",
       " 'freedoms': [-0.4554717482695498, -0.8875502008032128, -0.06928295304370716],\n",
       " 'ended': [0.3761550106841863, -0.891566265060241, -0.2522241125342933],\n",
       " 'yonder': [-0.1051014630218497, -0.8955823293172691, 0.4323031041819169],\n",
       " 'upon': [-0.21057492133675018, -0.8995983935742973, -0.38259761209731197],\n",
       " 'off': [0.40578194587220306, -0.9036144578313252, 0.13719301732365494],\n",
       " 'too': [-0.3840368885027849, -0.9076305220883534, 0.16947714784808773],\n",
       " 'why': [0.16516218987729483, -0.9116465863453815, -0.3763269225550429],\n",
       " 'trouble': [0.12951101342983862, -0.9156626506024097, 0.38051124515859647],\n",
       " 'days': [-0.34439355230966645, -0.9196787148594376, -0.18863759583397538],\n",
       " 'people': [0.37210011659274933, -0.9236947791164658, -0.09126586582422701],\n",
       " 'finally': [-0.20726814431201196, -0.927710843373494, 0.31047142773642716],\n",
       " 'bobby': [-0.05534213186439543, -0.9317269076305221, -0.35891812163496056],\n",
       " 'found': [0.2750815411713362, -0.9357429718875503, 0.2207152832720419],\n",
       " 'girl': [-0.3411057270152473, -0.9397590361445782, 0.022357034284826296],\n",
       " 'another': [0.22863856702996263, -0.9437751004016064, -0.23877387949359757],\n",
       " 'colorado': [-0.007043190825766004, -0.9477911646586346, 0.3188138981569356],\n",
       " 'has': [-0.20212542720959123, -0.9518072289156627, -0.23066926682856453],\n",
       " 'nowhere': [0.2921773860829047, -0.9558232931726907, 0.03215909343053406],\n",
       " 'path': [-0.2263606366235386, -0.9598393574297188, 0.16573855953365457],\n",
       " 'met': [0.05218970498782331, -0.963855421686747, -0.2612641590007079],\n",
       " 'she': [0.13023904699781808, -0.9678714859437751, 0.21508737139611162],\n",
       " 'do': [-0.22596783314867733, -0.9718875502008033, -0.06612963138240374],\n",
       " 'never': [0.1958170863849388, -0.9759036144578312, -0.0962694342346214],\n",
       " 'may': [-0.07251934905529223, -0.9799196787148594, 0.18573736102347163],\n",
       " 'two': [-0.06445532943288654, -0.9839357429718876, -0.16648112268379772],\n",
       " 'going': [0.13869014187903425, -0.9879518072289157, 0.06867511294998119],\n",
       " 'dying': [-0.12149897584588498, -0.9919678714859437, 0.03518154072873203],\n",
       " 'lose': [0.04659204109499146, -0.9959839357429718, -0.07645378635844277],\n",
       " 'abound': [0.0, -1.0, 0.0]}"
      ]
     },
     "execution_count": 17,
     "metadata": {},
     "output_type": "execute_result"
    }
   ],
   "source": [
    "fibonacci_vocabulary(corpus.vocabulary)"
   ]
  },
  {
   "cell_type": "code",
   "execution_count": null,
   "id": "9eade83f",
   "metadata": {},
   "outputs": [],
   "source": []
  },
  {
   "cell_type": "markdown",
   "id": "08ea69dc",
   "metadata": {},
   "source": [
    "## Bebe"
   ]
  },
  {
   "cell_type": "code",
   "execution_count": 1,
   "id": "aed4e65a",
   "metadata": {},
   "outputs": [],
   "source": [
    "import os"
   ]
  },
  {
   "cell_type": "code",
   "execution_count": null,
   "id": "8bd0d955",
   "metadata": {},
   "outputs": [],
   "source": [
    "def song_as_corpus(path,limit=1):\n",
    "    lines = []\n",
    "    with open(path) as f:\n",
    "        lines = f.readlines()\n",
    "\n",
    "    corpus_text  = \" \"\n",
    "    for index in range(int(len(lines)*limit)):\n",
    "        corpus_text =  corpus_text+ \"\\n \"+ lines[index]\n",
    "        \n",
    "    return corpus_text"
   ]
  },
  {
   "cell_type": "code",
   "execution_count": null,
   "id": "cc58657b",
   "metadata": {},
   "outputs": [],
   "source": [
    "country_mixt_path='Bebe'\n",
    "songs_files = os.listdir(country_mixt_path)\n",
    "\n",
    "corpus_text = \"\"\n",
    "for f in songs_files:\n",
    "    if f[0] != \".\":\n",
    "        path = country_mixt_path+\"/\"+f\n",
    "        print(path)\n",
    "        corpus_text = corpus_text+song_as_corpus(path,limit=1) + \" \""
   ]
  },
  {
   "cell_type": "code",
   "execution_count": null,
   "id": "258695d5",
   "metadata": {},
   "outputs": [],
   "source": [
    "corpus= Corpus(corpus_text)\n",
    "print(corpus.prop())"
   ]
  },
  {
   "cell_type": "code",
   "execution_count": null,
   "id": "6e1239e0",
   "metadata": {},
   "outputs": [],
   "source": [
    "words_freq = corpus.frequency()\n",
    "print(words_freq)"
   ]
  }
 ],
 "metadata": {
  "kernelspec": {
   "display_name": "Python 3 (ipykernel)",
   "language": "python",
   "name": "python3"
  },
  "language_info": {
   "codemirror_mode": {
    "name": "ipython",
    "version": 3
   },
   "file_extension": ".py",
   "mimetype": "text/x-python",
   "name": "python",
   "nbconvert_exporter": "python",
   "pygments_lexer": "ipython3",
   "version": "3.9.7"
  }
 },
 "nbformat": 4,
 "nbformat_minor": 5
}
