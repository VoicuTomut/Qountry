{
 "cells": [
  {
   "cell_type": "code",
   "execution_count": 1,
   "id": "f66f493b",
   "metadata": {},
   "outputs": [],
   "source": [
    "import os\n",
    "import numpy\n",
    "\n",
    "\n",
    "import pennylane as qml\n",
    "from pennylane import numpy as np\n",
    "from pennylane.optimize import AdamOptimizer, GradientDescentOptimizer\n",
    "\n",
    "import mpl_toolkits.mplot3d\n",
    "import matplotlib.pyplot as pp\n",
    "\n",
    "\n",
    "import sys\n",
    "sys.path.append(\"..\")\n",
    "from wordsToNumbers import Corpus\n",
    "from wordsToNumbers import fibonacci_vocabulary\n",
    "\n",
    "from wordsToQubits import put_word_on_sphere\n",
    "\n",
    "from utils import get_corpus_from_directory, working_window, get_word_from_sphere"
   ]
  },
  {
   "cell_type": "code",
   "execution_count": 2,
   "id": "f0aed631",
   "metadata": {},
   "outputs": [],
   "source": [
    "np.random.seed(73)"
   ]
  },
  {
   "cell_type": "code",
   "execution_count": null,
   "id": "e02a24ab",
   "metadata": {},
   "outputs": [],
   "source": []
  },
  {
   "cell_type": "markdown",
   "id": "caf49e41",
   "metadata": {},
   "source": [
    "## Corpus"
   ]
  },
  {
   "cell_type": "code",
   "execution_count": 3,
   "id": "4aab6edb",
   "metadata": {},
   "outputs": [
    {
     "name": "stdout",
     "output_type": "stream",
     "text": [
      "nr. words:72 \n",
      "nr. distinct words: 8 \n",
      "len.text/len.vocab:9.0\n"
     ]
    }
   ],
   "source": [
    "corpus_path='/Users/voicutu/Documents/GitHub/Qountry/Bebe'\n",
    "\n",
    "corpus_tex = get_corpus_from_directory(corpus_path, limit=1)\n",
    "\n",
    "corpus= Corpus(corpus_tex)\n",
    "print(corpus.prop())"
   ]
  },
  {
   "cell_type": "code",
   "execution_count": 4,
   "id": "59dc8302",
   "metadata": {},
   "outputs": [],
   "source": [
    "parameterize_vovabulary = fibonacci_vocabulary(corpus.vocabulary)"
   ]
  },
  {
   "cell_type": "markdown",
   "id": "2939acb4",
   "metadata": {},
   "source": [
    "### nonsense corpus "
   ]
  },
  {
   "cell_type": "code",
   "execution_count": 5,
   "id": "9250a571",
   "metadata": {},
   "outputs": [
    {
     "name": "stdout",
     "output_type": "stream",
     "text": [
      "nonsens text:   punct bot punct bot cainele cainele are ursul punct bot frumos ursul este fericit punct frumos frumos este are ursul fericit punct are bot punct este este are fericit ursul frumos frumos frumos cainele are ursul are ursul este este fericit ursul fericit punct bot este are bot ursul are punct fericit punct este ursul frumos cainele frumos fericit punct frumos fericit punct punct cainele este are fericit cainele cainele are bot\n",
      "nr. words:72 \n",
      "nr. distinct words: 8 \n",
      "len.text/len.vocab:9.0\n"
     ]
    }
   ],
   "source": [
    "nonsens= [corpus.vocabulary[i] for i in [ np.random.randint(0,8) for j in range(72)]]\n",
    "               \n",
    "nonsens_text =\" \"\n",
    "\n",
    "for w in nonsens:\n",
    "          nonsens_text=nonsens_text+\" \"+w\n",
    "print(\"nonsens text:\",nonsens_text)\n",
    "          \n",
    "nonsens_corpus= Corpus(nonsens_text)\n",
    "print(nonsens_corpus.prop())"
   ]
  },
  {
   "cell_type": "code",
   "execution_count": 6,
   "id": "a97987e9",
   "metadata": {},
   "outputs": [],
   "source": [
    "history_lenghth = 3"
   ]
  },
  {
   "cell_type": "code",
   "execution_count": 7,
   "id": "7059caf7",
   "metadata": {},
   "outputs": [],
   "source": [
    "x_sense,y = working_window(history_lenghth, splited_text=corpus.split_text)\n",
    "y_sense = [1 for i in range(len(x_sense))]"
   ]
  },
  {
   "cell_type": "code",
   "execution_count": 8,
   "id": "5980f004",
   "metadata": {},
   "outputs": [],
   "source": [
    "x_nonsense,y = working_window(history_lenghth, splited_text=nonsens_corpus.split_text)\n",
    "y_nonsense = [0 for i in range(len(x_nonsense))]"
   ]
  },
  {
   "cell_type": "code",
   "execution_count": 9,
   "id": "873cf398",
   "metadata": {},
   "outputs": [
    {
     "data": {
      "text/plain": [
       "['ursul', 'are', 'bot']"
      ]
     },
     "execution_count": 9,
     "metadata": {},
     "output_type": "execute_result"
    }
   ],
   "source": [
    "x_sense[0]"
   ]
  },
  {
   "cell_type": "code",
   "execution_count": 10,
   "id": "709a7bc3",
   "metadata": {},
   "outputs": [
    {
     "data": {
      "text/plain": [
       "['punct', 'bot', 'punct']"
      ]
     },
     "execution_count": 10,
     "metadata": {},
     "output_type": "execute_result"
    }
   ],
   "source": [
    "x_nonsense[0]"
   ]
  },
  {
   "cell_type": "code",
   "execution_count": 11,
   "id": "0231eb8b",
   "metadata": {},
   "outputs": [
    {
     "name": "stdout",
     "output_type": "stream",
     "text": [
      "136\n",
      "136\n"
     ]
    }
   ],
   "source": [
    "x_merge=x_sense.copy()\n",
    "for piece in x_nonsense:\n",
    "    x_merge.append(piece)\n",
    "print(len(x_merge))\n",
    "\n",
    "y_merge=y_sense.copy()\n",
    "for piece in y_nonsense:\n",
    "    y_merge.append(piece)\n",
    "print(len(y_merge))"
   ]
  },
  {
   "cell_type": "markdown",
   "id": "e0d8f67d",
   "metadata": {},
   "source": [
    "## Diagram embeding"
   ]
  },
  {
   "cell_type": "markdown",
   "id": "ffee3b52",
   "metadata": {},
   "source": [
    "### Initial distribution"
   ]
  },
  {
   "cell_type": "code",
   "execution_count": 12,
   "id": "2dab4d82",
   "metadata": {},
   "outputs": [
    {
     "name": "stdout",
     "output_type": "stream",
     "text": [
      "keys dict_keys(['cainele', 'ursul', 'bot', 'are', 'este', 'fericit', 'punct', 'frumos'])\n"
     ]
    },
    {
     "data": {
      "image/png": "[encoded data removed]",
      "text/plain": [
       "<Figure size 432x288 with 1 Axes>"
      ]
     },
     "metadata": {
      "needs_background": "light"
     },
     "output_type": "display_data"
    }
   ],
   "source": [
    "print(\"keys\",parameterize_vovabulary.keys())\n",
    "\n",
    "x_old=[]\n",
    "y_old=[]\n",
    "z_old=[]\n",
    "\n",
    "for key in parameterize_vovabulary.keys():\n",
    "    x_old.append(parameterize_vovabulary[key][0])\n",
    "    y_old.append(parameterize_vovabulary[key][1])\n",
    "    z_old.append(parameterize_vovabulary[key][2])\n",
    "    \n",
    "pp.figure().add_subplot(111, projection='3d').scatter(x_old, y_old, z_old);\n",
    "pp.show()"
   ]
  },
  {
   "cell_type": "code",
   "execution_count": 13,
   "id": "2746ee12",
   "metadata": {},
   "outputs": [
    {
     "data": {
      "text/plain": [
       "[[0.0, 1.0, 0.0],\n",
       " [-0.516050715285824, 0.7142857142857143, 0.4727447277551981],\n",
       " [0.07898983319899221, 0.4285714285714286, -0.9000484080667219],\n",
       " [0.6021982974369868, 0.1428571428571429, 0.7854610412354569],\n",
       " [-0.9746135928368869, -0.1428571428571428, -0.17239542161051932],\n",
       " [0.7623395769811511, -0.4285714285714286, -0.4849380372588282],\n",
       " [-0.18168516629672943, -0.7142857142857142, 0.6758597626098751],\n",
       " [-0.0, -1.0, -0.0]]"
      ]
     },
     "execution_count": 13,
     "metadata": {},
     "output_type": "execute_result"
    }
   ],
   "source": [
    "vocabulary_parameters= [parameterize_vovabulary[key] for key in parameterize_vovabulary.keys()]\n",
    "vocabulary_parameters"
   ]
  },
  {
   "cell_type": "code",
   "execution_count": 14,
   "id": "9f7d8bbe",
   "metadata": {},
   "outputs": [],
   "source": [
    "def update_vocabulary(parameterize_vovabulary, vocabulary_parameters):\n",
    "    \n",
    "    \n",
    "    \n",
    "    print(\"\\n\\n ###vp\",vocabulary_parameters)\n",
    "    i=0\n",
    "    for key in parameterize_vovabulary.keys():\n",
    "        parameterize_vovabulary[key]=[k for k in vocabulary_parameters[i]]\n",
    "        i=i+1\n",
    "    \n",
    "\n",
    "    print(\"pv:\",parameterize_vovabulary)\n",
    "    return parameterize_vovabulary"
   ]
  },
  {
   "cell_type": "code",
   "execution_count": 15,
   "id": "88b9805f",
   "metadata": {},
   "outputs": [],
   "source": [
    "dev = qml.device(\"default.qubit\", wires=6)\n",
    "\n",
    "@qml.qnode(dev)\n",
    "def sense_circutis(x):\n",
    "    \n",
    "    #words embeding \n",
    "    for i in range(len(x)):\n",
    "        \n",
    "        put_word_on_sphere(x[i], qubit=i)\n",
    "        \n",
    "        \n",
    "    # interaction\n",
    "    for i in range(1,len(x)):\n",
    "        qml.CNOT(wires=[0,i])\n",
    "        \n",
    "    return  qml.expval(qml.PauliZ(0)) # aici trbuie verificat daca am facut bine \n",
    "                                      # si nu cumva trebuie s apun ccond ca restuls a fie 0"
   ]
  },
  {
   "cell_type": "code",
   "execution_count": 16,
   "id": "90f61734",
   "metadata": {},
   "outputs": [
    {
     "data": {
      "text/plain": [
       "{'cainele': [0.0, 1.0, 0.0],\n",
       " 'ursul': [-0.516050715285824, 0.7142857142857143, 0.4727447277551981],\n",
       " 'bot': [0.07898983319899221, 0.4285714285714286, -0.9000484080667219],\n",
       " 'are': [0.6021982974369868, 0.1428571428571429, 0.7854610412354569],\n",
       " 'este': [-0.9746135928368869, -0.1428571428571428, -0.17239542161051932],\n",
       " 'fericit': [0.7623395769811511, -0.4285714285714286, -0.4849380372588282],\n",
       " 'punct': [-0.18168516629672943, -0.7142857142857142, 0.6758597626098751],\n",
       " 'frumos': [-0.0, -1.0, -0.0]}"
      ]
     },
     "execution_count": 16,
     "metadata": {},
     "output_type": "execute_result"
    }
   ],
   "source": [
    "parameterize_vovabulary"
   ]
  },
  {
   "cell_type": "code",
   "execution_count": 17,
   "id": "bd2697c6",
   "metadata": {},
   "outputs": [
    {
     "data": {
      "text/plain": [
       "['ursul', 'are', 'bot']"
      ]
     },
     "execution_count": 17,
     "metadata": {},
     "output_type": "execute_result"
    }
   ],
   "source": [
    "x_sense[0]"
   ]
  },
  {
   "cell_type": "code",
   "execution_count": 18,
   "id": "dc9bb67b",
   "metadata": {},
   "outputs": [
    {
     "data": {
      "text/plain": [
       "[-0.516050715285824, 0.7142857142857143, 0.4727447277551981]"
      ]
     },
     "execution_count": 18,
     "metadata": {},
     "output_type": "execute_result"
    }
   ],
   "source": [
    "parameterize_vovabulary['ursul']"
   ]
  },
  {
   "cell_type": "code",
   "execution_count": 19,
   "id": "ffff6582",
   "metadata": {},
   "outputs": [
    {
     "name": "stdout",
     "output_type": "stream",
     "text": [
      " 0: ──RY(5.2)────RZ(-0.945)──╭C──╭C──┤ ⟨Z⟩ \n",
      " 1: ──RY(0.667)──RZ(0.233)───╰X──│───┤     \n",
      " 2: ──RY(-3.59)──RZ(1.39)────────╰X──┤     \n",
      "\n"
     ]
    }
   ],
   "source": [
    "\"ursul are bot punct\"\n",
    "\n",
    "x_vec=[ parameterize_vovabulary[w] for w in x_sense[0]]\n",
    "\n",
    "\n",
    "\n",
    "print(qml.draw(sense_circutis)(x_vec))"
   ]
  },
  {
   "cell_type": "code",
   "execution_count": 20,
   "id": "192c2682",
   "metadata": {},
   "outputs": [
    {
     "name": "stdout",
     "output_type": "stream",
     "text": [
      "pred 0.4727447277551978\n"
     ]
    }
   ],
   "source": [
    "pred = sense_circutis(x_vec)\n",
    "print(\"pred\",pred)"
   ]
  },
  {
   "cell_type": "markdown",
   "id": "633a2c75",
   "metadata": {},
   "source": [
    "### Sense learning"
   ]
  },
  {
   "cell_type": "code",
   "execution_count": 21,
   "id": "c63ee7e3",
   "metadata": {},
   "outputs": [],
   "source": [
    "def cost(params, x,y):\n",
    "    \n",
    "    \n",
    "    global parameterize_vovabulary\n",
    "    parameterize_vovabulary = update_vocabulary(parameterize_vovabulary, params)\n",
    "    print(\"\\n !!!!pv:\",parameterize_vovabulary)\n",
    "    print(\"\\n\\n \\n params:\",params)\n",
    "    x_vec=[[ parameterize_vovabulary[w] for w in piece] for piece in x] \n",
    "    \n",
    "    \n",
    "    predictions = [sense_circutis(w_input) for w_input in x_vec ]\n",
    "\n",
    "    c=0.0\n",
    "    for i in range(len(predictions)):\n",
    "        c = c+ (predictions[i] - y[i])**2\n",
    "\n",
    "    c=c/len(predictions)\n",
    "\n",
    "    return np.array(c)"
   ]
  },
  {
   "cell_type": "code",
   "execution_count": 22,
   "id": "d9b62758",
   "metadata": {},
   "outputs": [],
   "source": [
    "def sense_accuracy(predictions, y):\n",
    "\n",
    "    ac=0\n",
    "    int_pred= [int(predict+0.5) for predict in predictions ]\n",
    "    print(\"predictions\", int_pred)\n",
    "    for i in range(len(y)):\n",
    "        if int(y[i])==int_pred[i]:\n",
    "            ac=ac+1\n",
    "            \n",
    "    return ac/len(y)"
   ]
  },
  {
   "cell_type": "markdown",
   "id": "0f815100",
   "metadata": {},
   "source": [
    "#### Training"
   ]
  },
  {
   "cell_type": "code",
   "execution_count": 23,
   "id": "6fd63b59",
   "metadata": {},
   "outputs": [],
   "source": [
    "## Model parameters \n",
    "\n",
    "params= vocabulary_parameters\n",
    "\n",
    "learning_rate= 0.6\n",
    "opt = AdamOptimizer(learning_rate, beta1=0.9, beta2=0.999)\n",
    "\n",
    "nr_epochs= 10"
   ]
  },
  {
   "cell_type": "code",
   "execution_count": 24,
   "id": "66464f84",
   "metadata": {},
   "outputs": [
    {
     "name": "stdout",
     "output_type": "stream",
     "text": [
      "\n",
      "\n",
      " ###vp Autograd SequenceBox with value [[0.0, 1.0, 0.0], [-0.516050715285824, 0.7142857142857143, 0.4727447277551981], [0.07898983319899221, 0.4285714285714286, -0.9000484080667219], [0.6021982974369868, 0.1428571428571429, 0.7854610412354569], [-0.9746135928368869, -0.1428571428571428, -0.17239542161051932], [0.7623395769811511, -0.4285714285714286, -0.4849380372588282], [-0.18168516629672943, -0.7142857142857142, 0.6758597626098751], [-0.0, -1.0, -0.0]]\n"
     ]
    },
    {
     "name": "stderr",
     "output_type": "stream",
     "text": [
      "/Users/voicutu/opt/anaconda3/envs/qsong/lib/python3.9/site-packages/pennylane/_grad.py:95: UserWarning: Starting with PennyLane v0.21.0, when using Autograd, inputs have to explicitly specify requires_grad=True (or the argnum argument must be passed) in order for trainable parameters to be identified.\n",
      "  warnings.warn(\n"
     ]
    },
    {
     "ename": "AttributeError",
     "evalue": "'ArrayBox' object has no attribute 'value'",
     "output_type": "error",
     "traceback": [
      "\u001b[0;31m---------------------------------------------------------------------------\u001b[0m",
      "\u001b[0;31mAttributeError\u001b[0m                            Traceback (most recent call last)",
      "Input \u001b[0;32mIn [24]\u001b[0m, in \u001b[0;36m<module>\u001b[0;34m\u001b[0m\n\u001b[1;32m      2\u001b[0m ac_progres\u001b[38;5;241m=\u001b[39m[]\n\u001b[1;32m      3\u001b[0m \u001b[38;5;28;01mfor\u001b[39;00m e \u001b[38;5;129;01min\u001b[39;00m \u001b[38;5;28mrange\u001b[39m(nr_epochs):\n\u001b[0;32m----> 4\u001b[0m     params, ls \u001b[38;5;241m=\u001b[39m \u001b[43mopt\u001b[49m\u001b[38;5;241;43m.\u001b[39;49m\u001b[43mstep_and_cost\u001b[49m\u001b[43m(\u001b[49m\u001b[38;5;28;43;01mlambda\u001b[39;49;00m\u001b[43m \u001b[49m\u001b[43mp\u001b[49m\u001b[43m:\u001b[49m\u001b[43m \u001b[49m\u001b[43mcost\u001b[49m\u001b[43m(\u001b[49m\u001b[43m \u001b[49m\u001b[43mparams\u001b[49m\u001b[38;5;241;43m=\u001b[39;49m\u001b[43mp\u001b[49m\u001b[43m,\u001b[49m\u001b[43m \u001b[49m\u001b[43mx\u001b[49m\u001b[38;5;241;43m=\u001b[39;49m\u001b[43mx_merge\u001b[49m\u001b[43m,\u001b[49m\u001b[43m \u001b[49m\u001b[43my\u001b[49m\u001b[38;5;241;43m=\u001b[39;49m\u001b[43my_merge\u001b[49m\u001b[43m)\u001b[49m\u001b[43m,\u001b[49m\u001b[43mparams\u001b[49m\u001b[43m)\u001b[49m\n\u001b[1;32m      6\u001b[0m     \u001b[38;5;28mprint\u001b[39m(\u001b[38;5;124m\"\u001b[39m\u001b[38;5;124mIter:\u001b[39m\u001b[38;5;132;01m{}\u001b[39;00m\u001b[38;5;124m | train_cost:\u001b[39m\u001b[38;5;132;01m{}\u001b[39;00m\u001b[38;5;124m\"\u001b[39m\u001b[38;5;241m.\u001b[39mformat(e, ls))\n\u001b[1;32m      7\u001b[0m     ls_progres\u001b[38;5;241m.\u001b[39mappend(ls)\n",
      "File \u001b[0;32m~/opt/anaconda3/envs/qsong/lib/python3.9/site-packages/pennylane/optimize/gradient_descent.py:100\u001b[0m, in \u001b[0;36mGradientDescentOptimizer.step_and_cost\u001b[0;34m(self, objective_fn, grad_fn, *args, **kwargs)\u001b[0m\n\u001b[1;32m     80\u001b[0m \u001b[38;5;28;01mdef\u001b[39;00m \u001b[38;5;21mstep_and_cost\u001b[39m(\u001b[38;5;28mself\u001b[39m, objective_fn, \u001b[38;5;241m*\u001b[39margs, grad_fn\u001b[38;5;241m=\u001b[39m\u001b[38;5;28;01mNone\u001b[39;00m, \u001b[38;5;241m*\u001b[39m\u001b[38;5;241m*\u001b[39mkwargs):\n\u001b[1;32m     81\u001b[0m     \u001b[38;5;124;03m\"\"\"Update trainable arguments with one step of the optimizer and return the corresponding\u001b[39;00m\n\u001b[1;32m     82\u001b[0m \u001b[38;5;124;03m    objective function value prior to the step.\u001b[39;00m\n\u001b[1;32m     83\u001b[0m \n\u001b[0;32m   (...)\u001b[0m\n\u001b[1;32m     97\u001b[0m \u001b[38;5;124;03m        If single arg is provided, list [array] is replaced by array.\u001b[39;00m\n\u001b[1;32m     98\u001b[0m \u001b[38;5;124;03m    \"\"\"\u001b[39;00m\n\u001b[0;32m--> 100\u001b[0m     g, forward \u001b[38;5;241m=\u001b[39m \u001b[38;5;28;43mself\u001b[39;49m\u001b[38;5;241;43m.\u001b[39;49m\u001b[43mcompute_grad\u001b[49m\u001b[43m(\u001b[49m\u001b[43mobjective_fn\u001b[49m\u001b[43m,\u001b[49m\u001b[43m \u001b[49m\u001b[43margs\u001b[49m\u001b[43m,\u001b[49m\u001b[43m \u001b[49m\u001b[43mkwargs\u001b[49m\u001b[43m,\u001b[49m\u001b[43m \u001b[49m\u001b[43mgrad_fn\u001b[49m\u001b[38;5;241;43m=\u001b[39;49m\u001b[43mgrad_fn\u001b[49m\u001b[43m)\u001b[49m\n\u001b[1;32m    101\u001b[0m     new_args \u001b[38;5;241m=\u001b[39m \u001b[38;5;28mself\u001b[39m\u001b[38;5;241m.\u001b[39mapply_grad(g, args)\n\u001b[1;32m    103\u001b[0m     \u001b[38;5;28;01mif\u001b[39;00m forward \u001b[38;5;129;01mis\u001b[39;00m \u001b[38;5;28;01mNone\u001b[39;00m:\n",
      "File \u001b[0;32m~/opt/anaconda3/envs/qsong/lib/python3.9/site-packages/pennylane/optimize/gradient_descent.py:158\u001b[0m, in \u001b[0;36mGradientDescentOptimizer.compute_grad\u001b[0;34m(objective_fn, args, kwargs, grad_fn)\u001b[0m\n\u001b[1;32m    140\u001b[0m \u001b[38;5;124mr\u001b[39m\u001b[38;5;124;03m\"\"\"Compute gradient of the objective function at the given point and return it along with\u001b[39;00m\n\u001b[1;32m    141\u001b[0m \u001b[38;5;124;03mthe objective function forward pass (if available).\u001b[39;00m\n\u001b[1;32m    142\u001b[0m \n\u001b[0;32m   (...)\u001b[0m\n\u001b[1;32m    155\u001b[0m \u001b[38;5;124;03m    will not be evaluted and instead ``None`` will be returned.\u001b[39;00m\n\u001b[1;32m    156\u001b[0m \u001b[38;5;124;03m\"\"\"\u001b[39;00m\n\u001b[1;32m    157\u001b[0m g \u001b[38;5;241m=\u001b[39m get_gradient(objective_fn) \u001b[38;5;28;01mif\u001b[39;00m grad_fn \u001b[38;5;129;01mis\u001b[39;00m \u001b[38;5;28;01mNone\u001b[39;00m \u001b[38;5;28;01melse\u001b[39;00m grad_fn\n\u001b[0;32m--> 158\u001b[0m grad \u001b[38;5;241m=\u001b[39m \u001b[43mg\u001b[49m\u001b[43m(\u001b[49m\u001b[38;5;241;43m*\u001b[39;49m\u001b[43margs\u001b[49m\u001b[43m,\u001b[49m\u001b[43m \u001b[49m\u001b[38;5;241;43m*\u001b[39;49m\u001b[38;5;241;43m*\u001b[39;49m\u001b[43mkwargs\u001b[49m\u001b[43m)\u001b[49m\n\u001b[1;32m    159\u001b[0m forward \u001b[38;5;241m=\u001b[39m \u001b[38;5;28mgetattr\u001b[39m(g, \u001b[38;5;124m\"\u001b[39m\u001b[38;5;124mforward\u001b[39m\u001b[38;5;124m\"\u001b[39m, \u001b[38;5;28;01mNone\u001b[39;00m)\n\u001b[1;32m    161\u001b[0m num_trainable_args \u001b[38;5;241m=\u001b[39m \u001b[38;5;241m0\u001b[39m\n",
      "File \u001b[0;32m~/opt/anaconda3/envs/qsong/lib/python3.9/site-packages/pennylane/_grad.py:120\u001b[0m, in \u001b[0;36mgrad.__call__\u001b[0;34m(self, *args, **kwargs)\u001b[0m\n\u001b[1;32m    117\u001b[0m \u001b[38;5;28;01mdef\u001b[39;00m \u001b[38;5;21m__call__\u001b[39m(\u001b[38;5;28mself\u001b[39m, \u001b[38;5;241m*\u001b[39margs, \u001b[38;5;241m*\u001b[39m\u001b[38;5;241m*\u001b[39mkwargs):\n\u001b[1;32m    118\u001b[0m     \u001b[38;5;124;03m\"\"\"Evaluates the gradient function, and saves the function value\u001b[39;00m\n\u001b[1;32m    119\u001b[0m \u001b[38;5;124;03m    calculated during the forward pass in :attr:`.forward`.\"\"\"\u001b[39;00m\n\u001b[0;32m--> 120\u001b[0m     grad_value, ans \u001b[38;5;241m=\u001b[39m \u001b[38;5;28;43mself\u001b[39;49m\u001b[38;5;241;43m.\u001b[39;49m\u001b[43m_get_grad_fn\u001b[49m\u001b[43m(\u001b[49m\u001b[43margs\u001b[49m\u001b[43m)\u001b[49m\u001b[43m(\u001b[49m\u001b[38;5;241;43m*\u001b[39;49m\u001b[43margs\u001b[49m\u001b[43m,\u001b[49m\u001b[43m \u001b[49m\u001b[38;5;241;43m*\u001b[39;49m\u001b[38;5;241;43m*\u001b[39;49m\u001b[43mkwargs\u001b[49m\u001b[43m)\u001b[49m\n\u001b[1;32m    121\u001b[0m     \u001b[38;5;28mself\u001b[39m\u001b[38;5;241m.\u001b[39m_forward \u001b[38;5;241m=\u001b[39m ans\n\u001b[1;32m    122\u001b[0m     \u001b[38;5;28;01mreturn\u001b[39;00m grad_value\n",
      "File \u001b[0;32m~/opt/anaconda3/envs/qsong/lib/python3.9/site-packages/autograd/wrap_util.py:20\u001b[0m, in \u001b[0;36munary_to_nary.<locals>.nary_operator.<locals>.nary_f\u001b[0;34m(*args, **kwargs)\u001b[0m\n\u001b[1;32m     18\u001b[0m \u001b[38;5;28;01melse\u001b[39;00m:\n\u001b[1;32m     19\u001b[0m     x \u001b[38;5;241m=\u001b[39m \u001b[38;5;28mtuple\u001b[39m(args[i] \u001b[38;5;28;01mfor\u001b[39;00m i \u001b[38;5;129;01min\u001b[39;00m argnum)\n\u001b[0;32m---> 20\u001b[0m \u001b[38;5;28;01mreturn\u001b[39;00m \u001b[43munary_operator\u001b[49m\u001b[43m(\u001b[49m\u001b[43munary_f\u001b[49m\u001b[43m,\u001b[49m\u001b[43m \u001b[49m\u001b[43mx\u001b[49m\u001b[43m,\u001b[49m\u001b[43m \u001b[49m\u001b[38;5;241;43m*\u001b[39;49m\u001b[43mnary_op_args\u001b[49m\u001b[43m,\u001b[49m\u001b[43m \u001b[49m\u001b[38;5;241;43m*\u001b[39;49m\u001b[38;5;241;43m*\u001b[39;49m\u001b[43mnary_op_kwargs\u001b[49m\u001b[43m)\u001b[49m\n",
      "File \u001b[0;32m~/opt/anaconda3/envs/qsong/lib/python3.9/site-packages/pennylane/_grad.py:137\u001b[0m, in \u001b[0;36mgrad._grad_with_forward\u001b[0;34m(fun, x)\u001b[0m\n\u001b[1;32m    131\u001b[0m \u001b[38;5;129m@staticmethod\u001b[39m\n\u001b[1;32m    132\u001b[0m \u001b[38;5;129m@unary_to_nary\u001b[39m\n\u001b[1;32m    133\u001b[0m \u001b[38;5;28;01mdef\u001b[39;00m \u001b[38;5;21m_grad_with_forward\u001b[39m(fun, x):\n\u001b[1;32m    134\u001b[0m     \u001b[38;5;124;03m\"\"\"This function is a replica of ``autograd.grad``, with the only\u001b[39;00m\n\u001b[1;32m    135\u001b[0m \u001b[38;5;124;03m    difference being that it returns both the gradient *and* the forward pass\u001b[39;00m\n\u001b[1;32m    136\u001b[0m \u001b[38;5;124;03m    value.\"\"\"\u001b[39;00m\n\u001b[0;32m--> 137\u001b[0m     vjp, ans \u001b[38;5;241m=\u001b[39m \u001b[43m_make_vjp\u001b[49m\u001b[43m(\u001b[49m\u001b[43mfun\u001b[49m\u001b[43m,\u001b[49m\u001b[43m \u001b[49m\u001b[43mx\u001b[49m\u001b[43m)\u001b[49m\n\u001b[1;32m    139\u001b[0m     \u001b[38;5;28;01mif\u001b[39;00m \u001b[38;5;129;01mnot\u001b[39;00m vspace(ans)\u001b[38;5;241m.\u001b[39msize \u001b[38;5;241m==\u001b[39m \u001b[38;5;241m1\u001b[39m:\n\u001b[1;32m    140\u001b[0m         \u001b[38;5;28;01mraise\u001b[39;00m \u001b[38;5;167;01mTypeError\u001b[39;00m(\n\u001b[1;32m    141\u001b[0m             \u001b[38;5;124m\"\u001b[39m\u001b[38;5;124mGrad only applies to real scalar-output functions. \u001b[39m\u001b[38;5;124m\"\u001b[39m\n\u001b[1;32m    142\u001b[0m             \u001b[38;5;124m\"\u001b[39m\u001b[38;5;124mTry jacobian, elementwise_grad or holomorphic_grad.\u001b[39m\u001b[38;5;124m\"\u001b[39m\n\u001b[1;32m    143\u001b[0m         )\n",
      "File \u001b[0;32m~/opt/anaconda3/envs/qsong/lib/python3.9/site-packages/autograd/core.py:10\u001b[0m, in \u001b[0;36mmake_vjp\u001b[0;34m(fun, x)\u001b[0m\n\u001b[1;32m      8\u001b[0m \u001b[38;5;28;01mdef\u001b[39;00m \u001b[38;5;21mmake_vjp\u001b[39m(fun, x):\n\u001b[1;32m      9\u001b[0m     start_node \u001b[38;5;241m=\u001b[39m VJPNode\u001b[38;5;241m.\u001b[39mnew_root()\n\u001b[0;32m---> 10\u001b[0m     end_value, end_node \u001b[38;5;241m=\u001b[39m  \u001b[43mtrace\u001b[49m\u001b[43m(\u001b[49m\u001b[43mstart_node\u001b[49m\u001b[43m,\u001b[49m\u001b[43m \u001b[49m\u001b[43mfun\u001b[49m\u001b[43m,\u001b[49m\u001b[43m \u001b[49m\u001b[43mx\u001b[49m\u001b[43m)\u001b[49m\n\u001b[1;32m     11\u001b[0m     \u001b[38;5;28;01mif\u001b[39;00m end_node \u001b[38;5;129;01mis\u001b[39;00m \u001b[38;5;28;01mNone\u001b[39;00m:\n\u001b[1;32m     12\u001b[0m         \u001b[38;5;28;01mdef\u001b[39;00m \u001b[38;5;21mvjp\u001b[39m(g): \u001b[38;5;28;01mreturn\u001b[39;00m vspace(x)\u001b[38;5;241m.\u001b[39mzeros()\n",
      "File \u001b[0;32m~/opt/anaconda3/envs/qsong/lib/python3.9/site-packages/autograd/tracer.py:10\u001b[0m, in \u001b[0;36mtrace\u001b[0;34m(start_node, fun, x)\u001b[0m\n\u001b[1;32m      8\u001b[0m \u001b[38;5;28;01mwith\u001b[39;00m trace_stack\u001b[38;5;241m.\u001b[39mnew_trace() \u001b[38;5;28;01mas\u001b[39;00m t:\n\u001b[1;32m      9\u001b[0m     start_box \u001b[38;5;241m=\u001b[39m new_box(x, t, start_node)\n\u001b[0;32m---> 10\u001b[0m     end_box \u001b[38;5;241m=\u001b[39m \u001b[43mfun\u001b[49m\u001b[43m(\u001b[49m\u001b[43mstart_box\u001b[49m\u001b[43m)\u001b[49m\n\u001b[1;32m     11\u001b[0m     \u001b[38;5;28;01mif\u001b[39;00m isbox(end_box) \u001b[38;5;129;01mand\u001b[39;00m end_box\u001b[38;5;241m.\u001b[39m_trace \u001b[38;5;241m==\u001b[39m start_box\u001b[38;5;241m.\u001b[39m_trace:\n\u001b[1;32m     12\u001b[0m         \u001b[38;5;28;01mreturn\u001b[39;00m end_box\u001b[38;5;241m.\u001b[39m_value, end_box\u001b[38;5;241m.\u001b[39m_node\n",
      "File \u001b[0;32m~/opt/anaconda3/envs/qsong/lib/python3.9/site-packages/autograd/wrap_util.py:15\u001b[0m, in \u001b[0;36munary_to_nary.<locals>.nary_operator.<locals>.nary_f.<locals>.unary_f\u001b[0;34m(x)\u001b[0m\n\u001b[1;32m     13\u001b[0m \u001b[38;5;28;01melse\u001b[39;00m:\n\u001b[1;32m     14\u001b[0m     subargs \u001b[38;5;241m=\u001b[39m subvals(args, \u001b[38;5;28mzip\u001b[39m(argnum, x))\n\u001b[0;32m---> 15\u001b[0m \u001b[38;5;28;01mreturn\u001b[39;00m \u001b[43mfun\u001b[49m\u001b[43m(\u001b[49m\u001b[38;5;241;43m*\u001b[39;49m\u001b[43msubargs\u001b[49m\u001b[43m,\u001b[49m\u001b[43m \u001b[49m\u001b[38;5;241;43m*\u001b[39;49m\u001b[38;5;241;43m*\u001b[39;49m\u001b[43mkwargs\u001b[49m\u001b[43m)\u001b[49m\n",
      "Input \u001b[0;32mIn [24]\u001b[0m, in \u001b[0;36m<lambda>\u001b[0;34m(p)\u001b[0m\n\u001b[1;32m      2\u001b[0m ac_progres\u001b[38;5;241m=\u001b[39m[]\n\u001b[1;32m      3\u001b[0m \u001b[38;5;28;01mfor\u001b[39;00m e \u001b[38;5;129;01min\u001b[39;00m \u001b[38;5;28mrange\u001b[39m(nr_epochs):\n\u001b[0;32m----> 4\u001b[0m     params, ls \u001b[38;5;241m=\u001b[39m opt\u001b[38;5;241m.\u001b[39mstep_and_cost(\u001b[38;5;28;01mlambda\u001b[39;00m p: \u001b[43mcost\u001b[49m\u001b[43m(\u001b[49m\u001b[43m \u001b[49m\u001b[43mparams\u001b[49m\u001b[38;5;241;43m=\u001b[39;49m\u001b[43mp\u001b[49m\u001b[43m,\u001b[49m\u001b[43m \u001b[49m\u001b[43mx\u001b[49m\u001b[38;5;241;43m=\u001b[39;49m\u001b[43mx_merge\u001b[49m\u001b[43m,\u001b[49m\u001b[43m \u001b[49m\u001b[43my\u001b[49m\u001b[38;5;241;43m=\u001b[39;49m\u001b[43my_merge\u001b[49m\u001b[43m)\u001b[49m,params)\n\u001b[1;32m      6\u001b[0m     \u001b[38;5;28mprint\u001b[39m(\u001b[38;5;124m\"\u001b[39m\u001b[38;5;124mIter:\u001b[39m\u001b[38;5;132;01m{}\u001b[39;00m\u001b[38;5;124m | train_cost:\u001b[39m\u001b[38;5;132;01m{}\u001b[39;00m\u001b[38;5;124m\"\u001b[39m\u001b[38;5;241m.\u001b[39mformat(e, ls))\n\u001b[1;32m      7\u001b[0m     ls_progres\u001b[38;5;241m.\u001b[39mappend(ls)\n",
      "Input \u001b[0;32mIn [21]\u001b[0m, in \u001b[0;36mcost\u001b[0;34m(params, x, y)\u001b[0m\n\u001b[1;32m      1\u001b[0m \u001b[38;5;28;01mdef\u001b[39;00m \u001b[38;5;21mcost\u001b[39m(params, x,y):\n\u001b[1;32m      4\u001b[0m     \u001b[38;5;28;01mglobal\u001b[39;00m parameterize_vovabulary\n\u001b[0;32m----> 5\u001b[0m     parameterize_vovabulary \u001b[38;5;241m=\u001b[39m \u001b[43mupdate_vocabulary\u001b[49m\u001b[43m(\u001b[49m\u001b[43mparameterize_vovabulary\u001b[49m\u001b[43m,\u001b[49m\u001b[43m \u001b[49m\u001b[43mparams\u001b[49m\u001b[43m)\u001b[49m\n\u001b[1;32m      6\u001b[0m     \u001b[38;5;28mprint\u001b[39m(\u001b[38;5;124m\"\u001b[39m\u001b[38;5;130;01m\\n\u001b[39;00m\u001b[38;5;124m !!!!pv:\u001b[39m\u001b[38;5;124m\"\u001b[39m,parameterize_vovabulary)\n\u001b[1;32m      7\u001b[0m     \u001b[38;5;28mprint\u001b[39m(\u001b[38;5;124m\"\u001b[39m\u001b[38;5;130;01m\\n\u001b[39;00m\u001b[38;5;130;01m\\n\u001b[39;00m\u001b[38;5;124m \u001b[39m\u001b[38;5;130;01m\\n\u001b[39;00m\u001b[38;5;124m params:\u001b[39m\u001b[38;5;124m\"\u001b[39m,params)\n",
      "Input \u001b[0;32mIn [14]\u001b[0m, in \u001b[0;36mupdate_vocabulary\u001b[0;34m(parameterize_vovabulary, vocabulary_parameters)\u001b[0m\n\u001b[1;32m      6\u001b[0m i\u001b[38;5;241m=\u001b[39m\u001b[38;5;241m0\u001b[39m\n\u001b[1;32m      7\u001b[0m \u001b[38;5;28;01mfor\u001b[39;00m key \u001b[38;5;129;01min\u001b[39;00m parameterize_vovabulary\u001b[38;5;241m.\u001b[39mkeys():\n\u001b[0;32m----> 8\u001b[0m     parameterize_vovabulary[key]\u001b[38;5;241m=\u001b[39m[k\u001b[38;5;241m.\u001b[39mvalue \u001b[38;5;28;01mfor\u001b[39;00m k \u001b[38;5;129;01min\u001b[39;00m vocabulary_parameters[i]]\n\u001b[1;32m      9\u001b[0m     i\u001b[38;5;241m=\u001b[39mi\u001b[38;5;241m+\u001b[39m\u001b[38;5;241m1\u001b[39m\n\u001b[1;32m     12\u001b[0m \u001b[38;5;28mprint\u001b[39m(\u001b[38;5;124m\"\u001b[39m\u001b[38;5;124mpv:\u001b[39m\u001b[38;5;124m\"\u001b[39m,parameterize_vovabulary)\n",
      "Input \u001b[0;32mIn [14]\u001b[0m, in \u001b[0;36m<listcomp>\u001b[0;34m(.0)\u001b[0m\n\u001b[1;32m      6\u001b[0m i\u001b[38;5;241m=\u001b[39m\u001b[38;5;241m0\u001b[39m\n\u001b[1;32m      7\u001b[0m \u001b[38;5;28;01mfor\u001b[39;00m key \u001b[38;5;129;01min\u001b[39;00m parameterize_vovabulary\u001b[38;5;241m.\u001b[39mkeys():\n\u001b[0;32m----> 8\u001b[0m     parameterize_vovabulary[key]\u001b[38;5;241m=\u001b[39m[\u001b[43mk\u001b[49m\u001b[38;5;241;43m.\u001b[39;49m\u001b[43mvalue\u001b[49m \u001b[38;5;28;01mfor\u001b[39;00m k \u001b[38;5;129;01min\u001b[39;00m vocabulary_parameters[i]]\n\u001b[1;32m      9\u001b[0m     i\u001b[38;5;241m=\u001b[39mi\u001b[38;5;241m+\u001b[39m\u001b[38;5;241m1\u001b[39m\n\u001b[1;32m     12\u001b[0m \u001b[38;5;28mprint\u001b[39m(\u001b[38;5;124m\"\u001b[39m\u001b[38;5;124mpv:\u001b[39m\u001b[38;5;124m\"\u001b[39m,parameterize_vovabulary)\n",
      "\u001b[0;31mAttributeError\u001b[0m: 'ArrayBox' object has no attribute 'value'"
     ]
    }
   ],
   "source": [
    "ls_progres=[]\n",
    "ac_progres=[]\n",
    "for e in range(nr_epochs):\n",
    "    params, ls = opt.step_and_cost(lambda p: cost( params=p, x=x_merge, y=y_merge),params)\n",
    "\n",
    "    print(\"Iter:{} | train_cost:{}\".format(e, ls))\n",
    "    ls_progres.append(ls)\n",
    "\n",
    "\n",
    "    if e%10==0:\n",
    "        \n",
    "        parameterize_vovabulary = update_vocabulary(parameterize_vovabulary, params)\n",
    "        x_vec=[[ parameterize_vovabulary[w] for w in piece] for piece in x_merge]\n",
    "    \n",
    "        predictions = [sense_circutis(w_input) for w_input in x_vec ]\n",
    "        \n",
    "        \n",
    "        ac=sense_accuracy(predictions, y=y_merge)\n",
    "        ac_progres.append(ac)\n",
    "        \n",
    "        print(\"ac:\",ac)\n"
   ]
  },
  {
   "cell_type": "code",
   "execution_count": null,
   "id": "771223a1",
   "metadata": {},
   "outputs": [],
   "source": [
    "parameterize_vovabulary.keys()"
   ]
  },
  {
   "cell_type": "markdown",
   "id": "7a168d90",
   "metadata": {},
   "source": [
    "### Results"
   ]
  },
  {
   "cell_type": "code",
   "execution_count": null,
   "id": "2a08dfa0",
   "metadata": {},
   "outputs": [],
   "source": [
    "import matplotlib.pyplot as plt"
   ]
  },
  {
   "cell_type": "code",
   "execution_count": null,
   "id": "e8078825",
   "metadata": {},
   "outputs": [],
   "source": [
    "fig = plt.figure()\n",
    "plt.plot([x for x in range(0,len(ls_progres))],np.array(ls_progres),label=\"train loss\")\n",
    "\n",
    "\n",
    "plt.legend()\n",
    "plt.title(\"loss_sense_embeding\",)\n",
    "plt.xlabel(\"epoch\")\n",
    "plt.ylabel(\"loss\")\n",
    "\n",
    "print(\"last loss:\",ls_progres[-1])"
   ]
  },
  {
   "cell_type": "code",
   "execution_count": null,
   "id": "26430d1d",
   "metadata": {},
   "outputs": [],
   "source": [
    "fig = plt.figure()\n",
    "plt.plot([x for x in range(0,len(ac_progres)*10,10)],np.array(ac_progres),label=\"train accuracy\")\n",
    "\n",
    "\n",
    "plt.legend()\n",
    "plt.title(\"accuracy_sense_embeding\",)\n",
    "plt.xlabel(\"epoch\")\n",
    "plt.ylabel(\"accyracy\")\n",
    "\n",
    "print(\"accuracy loss:\",ac_progres[-1])"
   ]
  },
  {
   "cell_type": "code",
   "execution_count": null,
   "id": "52d86ffa",
   "metadata": {},
   "outputs": [],
   "source": [
    "parameterize_vovabulary"
   ]
  },
  {
   "cell_type": "markdown",
   "id": "c0b41817",
   "metadata": {},
   "source": [
    "### New distribution"
   ]
  },
  {
   "cell_type": "code",
   "execution_count": null,
   "id": "12bba0df",
   "metadata": {},
   "outputs": [],
   "source": [
    "\n",
    "\n",
    "x_new=[]\n",
    "y_new=[]\n",
    "z_new=[]\n",
    "\n",
    "for key in parameterize_vovabulary.keys():\n",
    "    x_new.append(parameterize_vovabulary[key][0])\n",
    "    y_new.append(parameterize_vovabulary[key][1])\n",
    "    z_new.append(parameterize_vovabulary[key][2])\n",
    "    \n",
    "pp.figure().add_subplot(111, projection='3d').scatter(x_old, y_old, z_old);\n",
    "pp.figure().add_subplot(111, projection='3d').scatter(x_new, y_new, z_new);\n",
    "pp.show()"
   ]
  },
  {
   "cell_type": "code",
   "execution_count": null,
   "id": "4cda655a",
   "metadata": {},
   "outputs": [],
   "source": []
  },
  {
   "cell_type": "markdown",
   "id": "2d9a0cfd",
   "metadata": {},
   "source": [
    "## Prediction"
   ]
  },
  {
   "cell_type": "code",
   "execution_count": null,
   "id": "10193a87",
   "metadata": {},
   "outputs": [],
   "source": []
  },
  {
   "cell_type": "code",
   "execution_count": null,
   "id": "2f7c2405",
   "metadata": {},
   "outputs": [],
   "source": [
    "§#  "
   ]
  }
 ],
 "metadata": {
  "kernelspec": {
   "display_name": "Python 3 (ipykernel)",
   "language": "python",
   "name": "python3"
  },
  "language_info": {
   "codemirror_mode": {
    "name": "ipython",
    "version": 3
   },
   "file_extension": ".py",
   "mimetype": "text/x-python",
   "name": "python",
   "nbconvert_exporter": "python",
   "pygments_lexer": "ipython3",
   "version": "3.9.7"
  }
 },
 "nbformat": 4,
 "nbformat_minor": 5
}
