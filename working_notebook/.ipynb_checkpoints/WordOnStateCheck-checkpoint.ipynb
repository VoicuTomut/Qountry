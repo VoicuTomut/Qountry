{
 "cells": [
  {
   "cell_type": "markdown",
   "id": "a24cbdf1",
   "metadata": {},
   "source": [
    "## Encoding Decoding check"
   ]
  },
  {
   "cell_type": "code",
   "execution_count": 1,
   "id": "1676d47b",
   "metadata": {},
   "outputs": [],
   "source": [
    "import os\n",
    "\n",
    "import pennylane as qml\n",
    "from pennylane import numpy as np\n",
    "\n",
    "import sys\n",
    "sys.path.append(\"..\")\n",
    "from wordsToNumbers import Corpus\n",
    "from wordsToNumbers import number_vocabulary\n",
    "\n",
    "from wordsToQubits import put_word_on_qubits\n",
    "\n",
    "from utils import get_corpus_from_directory, working_window, get_word_from_sphere"
   ]
  },
  {
   "cell_type": "code",
   "execution_count": null,
   "id": "53827959",
   "metadata": {},
   "outputs": [],
   "source": []
  },
  {
   "cell_type": "markdown",
   "id": "e552c760",
   "metadata": {},
   "source": [
    "### Corpus"
   ]
  },
  {
   "cell_type": "code",
   "execution_count": 2,
   "id": "a2401232",
   "metadata": {},
   "outputs": [
    {
     "name": "stdout",
     "output_type": "stream",
     "text": [
      "nr. words:1648 \n",
      "nr. distinct words: 499 \n",
      "len.text/len.vocab:3.302605210420842\n"
     ]
    }
   ],
   "source": [
    "corpus_path='/Users/voicutu/Documents/GitHub/Qountry/CountryMixt'\n",
    "\n",
    "corpus_tex = get_corpus_from_directory(corpus_path, limit=1)\n",
    "\n",
    "corpus= Corpus(corpus_tex)\n",
    "print(corpus.prop())"
   ]
  },
  {
   "cell_type": "code",
   "execution_count": null,
   "id": "dd6454fc",
   "metadata": {},
   "outputs": [],
   "source": []
  },
  {
   "cell_type": "markdown",
   "id": "5aba5d99",
   "metadata": {},
   "source": [
    "### Encoding"
   ]
  },
  {
   "cell_type": "code",
   "execution_count": 3,
   "id": "1ddf7a64",
   "metadata": {},
   "outputs": [
    {
     "name": "stdout",
     "output_type": "stream",
     "text": [
      "6\n"
     ]
    },
    {
     "data": {
      "text/plain": [
       "{'doin': 0,\n",
       " 'these': 1,\n",
       " 'his': 2,\n",
       " 'them': 3,\n",
       " 'im': 4,\n",
       " 'hardwood': 5,\n",
       " 'york': 6,\n",
       " 'woman': 7,\n",
       " 'fenneario': 8,\n",
       " 'wintertime': 9,\n",
       " 'seenio': 10,\n",
       " 'ride': 11,\n",
       " 'mornin': 12,\n",
       " 'gone': 13,\n",
       " 'come': 14,\n",
       " 'tell': 15,\n",
       " 'we': 16,\n",
       " 'light': 17,\n",
       " 'whole': 18,\n",
       " 'never': 19,\n",
       " 'around': 20,\n",
       " 'pastures': 21,\n",
       " 'east': 22,\n",
       " 'should': 23,\n",
       " 'seventeen': 24,\n",
       " 'their': 25,\n",
       " 'guess': 26,\n",
       " 'sweet': 27,\n",
       " 'into': 28,\n",
       " 'guitar': 29,\n",
       " 'dead': 30,\n",
       " 'to': 31,\n",
       " 'face': 32,\n",
       " 'at': 33}"
      ]
     },
     "execution_count": 3,
     "metadata": {},
     "output_type": "execute_result"
    }
   ],
   "source": [
    "parameterize_vovabulary_1 = number_vocabulary(corpus.vocabulary[:34], )\n",
    "parameterize_vovabulary_1"
   ]
  },
  {
   "cell_type": "code",
   "execution_count": 4,
   "id": "15a5f2b7",
   "metadata": {},
   "outputs": [
    {
     "name": "stdout",
     "output_type": "stream",
     "text": [
      "6\n"
     ]
    },
    {
     "data": {
      "text/plain": [
       "{'doin': '000000',\n",
       " 'these': '000001',\n",
       " 'his': '000010',\n",
       " 'them': '000011',\n",
       " 'im': '000100',\n",
       " 'hardwood': '000101',\n",
       " 'york': '000110',\n",
       " 'woman': '000111',\n",
       " 'fenneario': '001000',\n",
       " 'wintertime': '001001',\n",
       " 'seenio': '001010',\n",
       " 'ride': '001011',\n",
       " 'mornin': '001100',\n",
       " 'gone': '001101',\n",
       " 'come': '001110',\n",
       " 'tell': '001111',\n",
       " 'we': '010000',\n",
       " 'light': '010001',\n",
       " 'whole': '010010',\n",
       " 'never': '010011',\n",
       " 'around': '010100',\n",
       " 'pastures': '010101',\n",
       " 'east': '010110',\n",
       " 'should': '010111',\n",
       " 'seventeen': '011000',\n",
       " 'their': '011001',\n",
       " 'guess': '011010',\n",
       " 'sweet': '011011',\n",
       " 'into': '011100',\n",
       " 'guitar': '011101',\n",
       " 'dead': '011110',\n",
       " 'to': '011111',\n",
       " 'face': '100000'}"
      ]
     },
     "execution_count": 4,
     "metadata": {},
     "output_type": "execute_result"
    }
   ],
   "source": [
    "parameterize_vovabulary_2 = number_vocabulary(corpus.vocabulary[:33], binar=True )\n",
    "parameterize_vovabulary_2"
   ]
  },
  {
   "cell_type": "code",
   "execution_count": 5,
   "id": "be9ca3f7",
   "metadata": {},
   "outputs": [],
   "source": [
    "dev = qml.device(\"default.qubit\", wires=[i for i in range(6)])\n",
    "\n",
    "# encode the world\n",
    "@qml.qnode(dev)\n",
    "def w_encode(word_params):\n",
    "    \n",
    "    put_word_on_qubits(word_params, qubits=[i for i in range(6)])\n",
    "    \n",
    "    # measure \n",
    "    return qml.probs(wires=[i for i in range(6)])"
   ]
  },
  {
   "cell_type": "code",
   "execution_count": null,
   "id": "1fa62cb8",
   "metadata": {},
   "outputs": [],
   "source": []
  },
  {
   "cell_type": "code",
   "execution_count": 25,
   "id": "a634893a",
   "metadata": {},
   "outputs": [],
   "source": [
    "import math\n",
    "\n",
    "def get_word_from_prob(prob,parameterize_vovabulary, binar=False):\n",
    "  \n",
    "    max_i=0.0\n",
    "    max_p=0.0\n",
    "    \n",
    "    for i in range(len(prob)):\n",
    "        if (prob[i]>max_p):\n",
    "            print(\"prob\",prob[i])\n",
    "            print(\"i\",i)\n",
    "            max_p = prob[i]\n",
    "            max_i = i\n",
    "            \n",
    "    pred=max_i\n",
    "    \n",
    "    next_word = \"_\"\n",
    "    if binar:\n",
    "        nr_qubits = math.ceil(math.log(len(prob)) / math.log(2))\n",
    "        pred=bin(pred)[2:].zfill(int(nr_qubits))\n",
    "    \n",
    "    for w in parameterize_vovabulary :\n",
    "        print(str(pred))\n",
    "        print(str(parameterize_vovabulary[w]))\n",
    "        if str(parameterize_vovabulary[w]) == str(pred):\n",
    "            next_word = w\n",
    "            break\n",
    "    return next_word"
   ]
  },
  {
   "cell_type": "code",
   "execution_count": 26,
   "id": "7c7527a3",
   "metadata": {},
   "outputs": [
    {
     "name": "stdout",
     "output_type": "stream",
     "text": [
      "pred: [0. 0. 0. 0. 0. 0. 0. 0. 0. 0. 0. 0. 0. 0. 0. 0. 0. 0. 0. 0. 0. 0. 0. 0.\n",
      " 0. 0. 0. 0. 0. 0. 0. 0. 1. 0. 0. 0. 0. 0. 0. 0. 0. 0. 0. 0. 0. 0. 0. 0.\n",
      " 0. 0. 0. 0. 0. 0. 0. 0. 0. 0. 0. 0. 0. 0. 0. 0.]\n",
      "original: never\n"
     ]
    }
   ],
   "source": [
    "word = 'never'\n",
    "word_params=parameterize_vovabulary_1[word]\n",
    "w_decode_param = w_encode(word_params)\n",
    "print(\"pred:\",w_decode_param)\n",
    "print(\"original:\",word)"
   ]
  },
  {
   "cell_type": "code",
   "execution_count": 27,
   "id": "3583cf16",
   "metadata": {},
   "outputs": [
    {
     "name": "stdout",
     "output_type": "stream",
     "text": [
      "prob 1.0\n",
      "i\n",
      "32\n",
      "0\n",
      "32\n",
      "1\n",
      "32\n",
      "2\n",
      "32\n",
      "3\n",
      "32\n",
      "4\n",
      "32\n",
      "5\n",
      "32\n",
      "6\n",
      "32\n",
      "7\n",
      "32\n",
      "8\n",
      "32\n",
      "9\n",
      "32\n",
      "10\n",
      "32\n",
      "11\n",
      "32\n",
      "12\n",
      "32\n",
      "13\n",
      "32\n",
      "14\n",
      "32\n",
      "15\n",
      "32\n",
      "16\n",
      "32\n",
      "17\n",
      "32\n",
      "18\n",
      "32\n",
      "19\n",
      "32\n",
      "20\n",
      "32\n",
      "21\n",
      "32\n",
      "22\n",
      "32\n",
      "23\n",
      "32\n",
      "24\n",
      "32\n",
      "25\n",
      "32\n",
      "26\n",
      "32\n",
      "27\n",
      "32\n",
      "28\n",
      "32\n",
      "29\n",
      "32\n",
      "30\n",
      "32\n",
      "31\n",
      "32\n",
      "32\n"
     ]
    },
    {
     "data": {
      "text/plain": [
       "'face'"
      ]
     },
     "execution_count": 27,
     "metadata": {},
     "output_type": "execute_result"
    }
   ],
   "source": [
    "get_word_from_prob(w_decode_param,parameterize_vovabulary_1)"
   ]
  },
  {
   "cell_type": "code",
   "execution_count": null,
   "id": "edaef59d",
   "metadata": {},
   "outputs": [],
   "source": [
    "get_word_prediction(w_decode_param,parameterize_vovabulary_2,binar=True)"
   ]
  },
  {
   "cell_type": "code",
   "execution_count": null,
   "id": "35cef7b0",
   "metadata": {},
   "outputs": [],
   "source": [
    "for i in range(len(x)):\n",
    "    \n",
    "    words_vec = [parameterize_vovabulary[w] for w in x[i]]\n",
    "    pred_vector=[ next_gen(params,words_vec, obs=o) for o in ['x', 'y', 'z']]\n",
    "    pred_word= get_word_from_sphere(pred_vector, parameterize_vovabulary)\n",
    "    \n",
    "    text=\"\"\n",
    "    for w in x[i];\n",
    "    text=text+w+\" \"\n",
    "    \n",
    "    print(\"{} {}|{}\".format(text, pred_word,y[i]))"
   ]
  },
  {
   "cell_type": "code",
   "execution_count": null,
   "id": "0c857ea1",
   "metadata": {},
   "outputs": [],
   "source": [
    "print(\"nr errors:\",len(errors))\n",
    "print(\"corecte:\", corect)\n",
    "print(\"%:\",corect/(corect+len(errors)))"
   ]
  },
  {
   "cell_type": "code",
   "execution_count": null,
   "id": "219f1711",
   "metadata": {},
   "outputs": [],
   "source": [
    "print(\"errors\")\n",
    "print(errors)"
   ]
  }
 ],
 "metadata": {
  "kernelspec": {
   "display_name": "Python 3 (ipykernel)",
   "language": "python",
   "name": "python3"
  },
  "language_info": {
   "codemirror_mode": {
    "name": "ipython",
    "version": 3
   },
   "file_extension": ".py",
   "mimetype": "text/x-python",
   "name": "python",
   "nbconvert_exporter": "python",
   "pygments_lexer": "ipython3",
   "version": "3.9.7"
  }
 },
 "nbformat": 4,
 "nbformat_minor": 5
}
