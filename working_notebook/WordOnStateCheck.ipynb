{
 "cells": [
  {
   "cell_type": "markdown",
   "id": "6daafd16",
   "metadata": {},
   "source": [
    "## Encoding Decoding check"
   ]
  },
  {
   "cell_type": "code",
   "execution_count": 2,
   "id": "63d89995",
   "metadata": {},
   "outputs": [
    {
     "ename": "ImportError",
     "evalue": "cannot import name 'number_vocabulary' from 'wordsToNumbers' (/Users/voicutu/Documents/GitHub/Qountry/working_notebook/../wordsToNumbers/__init__.py)",
     "output_type": "error",
     "traceback": [
      "\u001b[0;31m---------------------------------------------------------------------------\u001b[0m",
      "\u001b[0;31mImportError\u001b[0m                               Traceback (most recent call last)",
      "Input \u001b[0;32mIn [2]\u001b[0m, in \u001b[0;36m<module>\u001b[0;34m\u001b[0m\n\u001b[1;32m      7\u001b[0m sys\u001b[38;5;241m.\u001b[39mpath\u001b[38;5;241m.\u001b[39mappend(\u001b[38;5;124m\"\u001b[39m\u001b[38;5;124m..\u001b[39m\u001b[38;5;124m\"\u001b[39m)\n\u001b[1;32m      8\u001b[0m \u001b[38;5;28;01mfrom\u001b[39;00m \u001b[38;5;21;01mwordsToNumbers\u001b[39;00m \u001b[38;5;28;01mimport\u001b[39;00m Corpus\n\u001b[0;32m----> 9\u001b[0m \u001b[38;5;28;01mfrom\u001b[39;00m \u001b[38;5;21;01mwordsToNumbers\u001b[39;00m \u001b[38;5;28;01mimport\u001b[39;00m number_vocabulary\n\u001b[1;32m     11\u001b[0m \u001b[38;5;28;01mfrom\u001b[39;00m \u001b[38;5;21;01mwordsToQubits\u001b[39;00m \u001b[38;5;28;01mimport\u001b[39;00m put_word_on_sphere\n",
      "\u001b[0;31mImportError\u001b[0m: cannot import name 'number_vocabulary' from 'wordsToNumbers' (/Users/voicutu/Documents/GitHub/Qountry/working_notebook/../wordsToNumbers/__init__.py)"
     ]
    }
   ],
   "source": [
    "import os\n",
    "\n",
    "import pennylane as qml\n",
    "from pennylane import numpy as np\n",
    "\n",
    "import sys\n",
    "sys.path.append(\"..\")\n",
    "from wordsToNumbers import Corpus\n",
    "from wordsToNumbers import number_vocabulary\n",
    "\n",
    "from wordsToQubits import put_word_on_sphere"
   ]
  },
  {
   "cell_type": "code",
   "execution_count": null,
   "id": "02e4864b",
   "metadata": {},
   "outputs": [],
   "source": []
  },
  {
   "cell_type": "markdown",
   "id": "3c55a48e",
   "metadata": {},
   "source": [
    "### Corpus"
   ]
  },
  {
   "cell_type": "code",
   "execution_count": null,
   "id": "7846199c",
   "metadata": {},
   "outputs": [],
   "source": [
    "corpus_path='/Users/voicutu/Desktop/Qountry/CountryMixt'\n",
    "\n",
    "corpus_tex = get_corpus_from_directory(corpus_path, limit=1)\n",
    "\n",
    "corpus= Corpus(corpus_tex)\n",
    "print(corpus.prop())"
   ]
  },
  {
   "cell_type": "code",
   "execution_count": null,
   "id": "d17a43c7",
   "metadata": {},
   "outputs": [],
   "source": []
  },
  {
   "cell_type": "markdown",
   "id": "9834c48f",
   "metadata": {},
   "source": [
    "### Encoding"
   ]
  },
  {
   "cell_type": "code",
   "execution_count": null,
   "id": "2673c228",
   "metadata": {},
   "outputs": [],
   "source": []
  }
 ],
 "metadata": {
  "kernelspec": {
   "display_name": "Python 3 (ipykernel)",
   "language": "python",
   "name": "python3"
  },
  "language_info": {
   "codemirror_mode": {
    "name": "ipython",
    "version": 3
   },
   "file_extension": ".py",
   "mimetype": "text/x-python",
   "name": "python",
   "nbconvert_exporter": "python",
   "pygments_lexer": "ipython3",
   "version": "3.9.7"
  }
 },
 "nbformat": 4,
 "nbformat_minor": 5
}
