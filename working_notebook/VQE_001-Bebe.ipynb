{
 "cells": [
  {
   "cell_type": "markdown",
   "id": "940d26c3",
   "metadata": {},
   "source": [
    "## VQE ansatz: 001"
   ]
  },
  {
   "cell_type": "code",
   "execution_count": 1,
   "id": "42055090",
   "metadata": {},
   "outputs": [],
   "source": [
    "import os\n",
    "import numpy\n",
    "\n",
    "\n",
    "import pennylane as qml\n",
    "from pennylane import numpy as np\n",
    "from pennylane.optimize import AdamOptimizer, GradientDescentOptimizer\n",
    "\n",
    "\n",
    "import sys\n",
    "sys.path.append(\"..\")\n",
    "from wordsToNumbers import Corpus\n",
    "from wordsToNumbers import fibonacci_vocabulary\n",
    "\n",
    "from wordsToQubits import put_word_on_sphere\n",
    "\n",
    "from utils import get_corpus_from_directory, working_window, get_word_from_sphere"
   ]
  },
  {
   "cell_type": "code",
   "execution_count": 2,
   "id": "25724fca",
   "metadata": {},
   "outputs": [],
   "source": [
    "np.random.seed(73)"
   ]
  },
  {
   "cell_type": "code",
   "execution_count": null,
   "id": "712a727b",
   "metadata": {},
   "outputs": [],
   "source": []
  },
  {
   "cell_type": "markdown",
   "id": "4951bf91",
   "metadata": {},
   "source": [
    "## Corpus"
   ]
  },
  {
   "cell_type": "code",
   "execution_count": 3,
   "id": "a1bc2987",
   "metadata": {},
   "outputs": [
    {
     "name": "stdout",
     "output_type": "stream",
     "text": [
      "nr. words:72 \n",
      "nr. distinct words: 8 \n",
      "len.text/len.vocab:9.0\n"
     ]
    }
   ],
   "source": [
    "corpus_path='/Users/voicutu/Documents/GitHub/Qountry/Bebe'\n",
    "\n",
    "corpus_tex = get_corpus_from_directory(corpus_path, limit=1)\n",
    "\n",
    "corpus= Corpus(corpus_tex)\n",
    "print(corpus.prop())"
   ]
  },
  {
   "cell_type": "code",
   "execution_count": 4,
   "id": "2a79b495",
   "metadata": {},
   "outputs": [],
   "source": [
    "parameterize_vovabulary = fibonacci_vocabulary(corpus.vocabulary)"
   ]
  },
  {
   "cell_type": "code",
   "execution_count": 5,
   "id": "3761a237",
   "metadata": {},
   "outputs": [
    {
     "name": "stdout",
     "output_type": "stream",
     "text": [
      "corpus: ['ursul', 'are', 'bot', 'punct', 'cainele', 'are', 'bot', 'punct', 'ursul', 'este', 'fericit', 'punct', 'cainele', 'este', 'fericit', 'punct', 'cainele', 'este', 'frumos', 'punct', 'cainele', 'are', 'bot', 'frumos', 'punct', 'cainele', 'frumos', 'are', 'bot', 'punct', 'ursul', 'frumos', 'are', 'bot', 'punct', 'ursul', 'fericit', 'are', 'bot', 'punct', 'ursul', 'fericit', 'are', 'bot', 'frumos', 'punct', 'cainele', 'frumos', 'are', 'bot', 'frumos', 'punct', 'ursul', 'frumos', 'are', 'bot', 'punct', 'ursul', 'frumos', 'este', 'fericit', 'punct', 'cainele', 'fericit', 'este', 'frumos', 'punct', 'ursul', 'fericit', 'este', 'frumos', 'punct']\n"
     ]
    }
   ],
   "source": [
    "print(\"corpus:\",corpus.split_text)"
   ]
  },
  {
   "cell_type": "code",
   "execution_count": null,
   "id": "29cc7ee8",
   "metadata": {},
   "outputs": [],
   "source": []
  },
  {
   "cell_type": "markdown",
   "id": "23056c1a",
   "metadata": {},
   "source": [
    "## Training set "
   ]
  },
  {
   "cell_type": "code",
   "execution_count": 6,
   "id": "484b6501",
   "metadata": {},
   "outputs": [],
   "source": [
    "history_lenghth = 3"
   ]
  },
  {
   "cell_type": "code",
   "execution_count": 7,
   "id": "01c733f0",
   "metadata": {},
   "outputs": [],
   "source": [
    "x,y = working_window(history_lenghth, splited_text=corpus.split_text)"
   ]
  },
  {
   "cell_type": "code",
   "execution_count": 8,
   "id": "0689e8e4",
   "metadata": {},
   "outputs": [
    {
     "name": "stdout",
     "output_type": "stream",
     "text": [
      "len training set: 68\n"
     ]
    }
   ],
   "source": [
    "print(\"len training set:\", len(x))"
   ]
  },
  {
   "cell_type": "code",
   "execution_count": null,
   "id": "9275e6b1",
   "metadata": {},
   "outputs": [],
   "source": []
  },
  {
   "cell_type": "markdown",
   "id": "46257ec7",
   "metadata": {},
   "source": [
    "## Circuit"
   ]
  },
  {
   "cell_type": "code",
   "execution_count": null,
   "id": "e58423cf",
   "metadata": {},
   "outputs": [],
   "source": []
  },
  {
   "cell_type": "code",
   "execution_count": 9,
   "id": "d20aced7",
   "metadata": {},
   "outputs": [],
   "source": [
    "dev = qml.device(\"default.qubit\", wires=history_lenghth+1)\n",
    "\n",
    "# circuit initializer\n",
    "def circuit_initializer(words):\n",
    "    for i in range(len(words)):\n",
    "        put_word_on_sphere(words[i], qubit=i)"
   ]
  },
  {
   "cell_type": "code",
   "execution_count": 10,
   "id": "c34fdfac",
   "metadata": {},
   "outputs": [],
   "source": [
    "def layer_type1(param, wires=[0,1,2]):\n",
    "\n",
    "    qml.CRZ( param[0], wires=[0,1])\n",
    "    qml.CRX( param[1], wires=[0,1])\n",
    "    qml.CRY( param[2], wires=[0,1])\n",
    "\n",
    "    qml.CRZ( param[3], wires=[1,2])\n",
    "    qml.CRX( param[4], wires=[1,2])\n",
    "    qml.CRY( param[5], wires=[1,2])\n",
    "\n",
    "    qml.CRZ( param[6], wires=[2,3])\n",
    "    qml.CRX( param[7], wires=[2,3])\n",
    "    qml.CRY( param[8], wires=[2,3])\n",
    "\n",
    "    qml.RX( param[9], wires=0)\n",
    "    qml.RY( param[10], wires=0)\n",
    "\n",
    "    qml.RX( param[11], wires=1)\n",
    "    qml.RY( param[12], wires=1)\n",
    "\n",
    "    qml.RX( param[13], wires=2)\n",
    "    qml.RY( param[14], wires=2)\n",
    "\n",
    "    qml.RX( param[15], wires=3)\n",
    "    qml.RY( param[16], wires=3)\n"
   ]
  },
  {
   "cell_type": "code",
   "execution_count": 11,
   "id": "24a97158",
   "metadata": {},
   "outputs": [],
   "source": [
    "@qml.qnode(dev)\n",
    "def next_gen(params, x, obs='z'):\n",
    "    \"\"\"\n",
    "    obs:'z', 'x' or 'y'\n",
    "    \"\"\"\n",
    "\n",
    "    # initialize the circuit \n",
    "    circuit_initializer(x)\n",
    "\n",
    "    # \n",
    "    for param in params:\n",
    "        layer_type1(param, wires=[0,1,2])\n",
    "    #circuit_initializer(x) # just for a test \n",
    "\n",
    "\n",
    "    # measure \n",
    "    if obs=='z':\n",
    "        return  qml.expval(qml.PauliZ(3))\n",
    "    if obs=='x':\n",
    "        return qml.expval(qml.PauliX(3))\n",
    "    if obs=='y':\n",
    "        return qml.expval(qml.PauliY(3))\n",
    "\n"
   ]
  },
  {
   "cell_type": "code",
   "execution_count": 12,
   "id": "a2217ebf",
   "metadata": {},
   "outputs": [
    {
     "name": "stdout",
     "output_type": "stream",
     "text": [
      "x: ['ursul', 'are', 'bot']\n",
      "x_vec: [[0.6021982974369868, 0.1428571428571429, 0.7854610412354569], [-0.516050715285824, 0.7142857142857143, 0.4727447277551981], [0.0, 1.0, 0.0]]\n"
     ]
    }
   ],
   "source": [
    "x_vec=[ parameterize_vovabulary[w] for w in x[0]]\n",
    "print(\"x:\",x[0])\n",
    "print(\"x_vec:\",x_vec)"
   ]
  },
  {
   "cell_type": "code",
   "execution_count": 13,
   "id": "35e93b74",
   "metadata": {},
   "outputs": [
    {
     "name": "stdout",
     "output_type": "stream",
     "text": [
      "x: ['ursul', 'are', 'bot']\n",
      "x_vec: [[0.6021982974369868, 0.1428571428571429, 0.7854610412354569], [-0.516050715285824, 0.7142857142857143, 0.4727447277551981], [0.0, 1.0, 0.0]]\n",
      "example tensor: [[0.6021982974369868, 0.1428571428571429, 0.7854610412354569], [-0.516050715285824, 0.7142857142857143, 0.4727447277551981], [0.0, 1.0, 0.0]]\n",
      "\n",
      "\n",
      "\n",
      " 0: ──RY(0.667)──RZ(0.233)───╭C──────────╭C──────────╭C───────────RX(0.311)───RY(0.404)────────────────────────────────────────────────────────────────────────┤     \n",
      " 1: ──RY(5.2)────RZ(-0.945)──╰RZ(0.643)──╰RX(0.539)──╰RY(0.512)──╭C──────────╭C──────────╭C───────────RX(0.597)───RY(0.241)────────────────────────────────────┤     \n",
      " 2: ──RY(-4.71)──RZ(1.57)────────────────────────────────────────╰RZ(0.61)───╰RX(0.493)──╰RY(0.214)──╭C──────────╭C──────────╭C──────────RX(0.906)──RY(0.159)──┤     \n",
      " 3: ─────────────────────────────────────────────────────────────────────────────────────────────────╰RZ(0.244)──╰RX(0.572)──╰RY(0.773)──RX(0.589)──RY(0.262)──┤ ⟨Z⟩ \n",
      "\n"
     ]
    }
   ],
   "source": [
    "x_vec=[ parameterize_vovabulary[w] for w in x[0]]\n",
    "print(\"x:\",x[0])\n",
    "print(\"x_vec:\",x_vec)\n",
    "\n",
    "params= np.random.uniform(size=(1, 17), requires_grad=True)\n",
    "\n",
    "print(\"example tensor:\", x_vec )\n",
    "print(\"\\n\\n\")\n",
    "print(qml.draw(next_gen)(params,x_vec,obs='z'))"
   ]
  },
  {
   "cell_type": "code",
   "execution_count": 14,
   "id": "59d15992",
   "metadata": {},
   "outputs": [],
   "source": [
    "pred_vector=[ next_gen(params,x_vec, obs=o) for o in ['x', 'y', 'z']]"
   ]
  },
  {
   "cell_type": "markdown",
   "id": "ee4b16a4",
   "metadata": {},
   "source": [
    "## Learning"
   ]
  },
  {
   "cell_type": "code",
   "execution_count": 15,
   "id": "2d76f165",
   "metadata": {},
   "outputs": [],
   "source": [
    "def pred_target_distance(pred_vector, target):\n",
    "\n",
    "    distance= np.linalg.norm(pred_vector-target)\n",
    "\n",
    "    #np.sqrt((pred_vector[0]-target[0])*(pred_vector[0]-target[0])+\n",
    "    #                 (pred_vector[1]-target[1])*(pred_vector[1]-target[1])+\n",
    "    #                 (pred_vector[2]-target[2])*(pred_vector[2]-target[2]))\n",
    "\n",
    "    return distance"
   ]
  },
  {
   "cell_type": "code",
   "execution_count": 16,
   "id": "87594d23",
   "metadata": {},
   "outputs": [
    {
     "name": "stdout",
     "output_type": "stream",
     "text": [
      "target word: punct\n",
      "target vector: [0.07898983319899221, 0.4285714285714286, -0.9000484080667219]\n",
      "prediction: [tensor(0.39263079, requires_grad=True), tensor(-0.65602889, requires_grad=True), tensor(0.46841198, requires_grad=True)]\n",
      "prediction word: fericit\n",
      "distance: 1.774094790941554\n"
     ]
    }
   ],
   "source": [
    "print(\"target word:\",y[0])\n",
    "print(\"target vector:\",parameterize_vovabulary[y[0]] )\n",
    "print(\"prediction:\",pred_vector)\n",
    "pred_word= get_word_from_sphere(pred_vector, parameterize_vovabulary)\n",
    "print(\"prediction word:\",pred_word)\n",
    "distance= pred_target_distance(np.array(pred_vector), np.array(parameterize_vovabulary[y[0]]))\n",
    "print(\"distance:\", distance)"
   ]
  },
  {
   "cell_type": "code",
   "execution_count": 17,
   "id": "fb981b69",
   "metadata": {},
   "outputs": [
    {
     "name": "stdout",
     "output_type": "stream",
     "text": [
      "distance check 0.0\n"
     ]
    }
   ],
   "source": [
    "distance= pred_target_distance( np.array(parameterize_vovabulary[y[1]]), np.array(parameterize_vovabulary[y[1]]))\n",
    "print(\"distance check\",distance)"
   ]
  },
  {
   "cell_type": "code",
   "execution_count": 18,
   "id": "abb9c9a5",
   "metadata": {},
   "outputs": [],
   "source": [
    "def cost( par , x, y):\n",
    "\n",
    "    predictions = [[next_gen(par, w_input,obs='x') ,next_gen(par,w_input,obs='y') ,next_gen(par,w_input,obs='z') ] for w_input in x ]\n",
    "\n",
    "    c=0.0\n",
    "    for i in range(len(predictions)):\n",
    "        c = c+ pred_target_distance(np.array(predictions[i]), y)\n",
    "\n",
    "    c=c/len(predictions)\n",
    "\n",
    "    return np.array(c)"
   ]
  },
  {
   "cell_type": "code",
   "execution_count": 19,
   "id": "18dc8640",
   "metadata": {},
   "outputs": [],
   "source": [
    "def accuracy(predictions, y):\n",
    "    pred_words=[ get_word_from_sphere(p_v, parameterize_vovabulary) for p_v in predictions]\n",
    "    target_words=[ get_word_from_sphere(p_v, parameterize_vovabulary) for p_v in y]\n",
    "    ac=0\n",
    "    for i in range(len(pred_words)):\n",
    "        if pred_words[i]==target_words[i]:\n",
    "            ac=ac+1\n",
    "    return ac/len(pred_words)"
   ]
  },
  {
   "cell_type": "markdown",
   "id": "e0bba265",
   "metadata": {},
   "source": [
    "## Training:"
   ]
  },
  {
   "cell_type": "code",
   "execution_count": 20,
   "id": "5b071ffb",
   "metadata": {},
   "outputs": [
    {
     "name": "stdout",
     "output_type": "stream",
     "text": [
      "[ 0  1  2  3  4  5  6  7  8  9 10 11 12 13 14 15 16 17 18 19 20 21 22 23\n",
      " 24 25 26 27 28 29 30 31 32 33 34 35 36 37 38 39 40 41 42 43 44 45 46 47\n",
      " 48 49 50 51 52 53 54 55 56 57 58 59 60 61 62 63 64 65 66 67]\n"
     ]
    }
   ],
   "source": [
    "## shuffling data \n",
    "index = np.array([ i for i in range(len(x))])\n",
    "print(index)"
   ]
  },
  {
   "cell_type": "code",
   "execution_count": 21,
   "id": "bb08af03",
   "metadata": {},
   "outputs": [],
   "source": [
    "X_train= []\n",
    "Y_train= []\n",
    "Y_train_w= []\n",
    "\n",
    "for i in range(len(x)):\n",
    "    vec = [parameterize_vovabulary[w] for w in x[i]]\n",
    "    X_train.append(vec)\n",
    "    Y_train.append(parameterize_vovabulary[y[i]])\n",
    "    Y_train_w.append(y[i])\n",
    "    \n",
    "X_train= np.array(X_train)\n",
    "Y_train= np.array(Y_train)"
   ]
  },
  {
   "cell_type": "code",
   "execution_count": 22,
   "id": "ddfa12e9",
   "metadata": {},
   "outputs": [],
   "source": [
    "def iterate_batches(X,Y, batch_size):\n",
    "    X1 = [torch.reshape(x[0], (1, 2 ** (len(spec.latent_qubits) + len(spec.trash_qubits)))) for x in X]\n",
    "    X2 = []\n",
    "    for i in range(len(X1)):\n",
    "        X2.append([X1[1], X[i][1]])\n",
    "    X = X2\n",
    "    random.shuffle(X)\n",
    "\n",
    "    batch_list = []\n",
    "    batch = []\n",
    "    for x in X:\n",
    "        if len(batch) < batch_size:\n",
    "            batch.append(x)\n",
    "\n",
    "        else:\n",
    "            batch_list.append(batch)\n",
    "            batch = []\n",
    "    if len(batch) != 0:\n",
    "        batch_list.append(batch)\n",
    "    return batch_list"
   ]
  },
  {
   "cell_type": "code",
   "execution_count": 23,
   "id": "d587df13",
   "metadata": {},
   "outputs": [],
   "source": [
    "## Model parameters \n",
    "\n",
    "num_layers= 1\n",
    "layer_param= 17\n",
    "params = np.random.uniform(size=(2, layer_param), requires_grad=True)\n",
    "\n",
    "learning_rate= 0.6\n",
    "opt = AdamOptimizer(learning_rate, beta1=0.9, beta2=0.999)\n",
    "\n",
    "nr_epochs= 300"
   ]
  },
  {
   "cell_type": "code",
   "execution_count": 24,
   "id": "5f42d331",
   "metadata": {},
   "outputs": [
    {
     "name": "stdout",
     "output_type": "stream",
     "text": [
      "Iter:0 | train_cost:11.325543517526222\n",
      "ac: 0.10294117647058823\n",
      "Iter:1 | train_cost:9.364966191152467\n",
      "Iter:2 | train_cost:9.206286797639455\n",
      "Iter:3 | train_cost:9.038179668588057\n",
      "Iter:4 | train_cost:8.857874541345655\n",
      "Iter:5 | train_cost:8.67549716785912\n",
      "Iter:6 | train_cost:8.66865963035527\n",
      "Iter:7 | train_cost:8.721739012511021\n",
      "Iter:8 | train_cost:8.697965310872705\n",
      "Iter:9 | train_cost:8.53002494014008\n",
      "Iter:10 | train_cost:8.528198284546809\n",
      "ac: 0.20588235294117646\n",
      "Iter:11 | train_cost:8.532505478369886\n",
      "Iter:12 | train_cost:8.504951353804117\n",
      "Iter:13 | train_cost:8.469915107100322\n",
      "Iter:14 | train_cost:8.43003279087526\n",
      "Iter:15 | train_cost:8.427324498867536\n",
      "Iter:16 | train_cost:8.435331032185504\n",
      "Iter:17 | train_cost:8.392444350076612\n",
      "Iter:18 | train_cost:8.371231143064925\n",
      "Iter:19 | train_cost:8.39169273605381\n",
      "Iter:20 | train_cost:8.360056698774716\n",
      "ac: 0.08823529411764706\n",
      "Iter:21 | train_cost:8.348174939592209\n",
      "Iter:22 | train_cost:8.333418199798883\n",
      "Iter:23 | train_cost:8.337484904489013\n",
      "Iter:24 | train_cost:8.332931484673983\n",
      "Iter:25 | train_cost:8.32056381589101\n",
      "Iter:26 | train_cost:8.297443076435597\n",
      "Iter:27 | train_cost:8.30165165526917\n",
      "Iter:28 | train_cost:8.30182219563293\n",
      "Iter:29 | train_cost:8.290815477115956\n",
      "Iter:30 | train_cost:8.293403601454706\n",
      "ac: 0.22058823529411764\n",
      "Iter:31 | train_cost:8.289563177851383\n",
      "Iter:32 | train_cost:8.286758925634306\n",
      "Iter:33 | train_cost:8.28363769716751\n",
      "Iter:34 | train_cost:8.278273129675801\n",
      "Iter:35 | train_cost:8.277785668803281\n",
      "Iter:36 | train_cost:8.28059059176035\n",
      "Iter:37 | train_cost:8.280696836162875\n",
      "Iter:38 | train_cost:8.282931461284477\n",
      "Iter:39 | train_cost:8.280492863361514\n",
      "Iter:40 | train_cost:8.27685046101977\n",
      "ac: 0.10294117647058823\n",
      "Iter:41 | train_cost:8.280126487521544\n",
      "Iter:42 | train_cost:8.280098174672178\n",
      "Iter:43 | train_cost:8.278774908392394\n",
      "Iter:44 | train_cost:8.27971233977605\n",
      "Iter:45 | train_cost:8.277030421454898\n",
      "Iter:46 | train_cost:8.275354673007184\n",
      "Iter:47 | train_cost:8.275381923943653\n",
      "Iter:48 | train_cost:8.271946129069395\n",
      "Iter:49 | train_cost:8.271443757945068\n",
      "Iter:50 | train_cost:8.272350171568617\n",
      "ac: 0.17647058823529413\n",
      "Iter:51 | train_cost:8.271241366327754\n",
      "Iter:52 | train_cost:8.271486061773988\n",
      "Iter:53 | train_cost:8.270632973244249\n",
      "Iter:54 | train_cost:8.268915870427527\n",
      "Iter:55 | train_cost:8.268617637950246\n",
      "Iter:56 | train_cost:8.267650273871384\n",
      "Iter:57 | train_cost:8.267260709519874\n",
      "Iter:58 | train_cost:8.2670983119179\n",
      "Iter:59 | train_cost:8.265915347527367\n",
      "Iter:60 | train_cost:8.265841953530392\n",
      "ac: 0.17647058823529413\n",
      "Iter:61 | train_cost:8.265536971666513\n",
      "Iter:62 | train_cost:8.266056835663386\n",
      "Iter:63 | train_cost:8.268615326935985\n",
      "Iter:64 | train_cost:8.274336006499036\n",
      "Iter:65 | train_cost:8.289465121734962\n",
      "Iter:66 | train_cost:8.317602861881118\n",
      "Iter:67 | train_cost:8.346574851839652\n",
      "Iter:68 | train_cost:8.32783831490273\n",
      "Iter:69 | train_cost:8.279970136497434\n",
      "Iter:70 | train_cost:8.273737648630112\n",
      "ac: 0.11764705882352941\n",
      "Iter:71 | train_cost:8.297652185430412\n",
      "Iter:72 | train_cost:8.294169878993067\n",
      "Iter:73 | train_cost:8.274407516434927\n",
      "Iter:74 | train_cost:8.280040714238357\n",
      "Iter:75 | train_cost:8.284866443959253\n",
      "Iter:76 | train_cost:8.273908423814687\n",
      "Iter:77 | train_cost:8.274465577629403\n",
      "Iter:78 | train_cost:8.276871764732721\n",
      "Iter:79 | train_cost:8.270245152201856\n",
      "Iter:80 | train_cost:8.27059771688291\n",
      "ac: 0.20588235294117646\n",
      "Iter:81 | train_cost:8.271971648945632\n",
      "Iter:82 | train_cost:8.266698270418562\n",
      "Iter:83 | train_cost:8.267632930774147\n",
      "Iter:84 | train_cost:8.270101536395304\n",
      "Iter:85 | train_cost:8.264675595355568\n",
      "Iter:86 | train_cost:8.264604753298705\n",
      "Iter:87 | train_cost:8.26898187915139\n",
      "Iter:88 | train_cost:8.264355585771654\n",
      "Iter:89 | train_cost:8.262248098086049\n",
      "Iter:90 | train_cost:8.267264665043468\n",
      "ac: 0.1323529411764706\n",
      "Iter:91 | train_cost:8.264914966566572\n",
      "Iter:92 | train_cost:8.261644611943739\n",
      "Iter:93 | train_cost:8.26504659749936\n",
      "Iter:94 | train_cost:8.264442792661326\n",
      "Iter:95 | train_cost:8.262283511044343\n",
      "Iter:96 | train_cost:8.264083217874614\n",
      "Iter:97 | train_cost:8.263128493163135\n",
      "Iter:98 | train_cost:8.261989294261424\n",
      "Iter:99 | train_cost:8.26395174130142\n",
      "Iter:100 | train_cost:8.262941867127108\n",
      "ac: 0.1323529411764706\n",
      "Iter:101 | train_cost:8.26123281767157\n",
      "Iter:102 | train_cost:8.262873750130582\n",
      "Iter:103 | train_cost:8.263075668170499\n",
      "Iter:104 | train_cost:8.261538753177947\n",
      "Iter:105 | train_cost:8.26199644627357\n",
      "Iter:106 | train_cost:8.262515334362288\n",
      "Iter:107 | train_cost:8.261551587009752\n",
      "Iter:108 | train_cost:8.261576943630294\n",
      "Iter:109 | train_cost:8.262383405138392\n",
      "Iter:110 | train_cost:8.26185727587017\n",
      "ac: 0.14705882352941177\n",
      "Iter:111 | train_cost:8.261040464120642\n",
      "Iter:112 | train_cost:8.26133475104691\n",
      "Iter:113 | train_cost:8.261887949089115\n",
      "Iter:114 | train_cost:8.2616921065098\n",
      "Iter:115 | train_cost:8.26118383044835\n",
      "Iter:116 | train_cost:8.261181889687053\n",
      "Iter:117 | train_cost:8.261402155773878\n",
      "Iter:118 | train_cost:8.261300891069872\n",
      "Iter:119 | train_cost:8.261017563763465\n",
      "Iter:120 | train_cost:8.260943232232215\n",
      "ac: 0.16176470588235295\n",
      "Iter:121 | train_cost:8.261134934558228\n",
      "Iter:122 | train_cost:8.261281061833055\n",
      "Iter:123 | train_cost:8.261178194788842\n",
      "Iter:124 | train_cost:8.260881886190358\n",
      "Iter:125 | train_cost:8.260599541130063\n",
      "Iter:126 | train_cost:8.260453559615238\n",
      "Iter:127 | train_cost:8.260443051564996\n",
      "Iter:128 | train_cost:8.260508334415372\n",
      "Iter:129 | train_cost:8.260593232086096\n",
      "Iter:130 | train_cost:8.260753250263994\n",
      "ac: 0.16176470588235295\n",
      "Iter:131 | train_cost:8.261218407903277\n",
      "Iter:132 | train_cost:8.262681214101551\n",
      "Iter:133 | train_cost:8.267541788823047\n",
      "Iter:134 | train_cost:8.280292221685539\n",
      "Iter:135 | train_cost:8.31280025183784\n",
      "Iter:136 | train_cost:8.329288375870798\n",
      "Iter:137 | train_cost:8.328936089726907\n",
      "Iter:138 | train_cost:8.31920010001895\n",
      "Iter:139 | train_cost:8.343282747838087\n",
      "Iter:140 | train_cost:8.31990091760487\n",
      "ac: 0.20588235294117646\n",
      "Iter:141 | train_cost:8.26469074696719\n",
      "Iter:142 | train_cost:8.273216848856764\n",
      "Iter:143 | train_cost:8.309169651569482\n",
      "Iter:144 | train_cost:8.288428060886078\n",
      "Iter:145 | train_cost:8.261614629849719\n",
      "Iter:146 | train_cost:8.281745920585392\n",
      "Iter:147 | train_cost:8.286257857886756\n",
      "Iter:148 | train_cost:8.262306079860641\n",
      "Iter:149 | train_cost:8.267376381942807\n",
      "Iter:150 | train_cost:8.278229794271576\n",
      "ac: 0.029411764705882353\n",
      "Iter:151 | train_cost:8.262587386823254\n",
      "Iter:152 | train_cost:8.262665349742278\n",
      "Iter:153 | train_cost:8.272413614699643\n",
      "Iter:154 | train_cost:8.261596008784595\n",
      "Iter:155 | train_cost:8.259393825668685\n",
      "Iter:156 | train_cost:8.268308747366598\n",
      "Iter:157 | train_cost:8.262733764905336\n",
      "Iter:158 | train_cost:8.258016238977195\n",
      "Iter:159 | train_cost:8.262508612088658\n",
      "Iter:160 | train_cost:8.261149683414478\n",
      "ac: 0.14705882352941177\n",
      "Iter:161 | train_cost:8.26001445626993\n",
      "Iter:162 | train_cost:8.26045028727991\n",
      "Iter:163 | train_cost:8.25673371319387\n",
      "Iter:164 | train_cost:8.258198230719206\n",
      "Iter:165 | train_cost:8.261066012837615\n",
      "Iter:166 | train_cost:8.25812602782184\n",
      "Iter:167 | train_cost:8.257394782368577\n",
      "Iter:168 | train_cost:8.257329931665113\n",
      "Iter:169 | train_cost:8.255072882800922\n",
      "Iter:170 | train_cost:8.255927614291958\n",
      "ac: 0.20588235294117646\n",
      "Iter:171 | train_cost:8.257073080235747\n",
      "Iter:172 | train_cost:8.256734975782999\n",
      "Iter:173 | train_cost:8.258873015188742\n",
      "Iter:174 | train_cost:8.261425093939804\n",
      "Iter:175 | train_cost:8.26389423733963\n",
      "Iter:176 | train_cost:8.270177455456277\n",
      "Iter:177 | train_cost:8.274505443807591\n",
      "Iter:178 | train_cost:8.278716707044406\n",
      "Iter:179 | train_cost:8.276010061520283\n",
      "Iter:180 | train_cost:8.269084455201968\n",
      "ac: 0.20588235294117646\n",
      "Iter:181 | train_cost:8.259399976080827\n",
      "Iter:182 | train_cost:8.254852245277695\n",
      "Iter:183 | train_cost:8.255073804001471\n",
      "Iter:184 | train_cost:8.259219591453311\n",
      "Iter:185 | train_cost:8.265298703756994\n",
      "Iter:186 | train_cost:8.267729017199992\n",
      "Iter:187 | train_cost:8.267802482319897\n",
      "Iter:188 | train_cost:8.26344157654382\n",
      "Iter:189 | train_cost:8.258159821393981\n",
      "Iter:190 | train_cost:8.254438888563826\n",
      "ac: 0.11764705882352941\n",
      "Iter:191 | train_cost:8.253418323233834\n",
      "Iter:192 | train_cost:8.254385829563443\n",
      "Iter:193 | train_cost:8.25723160506345\n",
      "Iter:194 | train_cost:8.261409447104548\n",
      "Iter:195 | train_cost:8.265470866526687\n",
      "Iter:196 | train_cost:8.270101959229754\n"
     ]
    },
    {
     "name": "stdout",
     "output_type": "stream",
     "text": [
      "Iter:197 | train_cost:8.270466219930634\n",
      "Iter:198 | train_cost:8.267505978200564\n",
      "Iter:199 | train_cost:8.260349424572631\n",
      "Iter:200 | train_cost:8.254658909946112\n",
      "ac: 0.11764705882352941\n",
      "Iter:201 | train_cost:8.252985778432796\n",
      "Iter:202 | train_cost:8.255354697206116\n",
      "Iter:203 | train_cost:8.259341169671611\n",
      "Iter:204 | train_cost:8.261654658388698\n",
      "Iter:205 | train_cost:8.26141514267928\n",
      "Iter:206 | train_cost:8.257996314466126\n",
      "Iter:207 | train_cost:8.25454396276101\n",
      "Iter:208 | train_cost:8.252848078129121\n",
      "Iter:209 | train_cost:8.253486703414357\n",
      "Iter:210 | train_cost:8.255672310467567\n",
      "ac: 0.22058823529411764\n",
      "Iter:211 | train_cost:8.257788507350565\n",
      "Iter:212 | train_cost:8.259116267708686\n",
      "Iter:213 | train_cost:8.258716824030925\n",
      "Iter:214 | train_cost:8.257451356807097\n",
      "Iter:215 | train_cost:8.255406870109905\n",
      "Iter:216 | train_cost:8.253649163184985\n",
      "Iter:217 | train_cost:8.252549558259636\n",
      "Iter:218 | train_cost:8.25235834653601\n",
      "Iter:219 | train_cost:8.252941113786164\n",
      "Iter:220 | train_cost:8.253914406396854\n",
      "ac: 0.14705882352941177\n",
      "Iter:221 | train_cost:8.25505869498576\n",
      "Iter:222 | train_cost:8.256062478834343\n",
      "Iter:223 | train_cost:8.25693047171788\n",
      "Iter:224 | train_cost:8.25707315660593\n",
      "Iter:225 | train_cost:8.256743309928622\n",
      "Iter:226 | train_cost:8.255648254781903\n",
      "Iter:227 | train_cost:8.254490785152681\n",
      "Iter:228 | train_cost:8.253362454751317\n",
      "Iter:229 | train_cost:8.252541954168185\n",
      "Iter:230 | train_cost:8.252070662970043\n",
      "ac: 0.14705882352941177\n",
      "Iter:231 | train_cost:8.251965774639832\n",
      "Iter:232 | train_cost:8.25214107276455\n",
      "Iter:233 | train_cost:8.252476303434486\n",
      "Iter:234 | train_cost:8.252887628379334\n",
      "Iter:235 | train_cost:8.25329266348739\n",
      "Iter:236 | train_cost:8.25374070971702\n",
      "Iter:237 | train_cost:8.254131783512292\n",
      "Iter:238 | train_cost:8.254571168659346\n",
      "Iter:239 | train_cost:8.254893458473441\n",
      "Iter:240 | train_cost:8.255239473799499\n",
      "ac: 0.16176470588235295\n",
      "Iter:241 | train_cost:8.255291710421456\n",
      "Iter:242 | train_cost:8.255246631806354\n",
      "Iter:243 | train_cost:8.254839792849067\n",
      "Iter:244 | train_cost:8.254330402773517\n",
      "Iter:245 | train_cost:8.25359903972625\n",
      "Iter:246 | train_cost:8.252884360922478\n",
      "Iter:247 | train_cost:8.252215865158217\n",
      "Iter:248 | train_cost:8.251738283366086\n",
      "Iter:249 | train_cost:8.25148292947182\n",
      "Iter:250 | train_cost:8.251444243232712\n",
      "ac: 0.14705882352941177\n",
      "Iter:251 | train_cost:8.251568149333634\n",
      "Iter:252 | train_cost:8.251771058377765\n",
      "Iter:253 | train_cost:8.251978231339574\n",
      "Iter:254 | train_cost:8.252112560432717\n",
      "Iter:255 | train_cost:8.252163678183335\n",
      "Iter:256 | train_cost:8.25209000871181\n",
      "Iter:257 | train_cost:8.251938293700785\n",
      "Iter:258 | train_cost:8.251718921504777\n",
      "Iter:259 | train_cost:8.251495960310118\n",
      "Iter:260 | train_cost:8.251291601224416\n",
      "ac: 0.14705882352941177\n",
      "Iter:261 | train_cost:8.251136461348812\n",
      "Iter:262 | train_cost:8.251039214668674\n",
      "Iter:263 | train_cost:8.250998537039786\n",
      "Iter:264 | train_cost:8.250999456623891\n",
      "Iter:265 | train_cost:8.251019609851179\n",
      "Iter:266 | train_cost:8.251037826455551\n",
      "Iter:267 | train_cost:8.25103314705781\n",
      "Iter:268 | train_cost:8.250998594861185\n",
      "Iter:269 | train_cost:8.25093160639776\n",
      "Iter:270 | train_cost:8.250845648784125\n",
      "ac: 0.14705882352941177\n",
      "Iter:271 | train_cost:8.250753714873438\n",
      "Iter:272 | train_cost:8.250672863689328\n",
      "Iter:273 | train_cost:8.25061242538025\n",
      "Iter:274 | train_cost:8.250573409613043\n",
      "Iter:275 | train_cost:8.25054764759889\n",
      "Iter:276 | train_cost:8.25052256271567\n",
      "Iter:277 | train_cost:8.25048797966613\n",
      "Iter:278 | train_cost:8.250437440789023\n",
      "Iter:279 | train_cost:8.250374024507886\n",
      "Iter:280 | train_cost:8.250305258647222\n",
      "ac: 0.14705882352941177\n",
      "Iter:281 | train_cost:8.25024070602214\n",
      "Iter:282 | train_cost:8.250185092784603\n",
      "Iter:283 | train_cost:8.250137213993465\n",
      "Iter:284 | train_cost:8.250090759521182\n",
      "Iter:285 | train_cost:8.250038260608086\n",
      "Iter:286 | train_cost:8.249976686931351\n",
      "Iter:287 | train_cost:8.249908148142746\n",
      "Iter:288 | train_cost:8.249838185555928\n",
      "Iter:289 | train_cost:8.249770985830693\n",
      "Iter:290 | train_cost:8.249706733358675\n",
      "ac: 0.14705882352941177\n",
      "Iter:291 | train_cost:8.249641770559668\n",
      "Iter:292 | train_cost:8.2495718683367\n",
      "Iter:293 | train_cost:8.249495574288296\n",
      "Iter:294 | train_cost:8.249414983549073\n",
      "Iter:295 | train_cost:8.2493332585911\n",
      "Iter:296 | train_cost:8.249251774104033\n",
      "Iter:297 | train_cost:8.249169060497687\n",
      "Iter:298 | train_cost:8.249082309261453\n",
      "Iter:299 | train_cost:8.248990294484933\n"
     ]
    }
   ],
   "source": [
    "ls_progres=[]\n",
    "ac_progres=[]\n",
    "for e in range(nr_epochs):\n",
    "    params, ls = opt.step_and_cost(lambda p: cost( par=p, x=X_train, y=Y_train),params)\n",
    "\n",
    "    print(\"Iter:{} | train_cost:{}\".format(e, ls))\n",
    "    ls_progres.append(ls)\n",
    "\n",
    "\n",
    "    if e%10==0:\n",
    "        predictions = [[next_gen(params, w_input,obs='x') ,next_gen(params,w_input,obs='y') ,next_gen(params,w_input,obs='z') ] for w_input in X_train ]\n",
    "        ac=accuracy(predictions, y=Y_train)\n",
    "\n",
    "        print(\"ac:\",ac)\n",
    "        ac_progres.append(ac)\n",
    "  "
   ]
  },
  {
   "cell_type": "code",
   "execution_count": null,
   "id": "fcd9fa59",
   "metadata": {},
   "outputs": [],
   "source": []
  },
  {
   "cell_type": "markdown",
   "id": "aa2be45b",
   "metadata": {},
   "source": [
    "## Results"
   ]
  },
  {
   "cell_type": "code",
   "execution_count": 25,
   "id": "9032e5e8",
   "metadata": {},
   "outputs": [],
   "source": [
    "import matplotlib.pyplot as plt"
   ]
  },
  {
   "cell_type": "code",
   "execution_count": 26,
   "id": "d22685a2",
   "metadata": {},
   "outputs": [
    {
     "name": "stdout",
     "output_type": "stream",
     "text": [
      "last loss: 8.248990294484933\n"
     ]
    },
    {
     "data": {
      "image/png": "[encoded data removed]",
      "text/plain": [
       "<Figure size 432x288 with 1 Axes>"
      ]
     },
     "metadata": {
      "needs_background": "light"
     },
     "output_type": "display_data"
    }
   ],
   "source": [
    "fig = plt.figure()\n",
    "plt.plot([x for x in range(0,len(ls_progres))],np.array(ls_progres),label=\"train loss\")\n",
    "\n",
    "\n",
    "plt.legend()\n",
    "plt.title(\"loss_VQE_001_C1\",)\n",
    "plt.xlabel(\"epoch\")\n",
    "plt.ylabel(\"loss\")\n",
    "\n",
    "print(\"last loss:\",ls_progres[-1])"
   ]
  },
  {
   "cell_type": "code",
   "execution_count": 27,
   "id": "c7972e9a",
   "metadata": {},
   "outputs": [
    {
     "name": "stdout",
     "output_type": "stream",
     "text": [
      "accuracy loss: 0.14705882352941177\n"
     ]
    },
    {
     "data": {
      "image/png": "[encoded data removed]",
      "text/plain": [
       "<Figure size 432x288 with 1 Axes>"
      ]
     },
     "metadata": {
      "needs_background": "light"
     },
     "output_type": "display_data"
    }
   ],
   "source": [
    "fig = plt.figure()\n",
    "plt.plot([x for x in range(0,len(ac_progres)*10,10)],np.array(ac_progres),label=\"train accuracy\")\n",
    "\n",
    "\n",
    "plt.legend()\n",
    "plt.title(\"accuracy_VQE_001_C1\",)\n",
    "plt.xlabel(\"epoch\")\n",
    "plt.ylabel(\"accyracy\")\n",
    "\n",
    "print(\"accuracy loss:\",ac_progres[-1])"
   ]
  },
  {
   "cell_type": "code",
   "execution_count": null,
   "id": "f0d84294",
   "metadata": {},
   "outputs": [],
   "source": []
  },
  {
   "cell_type": "code",
   "execution_count": 28,
   "id": "4395e625",
   "metadata": {},
   "outputs": [
    {
     "ename": "SyntaxError",
     "evalue": "invalid syntax (3275611625.py, line 8)",
     "output_type": "error",
     "traceback": [
      "\u001b[0;36m  Input \u001b[0;32mIn [28]\u001b[0;36m\u001b[0m\n\u001b[0;31m    for w in x[i];\u001b[0m\n\u001b[0m                 ^\u001b[0m\n\u001b[0;31mSyntaxError\u001b[0m\u001b[0;31m:\u001b[0m invalid syntax\n"
     ]
    }
   ],
   "source": [
    "for i in range(len(x)):\n",
    "    \n",
    "    words_vec = [parameterize_vovabulary[w] for w in x[i]]\n",
    "    pred_vector=[ next_gen(params,words_vec, obs=o) for o in ['x', 'y', 'z']]\n",
    "    pred_word= get_word_from_sphere(pred_vector, parameterize_vovabulary)\n",
    "    \n",
    "    text=\"\"\n",
    "    for w in x[i];\n",
    "    text=text+w+\" \"\n",
    "    \n",
    "    print(\"{} {}|{}\".format(text, pred_word,y[i]))"
   ]
  },
  {
   "cell_type": "code",
   "execution_count": null,
   "id": "ddf5e5f3",
   "metadata": {},
   "outputs": [],
   "source": []
  }
 ],
 "metadata": {
  "kernelspec": {
   "display_name": "Python 3 (ipykernel)",
   "language": "python",
   "name": "python3"
  },
  "language_info": {
   "codemirror_mode": {
    "name": "ipython",
    "version": 3
   },
   "file_extension": ".py",
   "mimetype": "text/x-python",
   "name": "python",
   "nbconvert_exporter": "python",
   "pygments_lexer": "ipython3",
   "version": "3.9.7"
  }
 },
 "nbformat": 4,
 "nbformat_minor": 5
}
