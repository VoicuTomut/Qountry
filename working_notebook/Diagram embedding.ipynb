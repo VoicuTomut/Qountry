{
 "cells": [
  {
   "cell_type": "code",
   "execution_count": 1,
   "id": "f66f493b",
   "metadata": {},
   "outputs": [],
   "source": [
    "import os\n",
    "import numpy\n",
    "\n",
    "\n",
    "import pennylane as qml\n",
    "from pennylane import numpy as np\n",
    "from pennylane.optimize import AdamOptimizer, GradientDescentOptimizer\n",
    "\n",
    "import mpl_toolkits.mplot3d\n",
    "import matplotlib.pyplot as pp\n",
    "\n",
    "\n",
    "import sys\n",
    "sys.path.append(\"..\")\n",
    "from wordsToNumbers import Corpus\n",
    "from wordsToNumbers import fibonacci_vocabulary\n",
    "\n",
    "from wordsToQubits import put_word_on_sphere\n",
    "\n",
    "from utils import get_corpus_from_directory, working_window, get_word_from_sphere"
   ]
  },
  {
   "cell_type": "code",
   "execution_count": 2,
   "id": "f0aed631",
   "metadata": {},
   "outputs": [],
   "source": [
    "np.random.seed(73)"
   ]
  },
  {
   "cell_type": "code",
   "execution_count": null,
   "id": "e02a24ab",
   "metadata": {},
   "outputs": [],
   "source": []
  },
  {
   "cell_type": "markdown",
   "id": "caf49e41",
   "metadata": {},
   "source": [
    "## Corpus"
   ]
  },
  {
   "cell_type": "code",
   "execution_count": 3,
   "id": "4aab6edb",
   "metadata": {},
   "outputs": [
    {
     "name": "stdout",
     "output_type": "stream",
     "text": [
      "nr. words:72 \n",
      "nr. distinct words: 8 \n",
      "len.text/len.vocab:9.0\n"
     ]
    }
   ],
   "source": [
    "corpus_path='/Users/voicutu/Documents/GitHub/Qountry/Bebe'\n",
    "\n",
    "corpus_tex = get_corpus_from_directory(corpus_path, limit=1)\n",
    "\n",
    "corpus= Corpus(corpus_tex)\n",
    "print(corpus.prop())"
   ]
  },
  {
   "cell_type": "code",
   "execution_count": 4,
   "id": "59dc8302",
   "metadata": {},
   "outputs": [],
   "source": [
    "parameterize_vovabulary = fibonacci_vocabulary(corpus.vocabulary)"
   ]
  },
  {
   "cell_type": "markdown",
   "id": "2939acb4",
   "metadata": {},
   "source": [
    "### nonsense corpus "
   ]
  },
  {
   "cell_type": "code",
   "execution_count": 5,
   "id": "9250a571",
   "metadata": {},
   "outputs": [
    {
     "name": "stdout",
     "output_type": "stream",
     "text": [
      "nonsens text:   punct bot punct bot cainele cainele are ursul punct bot frumos ursul este fericit punct frumos frumos este are ursul fericit punct are bot punct este este are fericit ursul frumos frumos frumos cainele are ursul are ursul este este fericit ursul fericit punct bot este are bot ursul are punct fericit punct este ursul frumos cainele frumos fericit punct frumos fericit punct punct cainele este are fericit cainele cainele are bot\n",
      "nr. words:72 \n",
      "nr. distinct words: 8 \n",
      "len.text/len.vocab:9.0\n"
     ]
    }
   ],
   "source": [
    "nonsens= [corpus.vocabulary[i] for i in [ np.random.randint(0,8) for j in range(72)]]\n",
    "               \n",
    "nonsens_text =\" \"\n",
    "\n",
    "for w in nonsens:\n",
    "          nonsens_text=nonsens_text+\" \"+w\n",
    "print(\"nonsens text:\",nonsens_text)\n",
    "          \n",
    "nonsens_corpus= Corpus(nonsens_text)\n",
    "print(nonsens_corpus.prop())"
   ]
  },
  {
   "cell_type": "code",
   "execution_count": 6,
   "id": "a97987e9",
   "metadata": {},
   "outputs": [],
   "source": [
    "history_lenghth = 3"
   ]
  },
  {
   "cell_type": "code",
   "execution_count": 7,
   "id": "7059caf7",
   "metadata": {},
   "outputs": [],
   "source": [
    "x_sense,y = working_window(history_lenghth, splited_text=corpus.split_text)\n",
    "y_sense = [1 for i in range(len(x_sense))]"
   ]
  },
  {
   "cell_type": "code",
   "execution_count": 8,
   "id": "5980f004",
   "metadata": {},
   "outputs": [],
   "source": [
    "x_nonsense,y = working_window(history_lenghth, splited_text=nonsens_corpus.split_text)\n",
    "y_nonsense = [0 for i in range(len(x_nonsense))]"
   ]
  },
  {
   "cell_type": "code",
   "execution_count": 9,
   "id": "873cf398",
   "metadata": {},
   "outputs": [
    {
     "data": {
      "text/plain": [
       "['ursul', 'are', 'bot']"
      ]
     },
     "execution_count": 9,
     "metadata": {},
     "output_type": "execute_result"
    }
   ],
   "source": [
    "x_sense[0]"
   ]
  },
  {
   "cell_type": "code",
   "execution_count": 10,
   "id": "709a7bc3",
   "metadata": {},
   "outputs": [
    {
     "data": {
      "text/plain": [
       "['punct', 'bot', 'punct']"
      ]
     },
     "execution_count": 10,
     "metadata": {},
     "output_type": "execute_result"
    }
   ],
   "source": [
    "x_nonsense[0]"
   ]
  },
  {
   "cell_type": "code",
   "execution_count": 11,
   "id": "0231eb8b",
   "metadata": {},
   "outputs": [
    {
     "name": "stdout",
     "output_type": "stream",
     "text": [
      "136\n",
      "136\n"
     ]
    }
   ],
   "source": [
    "x_merge=x_sense.copy()\n",
    "for piece in x_nonsense:\n",
    "    x_merge.append(piece)\n",
    "print(len(x_merge))\n",
    "\n",
    "y_merge=y_sense.copy()\n",
    "for piece in y_nonsense:\n",
    "    y_merge.append(piece)\n",
    "print(len(y_merge))"
   ]
  },
  {
   "cell_type": "markdown",
   "id": "e0d8f67d",
   "metadata": {},
   "source": [
    "## Diagram embeding"
   ]
  },
  {
   "cell_type": "markdown",
   "id": "ffee3b52",
   "metadata": {},
   "source": [
    "### Initial distribution"
   ]
  },
  {
   "cell_type": "code",
   "execution_count": 12,
   "id": "2dab4d82",
   "metadata": {},
   "outputs": [
    {
     "name": "stdout",
     "output_type": "stream",
     "text": [
      "keys dict_keys(['cainele', 'ursul', 'bot', 'are', 'este', 'fericit', 'punct', 'frumos'])\n"
     ]
    },
    {
     "data": {
      "image/png": "[encoded data removed]",
      "text/plain": [
       "<Figure size 432x288 with 1 Axes>"
      ]
     },
     "metadata": {
      "needs_background": "light"
     },
     "output_type": "display_data"
    }
   ],
   "source": [
    "print(\"keys\",parameterize_vovabulary.keys())\n",
    "\n",
    "x_old=[]\n",
    "y_old=[]\n",
    "z_old=[]\n",
    "\n",
    "for key in parameterize_vovabulary.keys():\n",
    "    x_old.append(parameterize_vovabulary[key][0])\n",
    "    y_old.append(parameterize_vovabulary[key][1])\n",
    "    z_old.append(parameterize_vovabulary[key][2])\n",
    "    \n",
    "pp.figure().add_subplot(111, projection='3d').scatter(x_old, y_old, z_old);\n",
    "pp.show()"
   ]
  },
  {
   "cell_type": "code",
   "execution_count": 13,
   "id": "2746ee12",
   "metadata": {},
   "outputs": [
    {
     "data": {
      "text/plain": [
       "[[0.0, 1.0, 0.0],\n",
       " [-0.516050715285824, 0.7142857142857143, 0.4727447277551981],\n",
       " [0.07898983319899221, 0.4285714285714286, -0.9000484080667219],\n",
       " [0.6021982974369868, 0.1428571428571429, 0.7854610412354569],\n",
       " [-0.9746135928368869, -0.1428571428571428, -0.17239542161051932],\n",
       " [0.7623395769811511, -0.4285714285714286, -0.4849380372588282],\n",
       " [-0.18168516629672943, -0.7142857142857142, 0.6758597626098751],\n",
       " [-0.0, -1.0, -0.0]]"
      ]
     },
     "execution_count": 13,
     "metadata": {},
     "output_type": "execute_result"
    }
   ],
   "source": [
    "vocabulary_parameters= [parameterize_vovabulary[key] for key in parameterize_vovabulary.keys()]\n",
    "vocabulary_parameters"
   ]
  },
  {
   "cell_type": "code",
   "execution_count": 25,
   "id": "9f7d8bbe",
   "metadata": {},
   "outputs": [],
   "source": [
    "def update_vocabulary(parameterize_vovabulary, vocabulary_parameters):\n",
    "    \n",
    "    \n",
    "    \n",
    "    print(\"\\n\\n ###vp\",vocabulary_parameters)\n",
    "    i=0\n",
    "    for key in parameterize_vovabulary.keys():\n",
    "        parameterize_vovabulary[key]=[k for k in vocabulary_parameters[i]]\n",
    "        i=i+1\n",
    "    \n",
    "\n",
    "    print(\"pv:\",parameterize_vovabulary)\n",
    "    return parameterize_vovabulary"
   ]
  },
  {
   "cell_type": "code",
   "execution_count": 26,
   "id": "88b9805f",
   "metadata": {},
   "outputs": [],
   "source": [
    "dev = qml.device(\"default.qubit\", wires=6)\n",
    "\n",
    "@qml.qnode(dev)\n",
    "def sense_circutis(x):\n",
    "    \n",
    "    #words embeding \n",
    "    for i in range(len(x)):\n",
    "        \n",
    "        put_word_on_sphere(x[i], qubit=i)\n",
    "        \n",
    "        \n",
    "    # interaction\n",
    "    for i in range(1,len(x)):\n",
    "        qml.CNOT(wires=[0,i])\n",
    "        \n",
    "    return  qml.expval(qml.PauliZ(0)) # aici trbuie verificat daca am facut bine \n",
    "                                      # si nu cumva trebuie s apun ccond ca restuls a fie 0"
   ]
  },
  {
   "cell_type": "code",
   "execution_count": 27,
   "id": "90f61734",
   "metadata": {},
   "outputs": [
    {
     "data": {
      "text/plain": [
       "{'cainele': [0.0, 1.0, 0.0],\n",
       " 'ursul': [-0.516050715285824, 0.7142857142857143, 0.4727447277551981],\n",
       " 'bot': [0.07898983319899221, 0.4285714285714286, -0.9000484080667219],\n",
       " 'are': [0.6021982974369868, 0.1428571428571429, 0.7854610412354569],\n",
       " 'este': [-0.9746135928368869, -0.1428571428571428, -0.17239542161051932],\n",
       " 'fericit': [0.7623395769811511, -0.4285714285714286, -0.4849380372588282],\n",
       " 'punct': [-0.18168516629672943, -0.7142857142857142, 0.6758597626098751],\n",
       " 'frumos': [-0.0, -1.0, -0.0]}"
      ]
     },
     "execution_count": 27,
     "metadata": {},
     "output_type": "execute_result"
    }
   ],
   "source": [
    "parameterize_vovabulary"
   ]
  },
  {
   "cell_type": "code",
   "execution_count": 28,
   "id": "bd2697c6",
   "metadata": {},
   "outputs": [
    {
     "data": {
      "text/plain": [
       "['ursul', 'are', 'bot']"
      ]
     },
     "execution_count": 28,
     "metadata": {},
     "output_type": "execute_result"
    }
   ],
   "source": [
    "x_sense[0]"
   ]
  },
  {
   "cell_type": "code",
   "execution_count": 29,
   "id": "dc9bb67b",
   "metadata": {},
   "outputs": [
    {
     "data": {
      "text/plain": [
       "[-0.516050715285824, 0.7142857142857143, 0.4727447277551981]"
      ]
     },
     "execution_count": 29,
     "metadata": {},
     "output_type": "execute_result"
    }
   ],
   "source": [
    "parameterize_vovabulary['ursul']"
   ]
  },
  {
   "cell_type": "code",
   "execution_count": 30,
   "id": "ffff6582",
   "metadata": {},
   "outputs": [
    {
     "name": "stdout",
     "output_type": "stream",
     "text": [
      " 0: ──RY(5.2)────RZ(-0.945)──╭C──╭C──┤ ⟨Z⟩ \n",
      " 1: ──RY(0.667)──RZ(0.233)───╰X──│───┤     \n",
      " 2: ──RY(-3.59)──RZ(1.39)────────╰X──┤     \n",
      "\n"
     ]
    }
   ],
   "source": [
    "\"ursul are bot punct\"\n",
    "\n",
    "x_vec=[ parameterize_vovabulary[w] for w in x_sense[0]]\n",
    "\n",
    "\n",
    "\n",
    "print(qml.draw(sense_circutis)(x_vec))"
   ]
  },
  {
   "cell_type": "code",
   "execution_count": 31,
   "id": "192c2682",
   "metadata": {},
   "outputs": [
    {
     "name": "stdout",
     "output_type": "stream",
     "text": [
      "pred 0.4727447277551978\n"
     ]
    }
   ],
   "source": [
    "pred = sense_circutis(x_vec)\n",
    "print(\"pred\",pred)"
   ]
  },
  {
   "cell_type": "markdown",
   "id": "633a2c75",
   "metadata": {},
   "source": [
    "### Sense learning"
   ]
  },
  {
   "cell_type": "code",
   "execution_count": 32,
   "id": "c63ee7e3",
   "metadata": {},
   "outputs": [],
   "source": [
    "def cost(params, x,y):\n",
    "    \n",
    "    \n",
    "    global parameterize_vovabulary\n",
    "    parameterize_vovabulary = update_vocabulary(parameterize_vovabulary, params)\n",
    "    print(\"\\n !!!!pv:\",parameterize_vovabulary)\n",
    "    print(\"\\n\\n \\n params:\",params)\n",
    "    x_vec=[[ parameterize_vovabulary[w] for w in piece] for piece in x] \n",
    "    \n",
    "    \n",
    "    predictions = [sense_circutis(w_input) for w_input in x_vec ]\n",
    "\n",
    "    c=0.0\n",
    "    for i in range(len(predictions)):\n",
    "        c = c+ (predictions[i] - y[i])**2\n",
    "\n",
    "    c=c/len(predictions)\n",
    "\n",
    "    return np.array(c)"
   ]
  },
  {
   "cell_type": "code",
   "execution_count": 33,
   "id": "d9b62758",
   "metadata": {},
   "outputs": [],
   "source": [
    "def sense_accuracy(predictions, y):\n",
    "\n",
    "    ac=0\n",
    "    int_pred= [int(predict+0.5) for predict in predictions ]\n",
    "    print(\"predictions\", int_pred)\n",
    "    for i in range(len(y)):\n",
    "        if int(y[i])==int_pred[i]:\n",
    "            ac=ac+1\n",
    "            \n",
    "    return ac/len(y)"
   ]
  },
  {
   "cell_type": "markdown",
   "id": "0f815100",
   "metadata": {},
   "source": [
    "#### Training"
   ]
  },
  {
   "cell_type": "code",
   "execution_count": 36,
   "id": "6fd63b59",
   "metadata": {},
   "outputs": [],
   "source": [
    "## Model parameters \n",
    "\n",
    "params= vocabulary_parameters\n",
    "\n",
    "learning_rate= 0.6\n",
    "opt = AdamOptimizer(learning_rate, beta1=0.9, beta2=0.999)\n",
    "\n",
    "nr_epochs= 20"
   ]
  },
  {
   "cell_type": "code",
   "execution_count": 37,
   "id": "66464f84",
   "metadata": {},
   "outputs": [
    {
     "name": "stdout",
     "output_type": "stream",
     "text": [
      "\n",
      "\n",
      " ###vp Autograd SequenceBox with value [[0.0, 1.0, 0.0], [-0.516050715285824, 0.7142857142857143, 0.4727447277551981], [0.07898983319899221, 0.4285714285714286, -0.9000484080667219], [0.6021982974369868, 0.1428571428571429, 0.7854610412354569], [-0.9746135928368869, -0.1428571428571428, -0.17239542161051932], [0.7623395769811511, -0.4285714285714286, -0.4849380372588282], [-0.18168516629672943, -0.7142857142857142, 0.6758597626098751], [-0.0, -1.0, -0.0]]\n",
      "pv: {'cainele': [<autograd.numpy.numpy_boxes.ArrayBox object at 0x7fe2b0740600>, <autograd.numpy.numpy_boxes.ArrayBox object at 0x7fe2b06262c0>, <autograd.numpy.numpy_boxes.ArrayBox object at 0x7fe2b0626d80>], 'ursul': [<autograd.numpy.numpy_boxes.ArrayBox object at 0x7fe2b0626e00>, <autograd.numpy.numpy_boxes.ArrayBox object at 0x7fe2b0626940>, <autograd.numpy.numpy_boxes.ArrayBox object at 0x7fe2b0626f80>], 'bot': [<autograd.numpy.numpy_boxes.ArrayBox object at 0x7fe2b0626d00>, <autograd.numpy.numpy_boxes.ArrayBox object at 0x7fe2b0626bc0>, <autograd.numpy.numpy_boxes.ArrayBox object at 0x7fe2b06264c0>], 'are': [<autograd.numpy.numpy_boxes.ArrayBox object at 0x7fe2b06263c0>, <autograd.numpy.numpy_boxes.ArrayBox object at 0x7fe2b0626440>, <autograd.numpy.numpy_boxes.ArrayBox object at 0x7fe2b0626ec0>], 'este': [<autograd.numpy.numpy_boxes.ArrayBox object at 0x7fe2b0626f40>, <autograd.numpy.numpy_boxes.ArrayBox object at 0x7fe2b0626700>, <autograd.numpy.numpy_boxes.ArrayBox object at 0x7fe2b0626900>], 'fericit': [<autograd.numpy.numpy_boxes.ArrayBox object at 0x7fe2b0626780>, <autograd.numpy.numpy_boxes.ArrayBox object at 0x7fe2b0626480>, <autograd.numpy.numpy_boxes.ArrayBox object at 0x7fe2b0626340>], 'punct': [<autograd.numpy.numpy_boxes.ArrayBox object at 0x7fe2b0626680>, <autograd.numpy.numpy_boxes.ArrayBox object at 0x7fe2b0626180>, <autograd.numpy.numpy_boxes.ArrayBox object at 0x7fe2b0626040>], 'frumos': [<autograd.numpy.numpy_boxes.ArrayBox object at 0x7fe2b0626280>, <autograd.numpy.numpy_boxes.ArrayBox object at 0x7fe2b0626400>, <autograd.numpy.numpy_boxes.ArrayBox object at 0x7fe2905eedc0>]}\n",
      "\n",
      " !!!!pv: {'cainele': [<autograd.numpy.numpy_boxes.ArrayBox object at 0x7fe2b0740600>, <autograd.numpy.numpy_boxes.ArrayBox object at 0x7fe2b06262c0>, <autograd.numpy.numpy_boxes.ArrayBox object at 0x7fe2b0626d80>], 'ursul': [<autograd.numpy.numpy_boxes.ArrayBox object at 0x7fe2b0626e00>, <autograd.numpy.numpy_boxes.ArrayBox object at 0x7fe2b0626940>, <autograd.numpy.numpy_boxes.ArrayBox object at 0x7fe2b0626f80>], 'bot': [<autograd.numpy.numpy_boxes.ArrayBox object at 0x7fe2b0626d00>, <autograd.numpy.numpy_boxes.ArrayBox object at 0x7fe2b0626bc0>, <autograd.numpy.numpy_boxes.ArrayBox object at 0x7fe2b06264c0>], 'are': [<autograd.numpy.numpy_boxes.ArrayBox object at 0x7fe2b06263c0>, <autograd.numpy.numpy_boxes.ArrayBox object at 0x7fe2b0626440>, <autograd.numpy.numpy_boxes.ArrayBox object at 0x7fe2b0626ec0>], 'este': [<autograd.numpy.numpy_boxes.ArrayBox object at 0x7fe2b0626f40>, <autograd.numpy.numpy_boxes.ArrayBox object at 0x7fe2b0626700>, <autograd.numpy.numpy_boxes.ArrayBox object at 0x7fe2b0626900>], 'fericit': [<autograd.numpy.numpy_boxes.ArrayBox object at 0x7fe2b0626780>, <autograd.numpy.numpy_boxes.ArrayBox object at 0x7fe2b0626480>, <autograd.numpy.numpy_boxes.ArrayBox object at 0x7fe2b0626340>], 'punct': [<autograd.numpy.numpy_boxes.ArrayBox object at 0x7fe2b0626680>, <autograd.numpy.numpy_boxes.ArrayBox object at 0x7fe2b0626180>, <autograd.numpy.numpy_boxes.ArrayBox object at 0x7fe2b0626040>], 'frumos': [<autograd.numpy.numpy_boxes.ArrayBox object at 0x7fe2b0626280>, <autograd.numpy.numpy_boxes.ArrayBox object at 0x7fe2b0626400>, <autograd.numpy.numpy_boxes.ArrayBox object at 0x7fe2905eedc0>]}\n",
      "\n",
      "\n",
      " \n",
      " params: Autograd SequenceBox with value [[0.0, 1.0, 0.0], [-0.516050715285824, 0.7142857142857143, 0.4727447277551981], [0.07898983319899221, 0.4285714285714286, -0.9000484080667219], [0.6021982974369868, 0.1428571428571429, 0.7854610412354569], [-0.9746135928368869, -0.1428571428571428, -0.17239542161051932], [0.7623395769811511, -0.4285714285714286, -0.4849380372588282], [-0.18168516629672943, -0.7142857142857142, 0.6758597626098751], [-0.0, -1.0, -0.0]]\n",
      "Iter:0 | train_cost:0.6911284994020475\n",
      "\n",
      "\n",
      " ###vp [[0.0, 1.599998826612664, 0.0], [-1.114611581106728, 1.3132452889952138, -0.12680238826583384], [0.6789817678952651, 1.0285699420421384, -0.3000514273722553], [1.2021929889250569, 0.7428347660558003, 0.18546759633846732], [-1.5746032349997356, -0.7427864857367759, 0.4276027847445627], [1.3623369478065932, -1.028566751831808, 0.11506069191160362], [-0.7816557553946966, -1.3142782330777987, 0.07586641121076809], [-0.0, -1.5999991786283827, -0.0]]\n",
      "pv: {'cainele': [0.0, 1.599998826612664, 0.0], 'ursul': [-1.114611581106728, 1.3132452889952138, -0.12680238826583384], 'bot': [0.6789817678952651, 1.0285699420421384, -0.3000514273722553], 'are': [1.2021929889250569, 0.7428347660558003, 0.18546759633846732], 'este': [-1.5746032349997356, -0.7427864857367759, 0.4276027847445627], 'fericit': [1.3623369478065932, -1.028566751831808, 0.11506069191160362], 'punct': [-0.7816557553946966, -1.3142782330777987, 0.07586641121076809], 'frumos': [-0.0, -1.5999991786283827, -0.0]}\n",
      "predictions [0, 0, 0, 0, 0, 0, 0, 0, 0, 0, 0, 0, 0, 0, 0, 0, 0, 0, 0, 0, 0, 0, 0, 0, 0, 0, 0, 0, 0, 0, 0, 0, 0, 0, 0, 0, 0, 0, 0, 0, 0, 0, 0, 0, 0, 0, 0, 0, 0, 0, 0, 0, 0, 0, 0, 0, 0, 0, 0, 0, 0, 0, 0, 0, 0, 0, 0, 0, 0, 0, 0, 0, 0, 0, 0, 0, 0, 0, 0, 0, 0, 0, 0, 0, 0, 0, 0, 0, 0, 0, 0, 0, 0, 0, 0, 0, 0, 0, 0, 0, 0, 0, 0, 0, 0, 0, 0, 0, 0, 0, 0, 0, 0, 0, 0, 0, 0, 0, 0, 0, 0, 0, 0, 0, 0, 0, 0, 0, 0, 0, 0, 0, 0, 0, 0, 0]\n",
      "ac: 0.5\n",
      "\n",
      "\n",
      " ###vp Autograd SequenceBox with value [[0.0, 1.599998826612664, 0.0], [-1.114611581106728, 1.3132452889952138, -0.12680238826583384], [0.6789817678952651, 1.0285699420421384, -0.3000514273722553], [1.2021929889250569, 0.7428347660558003, 0.18546759633846732], [-1.5746032349997356, -0.7427864857367759, 0.4276027847445627], [1.3623369478065932, -1.028566751831808, 0.11506069191160362], [-0.7816557553946966, -1.3142782330777987, 0.07586641121076809], [-0.0, -1.5999991786283827, -0.0]]\n",
      "pv: {'cainele': [<autograd.numpy.numpy_boxes.ArrayBox object at 0x7fe29080fe40>, <autograd.numpy.numpy_boxes.ArrayBox object at 0x7fe29080fd40>, <autograd.numpy.numpy_boxes.ArrayBox object at 0x7fe29080fe00>], 'ursul': [<autograd.numpy.numpy_boxes.ArrayBox object at 0x7fe29080f380>, <autograd.numpy.numpy_boxes.ArrayBox object at 0x7fe29080fb00>, <autograd.numpy.numpy_boxes.ArrayBox object at 0x7fe2907e4740>], 'bot': [<autograd.numpy.numpy_boxes.ArrayBox object at 0x7fe2907e45c0>, <autograd.numpy.numpy_boxes.ArrayBox object at 0x7fe2907e4bc0>, <autograd.numpy.numpy_boxes.ArrayBox object at 0x7fe2907e4080>], 'are': [<autograd.numpy.numpy_boxes.ArrayBox object at 0x7fe2907e4cc0>, <autograd.numpy.numpy_boxes.ArrayBox object at 0x7fe2907e4e80>, <autograd.numpy.numpy_boxes.ArrayBox object at 0x7fe2907e4a80>], 'este': [<autograd.numpy.numpy_boxes.ArrayBox object at 0x7fe2907e4f00>, <autograd.numpy.numpy_boxes.ArrayBox object at 0x7fe2907e4c40>, <autograd.numpy.numpy_boxes.ArrayBox object at 0x7fe2907e4b40>], 'fericit': [<autograd.numpy.numpy_boxes.ArrayBox object at 0x7fe290718cc0>, <autograd.numpy.numpy_boxes.ArrayBox object at 0x7fe290718340>, <autograd.numpy.numpy_boxes.ArrayBox object at 0x7fe290718f40>], 'punct': [<autograd.numpy.numpy_boxes.ArrayBox object at 0x7fe2907186c0>, <autograd.numpy.numpy_boxes.ArrayBox object at 0x7fe290718c80>, <autograd.numpy.numpy_boxes.ArrayBox object at 0x7fe290718b80>], 'frumos': [<autograd.numpy.numpy_boxes.ArrayBox object at 0x7fe2907185c0>, <autograd.numpy.numpy_boxes.ArrayBox object at 0x7fe290718940>, <autograd.numpy.numpy_boxes.ArrayBox object at 0x7fe290718a00>]}\n",
      "\n",
      " !!!!pv: {'cainele': [<autograd.numpy.numpy_boxes.ArrayBox object at 0x7fe29080fe40>, <autograd.numpy.numpy_boxes.ArrayBox object at 0x7fe29080fd40>, <autograd.numpy.numpy_boxes.ArrayBox object at 0x7fe29080fe00>], 'ursul': [<autograd.numpy.numpy_boxes.ArrayBox object at 0x7fe29080f380>, <autograd.numpy.numpy_boxes.ArrayBox object at 0x7fe29080fb00>, <autograd.numpy.numpy_boxes.ArrayBox object at 0x7fe2907e4740>], 'bot': [<autograd.numpy.numpy_boxes.ArrayBox object at 0x7fe2907e45c0>, <autograd.numpy.numpy_boxes.ArrayBox object at 0x7fe2907e4bc0>, <autograd.numpy.numpy_boxes.ArrayBox object at 0x7fe2907e4080>], 'are': [<autograd.numpy.numpy_boxes.ArrayBox object at 0x7fe2907e4cc0>, <autograd.numpy.numpy_boxes.ArrayBox object at 0x7fe2907e4e80>, <autograd.numpy.numpy_boxes.ArrayBox object at 0x7fe2907e4a80>], 'este': [<autograd.numpy.numpy_boxes.ArrayBox object at 0x7fe2907e4f00>, <autograd.numpy.numpy_boxes.ArrayBox object at 0x7fe2907e4c40>, <autograd.numpy.numpy_boxes.ArrayBox object at 0x7fe2907e4b40>], 'fericit': [<autograd.numpy.numpy_boxes.ArrayBox object at 0x7fe290718cc0>, <autograd.numpy.numpy_boxes.ArrayBox object at 0x7fe290718340>, <autograd.numpy.numpy_boxes.ArrayBox object at 0x7fe290718f40>], 'punct': [<autograd.numpy.numpy_boxes.ArrayBox object at 0x7fe2907186c0>, <autograd.numpy.numpy_boxes.ArrayBox object at 0x7fe290718c80>, <autograd.numpy.numpy_boxes.ArrayBox object at 0x7fe290718b80>], 'frumos': [<autograd.numpy.numpy_boxes.ArrayBox object at 0x7fe2907185c0>, <autograd.numpy.numpy_boxes.ArrayBox object at 0x7fe290718940>, <autograd.numpy.numpy_boxes.ArrayBox object at 0x7fe290718a00>]}\n",
      "\n",
      "\n",
      " \n",
      " params: Autograd SequenceBox with value [[0.0, 1.599998826612664, 0.0], [-1.114611581106728, 1.3132452889952138, -0.12680238826583384], [0.6789817678952651, 1.0285699420421384, -0.3000514273722553], [1.2021929889250569, 0.7428347660558003, 0.18546759633846732], [-1.5746032349997356, -0.7427864857367759, 0.4276027847445627], [1.3623369478065932, -1.028566751831808, 0.11506069191160362], [-0.7816557553946966, -1.3142782330777987, 0.07586641121076809], [-0.0, -1.5999991786283827, -0.0]]\n"
     ]
    },
    {
     "name": "stdout",
     "output_type": "stream",
     "text": [
      "Iter:1 | train_cost:0.504959401887454\n",
      "\n",
      "\n",
      " ###vp Autograd SequenceBox with value [[0.0, 2.0020329924633042, 0.0], [-1.574935088557105, 1.775939934796068, 0.31752365444856684], [1.2708015122056808, 1.5167216862277724, 0.2731904928999641], [1.5033605323277794, 0.8800566675778397, 0.4375559926900027], [-1.9030681680371655, -0.9019166755959633, 0.8805600233012043], [1.7499525272937058, -1.4111500372740184, 0.624425387840731], [-0.9513217994731151, -1.6185103753749988, 0.41891573117352804], [-0.0, -2.0020335804680847, -0.0]]\n",
      "pv: {'cainele': [<autograd.numpy.numpy_boxes.ArrayBox object at 0x7fe290a82e80>, <autograd.numpy.numpy_boxes.ArrayBox object at 0x7fe290a82f40>, <autograd.numpy.numpy_boxes.ArrayBox object at 0x7fe290a82c80>], 'ursul': [<autograd.numpy.numpy_boxes.ArrayBox object at 0x7fe290a823c0>, <autograd.numpy.numpy_boxes.ArrayBox object at 0x7fe290a82b80>, <autograd.numpy.numpy_boxes.ArrayBox object at 0x7fe290a82cc0>], 'bot': [<autograd.numpy.numpy_boxes.ArrayBox object at 0x7fe290a82980>, <autograd.numpy.numpy_boxes.ArrayBox object at 0x7fe290a82940>, <autograd.numpy.numpy_boxes.ArrayBox object at 0x7fe290a82a80>], 'are': [<autograd.numpy.numpy_boxes.ArrayBox object at 0x7fe290a82380>, <autograd.numpy.numpy_boxes.ArrayBox object at 0x7fe290a82d80>, <autograd.numpy.numpy_boxes.ArrayBox object at 0x7fe290a82680>], 'este': [<autograd.numpy.numpy_boxes.ArrayBox object at 0x7fe290a82ec0>, <autograd.numpy.numpy_boxes.ArrayBox object at 0x7fe290a82dc0>, <autograd.numpy.numpy_boxes.ArrayBox object at 0x7fe290a82fc0>], 'fericit': [<autograd.numpy.numpy_boxes.ArrayBox object at 0x7fe290a82a40>, <autograd.numpy.numpy_boxes.ArrayBox object at 0x7fe290a82e00>, <autograd.numpy.numpy_boxes.ArrayBox object at 0x7fe290a82c40>], 'punct': [<autograd.numpy.numpy_boxes.ArrayBox object at 0x7fe290a82c00>, <autograd.numpy.numpy_boxes.ArrayBox object at 0x7fe290a829c0>, <autograd.numpy.numpy_boxes.ArrayBox object at 0x7fe290a82ac0>], 'frumos': [<autograd.numpy.numpy_boxes.ArrayBox object at 0x7fe290a82f00>, <autograd.numpy.numpy_boxes.ArrayBox object at 0x7fe290a82a00>, <autograd.numpy.numpy_boxes.ArrayBox object at 0x7fe290a827c0>]}\n",
      "\n",
      " !!!!pv: {'cainele': [<autograd.numpy.numpy_boxes.ArrayBox object at 0x7fe290a82e80>, <autograd.numpy.numpy_boxes.ArrayBox object at 0x7fe290a82f40>, <autograd.numpy.numpy_boxes.ArrayBox object at 0x7fe290a82c80>], 'ursul': [<autograd.numpy.numpy_boxes.ArrayBox object at 0x7fe290a823c0>, <autograd.numpy.numpy_boxes.ArrayBox object at 0x7fe290a82b80>, <autograd.numpy.numpy_boxes.ArrayBox object at 0x7fe290a82cc0>], 'bot': [<autograd.numpy.numpy_boxes.ArrayBox object at 0x7fe290a82980>, <autograd.numpy.numpy_boxes.ArrayBox object at 0x7fe290a82940>, <autograd.numpy.numpy_boxes.ArrayBox object at 0x7fe290a82a80>], 'are': [<autograd.numpy.numpy_boxes.ArrayBox object at 0x7fe290a82380>, <autograd.numpy.numpy_boxes.ArrayBox object at 0x7fe290a82d80>, <autograd.numpy.numpy_boxes.ArrayBox object at 0x7fe290a82680>], 'este': [<autograd.numpy.numpy_boxes.ArrayBox object at 0x7fe290a82ec0>, <autograd.numpy.numpy_boxes.ArrayBox object at 0x7fe290a82dc0>, <autograd.numpy.numpy_boxes.ArrayBox object at 0x7fe290a82fc0>], 'fericit': [<autograd.numpy.numpy_boxes.ArrayBox object at 0x7fe290a82a40>, <autograd.numpy.numpy_boxes.ArrayBox object at 0x7fe290a82e00>, <autograd.numpy.numpy_boxes.ArrayBox object at 0x7fe290a82c40>], 'punct': [<autograd.numpy.numpy_boxes.ArrayBox object at 0x7fe290a82c00>, <autograd.numpy.numpy_boxes.ArrayBox object at 0x7fe290a829c0>, <autograd.numpy.numpy_boxes.ArrayBox object at 0x7fe290a82ac0>], 'frumos': [<autograd.numpy.numpy_boxes.ArrayBox object at 0x7fe290a82f00>, <autograd.numpy.numpy_boxes.ArrayBox object at 0x7fe290a82a00>, <autograd.numpy.numpy_boxes.ArrayBox object at 0x7fe290a827c0>]}\n",
      "\n",
      "\n",
      " \n",
      " params: Autograd SequenceBox with value [[0.0, 2.0020329924633042, 0.0], [-1.574935088557105, 1.775939934796068, 0.31752365444856684], [1.2708015122056808, 1.5167216862277724, 0.2731904928999641], [1.5033605323277794, 0.8800566675778397, 0.4375559926900027], [-1.9030681680371655, -0.9019166755959633, 0.8805600233012043], [1.7499525272937058, -1.4111500372740184, 0.624425387840731], [-0.9513217994731151, -1.6185103753749988, 0.41891573117352804], [-0.0, -2.0020335804680847, -0.0]]\n",
      "Iter:2 | train_cost:0.38164194312597494\n",
      "\n",
      "\n",
      " ###vp Autograd SequenceBox with value [[0.0, 2.3128065675819505, 0.0], [-1.6056562875925946, 1.8193428595801826, 0.7867672012435074], [1.6667578278167565, 1.8781650747278873, 0.814621366892092], [1.651965198597611, 0.8141126598277856, 0.7799474621982194], [-2.1738807301466805, -1.0737006147564392, 1.222713689441711], [2.0360579079233414, -1.6874035929406597, 1.0456903671653066], [-0.7803559500390209, -1.6750750285482983, 0.8248911039424305], [-0.0, -2.3128073380982377, -0.0]]\n",
      "pv: {'cainele': [<autograd.numpy.numpy_boxes.ArrayBox object at 0x7fe290d7bb00>, <autograd.numpy.numpy_boxes.ArrayBox object at 0x7fe290d7bc00>, <autograd.numpy.numpy_boxes.ArrayBox object at 0x7fe290d7be00>], 'ursul': [<autograd.numpy.numpy_boxes.ArrayBox object at 0x7fe290d7bcc0>, <autograd.numpy.numpy_boxes.ArrayBox object at 0x7fe290d7b500>, <autograd.numpy.numpy_boxes.ArrayBox object at 0x7fe290d7bc40>], 'bot': [<autograd.numpy.numpy_boxes.ArrayBox object at 0x7fe290d7b900>, <autograd.numpy.numpy_boxes.ArrayBox object at 0x7fe290d7bd80>, <autograd.numpy.numpy_boxes.ArrayBox object at 0x7fe290d7bd00>], 'are': [<autograd.numpy.numpy_boxes.ArrayBox object at 0x7fe290d7bb80>, <autograd.numpy.numpy_boxes.ArrayBox object at 0x7fe290d7b8c0>, <autograd.numpy.numpy_boxes.ArrayBox object at 0x7fe290d7b7c0>], 'este': [<autograd.numpy.numpy_boxes.ArrayBox object at 0x7fe290d7b9c0>, <autograd.numpy.numpy_boxes.ArrayBox object at 0x7fe290d7ba40>, <autograd.numpy.numpy_boxes.ArrayBox object at 0x7fe290d7b740>], 'fericit': [<autograd.numpy.numpy_boxes.ArrayBox object at 0x7fe290d7ba80>, <autograd.numpy.numpy_boxes.ArrayBox object at 0x7fe290d7ba00>, <autograd.numpy.numpy_boxes.ArrayBox object at 0x7fe290d7b840>], 'punct': [<autograd.numpy.numpy_boxes.ArrayBox object at 0x7fe290d7b340>, <autograd.numpy.numpy_boxes.ArrayBox object at 0x7fe290d7b4c0>, <autograd.numpy.numpy_boxes.ArrayBox object at 0x7fe290d7b540>], 'frumos': [<autograd.numpy.numpy_boxes.ArrayBox object at 0x7fe290d7b100>, <autograd.numpy.numpy_boxes.ArrayBox object at 0x7fe290d7b400>, <autograd.numpy.numpy_boxes.ArrayBox object at 0x7fe290d7b440>]}\n",
      "\n",
      " !!!!pv: {'cainele': [<autograd.numpy.numpy_boxes.ArrayBox object at 0x7fe290d7bb00>, <autograd.numpy.numpy_boxes.ArrayBox object at 0x7fe290d7bc00>, <autograd.numpy.numpy_boxes.ArrayBox object at 0x7fe290d7be00>], 'ursul': [<autograd.numpy.numpy_boxes.ArrayBox object at 0x7fe290d7bcc0>, <autograd.numpy.numpy_boxes.ArrayBox object at 0x7fe290d7b500>, <autograd.numpy.numpy_boxes.ArrayBox object at 0x7fe290d7bc40>], 'bot': [<autograd.numpy.numpy_boxes.ArrayBox object at 0x7fe290d7b900>, <autograd.numpy.numpy_boxes.ArrayBox object at 0x7fe290d7bd80>, <autograd.numpy.numpy_boxes.ArrayBox object at 0x7fe290d7bd00>], 'are': [<autograd.numpy.numpy_boxes.ArrayBox object at 0x7fe290d7bb80>, <autograd.numpy.numpy_boxes.ArrayBox object at 0x7fe290d7b8c0>, <autograd.numpy.numpy_boxes.ArrayBox object at 0x7fe290d7b7c0>], 'este': [<autograd.numpy.numpy_boxes.ArrayBox object at 0x7fe290d7b9c0>, <autograd.numpy.numpy_boxes.ArrayBox object at 0x7fe290d7ba40>, <autograd.numpy.numpy_boxes.ArrayBox object at 0x7fe290d7b740>], 'fericit': [<autograd.numpy.numpy_boxes.ArrayBox object at 0x7fe290d7ba80>, <autograd.numpy.numpy_boxes.ArrayBox object at 0x7fe290d7ba00>, <autograd.numpy.numpy_boxes.ArrayBox object at 0x7fe290d7b840>], 'punct': [<autograd.numpy.numpy_boxes.ArrayBox object at 0x7fe290d7b340>, <autograd.numpy.numpy_boxes.ArrayBox object at 0x7fe290d7b4c0>, <autograd.numpy.numpy_boxes.ArrayBox object at 0x7fe290d7b540>], 'frumos': [<autograd.numpy.numpy_boxes.ArrayBox object at 0x7fe290d7b100>, <autograd.numpy.numpy_boxes.ArrayBox object at 0x7fe290d7b400>, <autograd.numpy.numpy_boxes.ArrayBox object at 0x7fe290d7b440>]}\n",
      "\n",
      "\n",
      " \n",
      " params: Autograd SequenceBox with value [[0.0, 2.3128065675819505, 0.0], [-1.6056562875925946, 1.8193428595801826, 0.7867672012435074], [1.6667578278167565, 1.8781650747278873, 0.814621366892092], [1.651965198597611, 0.8141126598277856, 0.7799474621982194], [-2.1738807301466805, -1.0737006147564392, 1.222713689441711], [2.0360579079233414, -1.6874035929406597, 1.0456903671653066], [-0.7803559500390209, -1.6750750285482983, 0.8248911039424305], [-0.0, -2.3128073380982377, -0.0]]\n"
     ]
    },
    {
     "name": "stdout",
     "output_type": "stream",
     "text": [
      "Iter:3 | train_cost:0.3318541578492034\n",
      "\n",
      "\n",
      " ###vp Autograd SequenceBox with value [[0.0, 2.5673733700865893, 0.0], [-1.439277858991849, 1.664821598237187, 1.2236150560753283], [1.93299945277631, 2.1597254613032897, 1.3017909415401097], [1.72921045994795, 0.6874368010659637, 1.1094596948347208], [-2.4411039250135245, -1.337447757514493, 1.4841741831191233], [2.2672225175620144, -1.9089819956170564, 1.395585437736187], [-0.5226449876283625, -1.6211567749780909, 1.205016247112224], [-0.0, -2.5673742901800045, -0.0]]\n",
      "pv: {'cainele': [<autograd.numpy.numpy_boxes.ArrayBox object at 0x7fe2905fe780>, <autograd.numpy.numpy_boxes.ArrayBox object at 0x7fe2905fe340>, <autograd.numpy.numpy_boxes.ArrayBox object at 0x7fe2905fe500>], 'ursul': [<autograd.numpy.numpy_boxes.ArrayBox object at 0x7fe2905fef80>, <autograd.numpy.numpy_boxes.ArrayBox object at 0x7fe2905fe9c0>, <autograd.numpy.numpy_boxes.ArrayBox object at 0x7fe2905fe400>], 'bot': [<autograd.numpy.numpy_boxes.ArrayBox object at 0x7fe2905fe940>, <autograd.numpy.numpy_boxes.ArrayBox object at 0x7fe2905fe800>, <autograd.numpy.numpy_boxes.ArrayBox object at 0x7fe2905fe140>], 'are': [<autograd.numpy.numpy_boxes.ArrayBox object at 0x7fe2905fed00>, <autograd.numpy.numpy_boxes.ArrayBox object at 0x7fe2905fe8c0>, <autograd.numpy.numpy_boxes.ArrayBox object at 0x7fe2905fe7c0>], 'este': [<autograd.numpy.numpy_boxes.ArrayBox object at 0x7fe2905fe700>, <autograd.numpy.numpy_boxes.ArrayBox object at 0x7fe2905fe180>, <autograd.numpy.numpy_boxes.ArrayBox object at 0x7fe2905fe6c0>], 'fericit': [<autograd.numpy.numpy_boxes.ArrayBox object at 0x7fe2905fe880>, <autograd.numpy.numpy_boxes.ArrayBox object at 0x7fe2905fe680>, <autograd.numpy.numpy_boxes.ArrayBox object at 0x7fe2905fe540>], 'punct': [<autograd.numpy.numpy_boxes.ArrayBox object at 0x7fe2905fe840>, <autograd.numpy.numpy_boxes.ArrayBox object at 0x7fe2905fe380>, <autograd.numpy.numpy_boxes.ArrayBox object at 0x7fe2905fe280>], 'frumos': [<autograd.numpy.numpy_boxes.ArrayBox object at 0x7fe2905fe5c0>, <autograd.numpy.numpy_boxes.ArrayBox object at 0x7fe2905fe0c0>, <autograd.numpy.numpy_boxes.ArrayBox object at 0x7fe2905fe200>]}\n",
      "\n",
      " !!!!pv: {'cainele': [<autograd.numpy.numpy_boxes.ArrayBox object at 0x7fe2905fe780>, <autograd.numpy.numpy_boxes.ArrayBox object at 0x7fe2905fe340>, <autograd.numpy.numpy_boxes.ArrayBox object at 0x7fe2905fe500>], 'ursul': [<autograd.numpy.numpy_boxes.ArrayBox object at 0x7fe2905fef80>, <autograd.numpy.numpy_boxes.ArrayBox object at 0x7fe2905fe9c0>, <autograd.numpy.numpy_boxes.ArrayBox object at 0x7fe2905fe400>], 'bot': [<autograd.numpy.numpy_boxes.ArrayBox object at 0x7fe2905fe940>, <autograd.numpy.numpy_boxes.ArrayBox object at 0x7fe2905fe800>, <autograd.numpy.numpy_boxes.ArrayBox object at 0x7fe2905fe140>], 'are': [<autograd.numpy.numpy_boxes.ArrayBox object at 0x7fe2905fed00>, <autograd.numpy.numpy_boxes.ArrayBox object at 0x7fe2905fe8c0>, <autograd.numpy.numpy_boxes.ArrayBox object at 0x7fe2905fe7c0>], 'este': [<autograd.numpy.numpy_boxes.ArrayBox object at 0x7fe2905fe700>, <autograd.numpy.numpy_boxes.ArrayBox object at 0x7fe2905fe180>, <autograd.numpy.numpy_boxes.ArrayBox object at 0x7fe2905fe6c0>], 'fericit': [<autograd.numpy.numpy_boxes.ArrayBox object at 0x7fe2905fe880>, <autograd.numpy.numpy_boxes.ArrayBox object at 0x7fe2905fe680>, <autograd.numpy.numpy_boxes.ArrayBox object at 0x7fe2905fe540>], 'punct': [<autograd.numpy.numpy_boxes.ArrayBox object at 0x7fe2905fe840>, <autograd.numpy.numpy_boxes.ArrayBox object at 0x7fe2905fe380>, <autograd.numpy.numpy_boxes.ArrayBox object at 0x7fe2905fe280>], 'frumos': [<autograd.numpy.numpy_boxes.ArrayBox object at 0x7fe2905fe5c0>, <autograd.numpy.numpy_boxes.ArrayBox object at 0x7fe2905fe0c0>, <autograd.numpy.numpy_boxes.ArrayBox object at 0x7fe2905fe200>]}\n",
      "\n",
      "\n",
      " \n",
      " params: Autograd SequenceBox with value [[0.0, 2.5673733700865893, 0.0], [-1.439277858991849, 1.664821598237187, 1.2236150560753283], [1.93299945277631, 2.1597254613032897, 1.3017909415401097], [1.72921045994795, 0.6874368010659637, 1.1094596948347208], [-2.4411039250135245, -1.337447757514493, 1.4841741831191233], [2.2672225175620144, -1.9089819956170564, 1.395585437736187], [-0.5226449876283625, -1.6211567749780909, 1.205016247112224], [-0.0, -2.5673742901800045, -0.0]]\n",
      "Iter:4 | train_cost:0.31904903189163003\n",
      "\n",
      "\n",
      " ###vp Autograd SequenceBox with value [[0.0, 2.7825403662643264, 0.0], [-1.3231486492923967, 1.558810494617891, 1.5884230412008302], [2.1216328166044045, 2.388398118993745, 1.7349719348157742], [1.7997587343855563, 0.587603397786398, 1.3836170167442523], [-2.7113394557729626, -1.6751699435833667, 1.6871704578626634], [2.4649473990164332, -2.0997608647166826, 1.6882963641810222], [-0.33757904629581215, -1.6112321791999544, 1.5150027655037395], [-0.0, -2.7825414128477832, -0.0]]\n",
      "pv: {'cainele': [<autograd.numpy.numpy_boxes.ArrayBox object at 0x7fe290aa5f00>, <autograd.numpy.numpy_boxes.ArrayBox object at 0x7fe290aa5380>, <autograd.numpy.numpy_boxes.ArrayBox object at 0x7fe290aa5480>], 'ursul': [<autograd.numpy.numpy_boxes.ArrayBox object at 0x7fe290aa5e40>, <autograd.numpy.numpy_boxes.ArrayBox object at 0x7fe290aa59c0>, <autograd.numpy.numpy_boxes.ArrayBox object at 0x7fe290aa5d80>], 'bot': [<autograd.numpy.numpy_boxes.ArrayBox object at 0x7fe290aa5f80>, <autograd.numpy.numpy_boxes.ArrayBox object at 0x7fe290aa5a80>, <autograd.numpy.numpy_boxes.ArrayBox object at 0x7fe290aa5dc0>], 'are': [<autograd.numpy.numpy_boxes.ArrayBox object at 0x7fe290aa5900>, <autograd.numpy.numpy_boxes.ArrayBox object at 0x7fe290aa5d40>, <autograd.numpy.numpy_boxes.ArrayBox object at 0x7fe290aa5b00>], 'este': [<autograd.numpy.numpy_boxes.ArrayBox object at 0x7fe290aa5c40>, <autograd.numpy.numpy_boxes.ArrayBox object at 0x7fe290aa5040>, <autograd.numpy.numpy_boxes.ArrayBox object at 0x7fe290aa5840>], 'fericit': [<autograd.numpy.numpy_boxes.ArrayBox object at 0x7fe290aa5ac0>, <autograd.numpy.numpy_boxes.ArrayBox object at 0x7fe290aa5440>, <autograd.numpy.numpy_boxes.ArrayBox object at 0x7fe290aa5680>], 'punct': [<autograd.numpy.numpy_boxes.ArrayBox object at 0x7fe290aa5980>, <autograd.numpy.numpy_boxes.ArrayBox object at 0x7fe290aa51c0>, <autograd.numpy.numpy_boxes.ArrayBox object at 0x7fe290aa5740>], 'frumos': [<autograd.numpy.numpy_boxes.ArrayBox object at 0x7fe290aa5800>, <autograd.numpy.numpy_boxes.ArrayBox object at 0x7fe290aa5d00>, <autograd.numpy.numpy_boxes.ArrayBox object at 0x7fe290aa5600>]}\n",
      "\n",
      " !!!!pv: {'cainele': [<autograd.numpy.numpy_boxes.ArrayBox object at 0x7fe290aa5f00>, <autograd.numpy.numpy_boxes.ArrayBox object at 0x7fe290aa5380>, <autograd.numpy.numpy_boxes.ArrayBox object at 0x7fe290aa5480>], 'ursul': [<autograd.numpy.numpy_boxes.ArrayBox object at 0x7fe290aa5e40>, <autograd.numpy.numpy_boxes.ArrayBox object at 0x7fe290aa59c0>, <autograd.numpy.numpy_boxes.ArrayBox object at 0x7fe290aa5d80>], 'bot': [<autograd.numpy.numpy_boxes.ArrayBox object at 0x7fe290aa5f80>, <autograd.numpy.numpy_boxes.ArrayBox object at 0x7fe290aa5a80>, <autograd.numpy.numpy_boxes.ArrayBox object at 0x7fe290aa5dc0>], 'are': [<autograd.numpy.numpy_boxes.ArrayBox object at 0x7fe290aa5900>, <autograd.numpy.numpy_boxes.ArrayBox object at 0x7fe290aa5d40>, <autograd.numpy.numpy_boxes.ArrayBox object at 0x7fe290aa5b00>], 'este': [<autograd.numpy.numpy_boxes.ArrayBox object at 0x7fe290aa5c40>, <autograd.numpy.numpy_boxes.ArrayBox object at 0x7fe290aa5040>, <autograd.numpy.numpy_boxes.ArrayBox object at 0x7fe290aa5840>], 'fericit': [<autograd.numpy.numpy_boxes.ArrayBox object at 0x7fe290aa5ac0>, <autograd.numpy.numpy_boxes.ArrayBox object at 0x7fe290aa5440>, <autograd.numpy.numpy_boxes.ArrayBox object at 0x7fe290aa5680>], 'punct': [<autograd.numpy.numpy_boxes.ArrayBox object at 0x7fe290aa5980>, <autograd.numpy.numpy_boxes.ArrayBox object at 0x7fe290aa51c0>, <autograd.numpy.numpy_boxes.ArrayBox object at 0x7fe290aa5740>], 'frumos': [<autograd.numpy.numpy_boxes.ArrayBox object at 0x7fe290aa5800>, <autograd.numpy.numpy_boxes.ArrayBox object at 0x7fe290aa5d00>, <autograd.numpy.numpy_boxes.ArrayBox object at 0x7fe290aa5600>]}\n",
      "\n",
      "\n",
      " \n",
      " params: Autograd SequenceBox with value [[0.0, 2.7825403662643264, 0.0], [-1.3231486492923967, 1.558810494617891, 1.5884230412008302], [2.1216328166044045, 2.388398118993745, 1.7349719348157742], [1.7997587343855563, 0.587603397786398, 1.3836170167442523], [-2.7113394557729626, -1.6751699435833667, 1.6871704578626634], [2.4649473990164332, -2.0997608647166826, 1.6882963641810222], [-0.33757904629581215, -1.6112321791999544, 1.5150027655037395], [-0.0, -2.7825414128477832, -0.0]]\n"
     ]
    },
    {
     "name": "stdout",
     "output_type": "stream",
     "text": [
      "Iter:5 | train_cost:0.3239734805514337\n",
      "\n",
      "\n",
      " ###vp Autograd SequenceBox with value [[0.0, 2.9679864831267775, 0.0], [-1.4316447969054689, 1.677691786990355, 1.8703592747576707], [2.2627095608600705, 2.5798516701721717, 2.119282889593025], [1.8982357498178106, 0.5451491005954597, 1.5940349733000478], [-2.9792946126569957, -2.0589792550171104, 1.8474478144463578], [2.640444243112048, -2.2718647235552827, 1.9345619511632752], [-0.25132238693966186, -1.7168702683283936, 1.7525381839277017], [-0.0, -2.9679876387828372, -0.0]]\n",
      "pv: {'cainele': [<autograd.numpy.numpy_boxes.ArrayBox object at 0x7fe290745b80>, <autograd.numpy.numpy_boxes.ArrayBox object at 0x7fe290745640>, <autograd.numpy.numpy_boxes.ArrayBox object at 0x7fe290745b00>], 'ursul': [<autograd.numpy.numpy_boxes.ArrayBox object at 0x7fe290745c00>, <autograd.numpy.numpy_boxes.ArrayBox object at 0x7fe290745bc0>, <autograd.numpy.numpy_boxes.ArrayBox object at 0x7fe290745940>], 'bot': [<autograd.numpy.numpy_boxes.ArrayBox object at 0x7fe2907458c0>, <autograd.numpy.numpy_boxes.ArrayBox object at 0x7fe290745c80>, <autograd.numpy.numpy_boxes.ArrayBox object at 0x7fe290745a00>], 'are': [<autograd.numpy.numpy_boxes.ArrayBox object at 0x7fe290745540>, <autograd.numpy.numpy_boxes.ArrayBox object at 0x7fe290745740>, <autograd.numpy.numpy_boxes.ArrayBox object at 0x7fe2907452c0>], 'este': [<autograd.numpy.numpy_boxes.ArrayBox object at 0x7fe290745180>, <autograd.numpy.numpy_boxes.ArrayBox object at 0x7fe2907456c0>, <autograd.numpy.numpy_boxes.ArrayBox object at 0x7fe290745080>], 'fericit': [<autograd.numpy.numpy_boxes.ArrayBox object at 0x7fe290745900>, <autograd.numpy.numpy_boxes.ArrayBox object at 0x7fe2907457c0>, <autograd.numpy.numpy_boxes.ArrayBox object at 0x7fe290745680>], 'punct': [<autograd.numpy.numpy_boxes.ArrayBox object at 0x7fe290745800>, <autograd.numpy.numpy_boxes.ArrayBox object at 0x7fe2907454c0>, <autograd.numpy.numpy_boxes.ArrayBox object at 0x7fe290745040>], 'frumos': [<autograd.numpy.numpy_boxes.ArrayBox object at 0x7fe290745700>, <autograd.numpy.numpy_boxes.ArrayBox object at 0x7fe2907453c0>, <autograd.numpy.numpy_boxes.ArrayBox object at 0x7fe290745400>]}\n",
      "\n",
      " !!!!pv: {'cainele': [<autograd.numpy.numpy_boxes.ArrayBox object at 0x7fe290745b80>, <autograd.numpy.numpy_boxes.ArrayBox object at 0x7fe290745640>, <autograd.numpy.numpy_boxes.ArrayBox object at 0x7fe290745b00>], 'ursul': [<autograd.numpy.numpy_boxes.ArrayBox object at 0x7fe290745c00>, <autograd.numpy.numpy_boxes.ArrayBox object at 0x7fe290745bc0>, <autograd.numpy.numpy_boxes.ArrayBox object at 0x7fe290745940>], 'bot': [<autograd.numpy.numpy_boxes.ArrayBox object at 0x7fe2907458c0>, <autograd.numpy.numpy_boxes.ArrayBox object at 0x7fe290745c80>, <autograd.numpy.numpy_boxes.ArrayBox object at 0x7fe290745a00>], 'are': [<autograd.numpy.numpy_boxes.ArrayBox object at 0x7fe290745540>, <autograd.numpy.numpy_boxes.ArrayBox object at 0x7fe290745740>, <autograd.numpy.numpy_boxes.ArrayBox object at 0x7fe2907452c0>], 'este': [<autograd.numpy.numpy_boxes.ArrayBox object at 0x7fe290745180>, <autograd.numpy.numpy_boxes.ArrayBox object at 0x7fe2907456c0>, <autograd.numpy.numpy_boxes.ArrayBox object at 0x7fe290745080>], 'fericit': [<autograd.numpy.numpy_boxes.ArrayBox object at 0x7fe290745900>, <autograd.numpy.numpy_boxes.ArrayBox object at 0x7fe2907457c0>, <autograd.numpy.numpy_boxes.ArrayBox object at 0x7fe290745680>], 'punct': [<autograd.numpy.numpy_boxes.ArrayBox object at 0x7fe290745800>, <autograd.numpy.numpy_boxes.ArrayBox object at 0x7fe2907454c0>, <autograd.numpy.numpy_boxes.ArrayBox object at 0x7fe290745040>], 'frumos': [<autograd.numpy.numpy_boxes.ArrayBox object at 0x7fe290745700>, <autograd.numpy.numpy_boxes.ArrayBox object at 0x7fe2907453c0>, <autograd.numpy.numpy_boxes.ArrayBox object at 0x7fe290745400>]}\n",
      "\n",
      "\n",
      " \n",
      " params: Autograd SequenceBox with value [[0.0, 2.9679864831267775, 0.0], [-1.4316447969054689, 1.677691786990355, 1.8703592747576707], [2.2627095608600705, 2.5798516701721717, 2.119282889593025], [1.8982357498178106, 0.5451491005954597, 1.5940349733000478], [-2.9792946126569957, -2.0589792550171104, 1.8474478144463578], [2.640444243112048, -2.2718647235552827, 1.9345619511632752], [-0.25132238693966186, -1.7168702683283936, 1.7525381839277017], [-0.0, -2.9679876387828372, -0.0]]\n",
      "Iter:6 | train_cost:0.32742815935687203\n",
      "\n",
      "\n",
      " ###vp Autograd SequenceBox with value [[0.0, 3.129937343734488, 0.0], [-1.6806439594565603, 1.935040239510647, 2.0845535791140524], [2.373949114132684, 2.7438508035647264, 2.4604238935709906], [2.032824618508661, 0.5576845814377159, 1.7473169342474004], [-3.2385679362104054, -2.4664401366936093, 1.9762002474147646], [2.8000956449632457, -2.4319007304426186, 2.142491127485501], [-0.22997785073819818, -1.9184080237989165, 1.9307072521606508], [-0.0, -3.1299385946917653, -0.0]]\n",
      "pv: {'cainele': [<autograd.numpy.numpy_boxes.ArrayBox object at 0x7fe2903e3c00>, <autograd.numpy.numpy_boxes.ArrayBox object at 0x7fe2903e36c0>, <autograd.numpy.numpy_boxes.ArrayBox object at 0x7fe2903e3b80>], 'ursul': [<autograd.numpy.numpy_boxes.ArrayBox object at 0x7fe2903e3c80>, <autograd.numpy.numpy_boxes.ArrayBox object at 0x7fe2903e3c40>, <autograd.numpy.numpy_boxes.ArrayBox object at 0x7fe2903e39c0>], 'bot': [<autograd.numpy.numpy_boxes.ArrayBox object at 0x7fe2903e3940>, <autograd.numpy.numpy_boxes.ArrayBox object at 0x7fe2903e3d00>, <autograd.numpy.numpy_boxes.ArrayBox object at 0x7fe2903e3a80>], 'are': [<autograd.numpy.numpy_boxes.ArrayBox object at 0x7fe2903e35c0>, <autograd.numpy.numpy_boxes.ArrayBox object at 0x7fe2903e37c0>, <autograd.numpy.numpy_boxes.ArrayBox object at 0x7fe2903e3340>], 'este': [<autograd.numpy.numpy_boxes.ArrayBox object at 0x7fe2903e3200>, <autograd.numpy.numpy_boxes.ArrayBox object at 0x7fe2903e3740>, <autograd.numpy.numpy_boxes.ArrayBox object at 0x7fe2903e3100>], 'fericit': [<autograd.numpy.numpy_boxes.ArrayBox object at 0x7fe2903e3980>, <autograd.numpy.numpy_boxes.ArrayBox object at 0x7fe2903e3840>, <autograd.numpy.numpy_boxes.ArrayBox object at 0x7fe2903e3700>], 'punct': [<autograd.numpy.numpy_boxes.ArrayBox object at 0x7fe2903e3880>, <autograd.numpy.numpy_boxes.ArrayBox object at 0x7fe2903e3540>, <autograd.numpy.numpy_boxes.ArrayBox object at 0x7fe2903e30c0>], 'frumos': [<autograd.numpy.numpy_boxes.ArrayBox object at 0x7fe2903e3780>, <autograd.numpy.numpy_boxes.ArrayBox object at 0x7fe2903e3440>, <autograd.numpy.numpy_boxes.ArrayBox object at 0x7fe2903e3480>]}\n",
      "\n",
      " !!!!pv: {'cainele': [<autograd.numpy.numpy_boxes.ArrayBox object at 0x7fe2903e3c00>, <autograd.numpy.numpy_boxes.ArrayBox object at 0x7fe2903e36c0>, <autograd.numpy.numpy_boxes.ArrayBox object at 0x7fe2903e3b80>], 'ursul': [<autograd.numpy.numpy_boxes.ArrayBox object at 0x7fe2903e3c80>, <autograd.numpy.numpy_boxes.ArrayBox object at 0x7fe2903e3c40>, <autograd.numpy.numpy_boxes.ArrayBox object at 0x7fe2903e39c0>], 'bot': [<autograd.numpy.numpy_boxes.ArrayBox object at 0x7fe2903e3940>, <autograd.numpy.numpy_boxes.ArrayBox object at 0x7fe2903e3d00>, <autograd.numpy.numpy_boxes.ArrayBox object at 0x7fe2903e3a80>], 'are': [<autograd.numpy.numpy_boxes.ArrayBox object at 0x7fe2903e35c0>, <autograd.numpy.numpy_boxes.ArrayBox object at 0x7fe2903e37c0>, <autograd.numpy.numpy_boxes.ArrayBox object at 0x7fe2903e3340>], 'este': [<autograd.numpy.numpy_boxes.ArrayBox object at 0x7fe2903e3200>, <autograd.numpy.numpy_boxes.ArrayBox object at 0x7fe2903e3740>, <autograd.numpy.numpy_boxes.ArrayBox object at 0x7fe2903e3100>], 'fericit': [<autograd.numpy.numpy_boxes.ArrayBox object at 0x7fe2903e3980>, <autograd.numpy.numpy_boxes.ArrayBox object at 0x7fe2903e3840>, <autograd.numpy.numpy_boxes.ArrayBox object at 0x7fe2903e3700>], 'punct': [<autograd.numpy.numpy_boxes.ArrayBox object at 0x7fe2903e3880>, <autograd.numpy.numpy_boxes.ArrayBox object at 0x7fe2903e3540>, <autograd.numpy.numpy_boxes.ArrayBox object at 0x7fe2903e30c0>], 'frumos': [<autograd.numpy.numpy_boxes.ArrayBox object at 0x7fe2903e3780>, <autograd.numpy.numpy_boxes.ArrayBox object at 0x7fe2903e3440>, <autograd.numpy.numpy_boxes.ArrayBox object at 0x7fe2903e3480>]}\n",
      "\n",
      "\n",
      " \n",
      " params: Autograd SequenceBox with value [[0.0, 3.129937343734488, 0.0], [-1.6806439594565603, 1.935040239510647, 2.0845535791140524], [2.373949114132684, 2.7438508035647264, 2.4604238935709906], [2.032824618508661, 0.5576845814377159, 1.7473169342474004], [-3.2385679362104054, -2.4664401366936093, 1.9762002474147646], [2.8000956449632457, -2.4319007304426186, 2.142491127485501], [-0.22997785073819818, -1.9184080237989165, 1.9307072521606508], [-0.0, -3.1299385946917653, -0.0]]\n"
     ]
    },
    {
     "name": "stdout",
     "output_type": "stream",
     "text": [
      "Iter:7 | train_cost:0.3264053101944437\n",
      "\n",
      "\n",
      " ###vp Autograd SequenceBox with value [[0.0, 3.2727067623013943, 0.0], [-2.0026901367720495, 2.263054289027065, 2.247970964336032], [2.4662635026712025, 2.886862584059953, 2.7636221117242448], [2.1983863013635214, 0.6144193176995146, 1.8535742941207296], [-3.484358221833103, -2.8801861065579293, 2.081495983376492], [2.9477683565568955, -2.5836351411948177, 2.3183251614723708], [-0.2485734741965019, -2.182254291592319, 2.0625151632222205], [-0.0, -3.272708097314462, -0.0]]\n",
      "pv: {'cainele': [<autograd.numpy.numpy_boxes.ArrayBox object at 0x7fe2b078bb40>, <autograd.numpy.numpy_boxes.ArrayBox object at 0x7fe2b078bd40>, <autograd.numpy.numpy_boxes.ArrayBox object at 0x7fe2b078b580>], 'ursul': [<autograd.numpy.numpy_boxes.ArrayBox object at 0x7fe2b078bbc0>, <autograd.numpy.numpy_boxes.ArrayBox object at 0x7fe2b078b980>, <autograd.numpy.numpy_boxes.ArrayBox object at 0x7fe2b078b1c0>], 'bot': [<autograd.numpy.numpy_boxes.ArrayBox object at 0x7fe2b078b680>, <autograd.numpy.numpy_boxes.ArrayBox object at 0x7fe2b078ba40>, <autograd.numpy.numpy_boxes.ArrayBox object at 0x7fe2b078b940>], 'are': [<autograd.numpy.numpy_boxes.ArrayBox object at 0x7fe2b078b880>, <autograd.numpy.numpy_boxes.ArrayBox object at 0x7fe2b078b300>, <autograd.numpy.numpy_boxes.ArrayBox object at 0x7fe2b078b840>], 'este': [<autograd.numpy.numpy_boxes.ArrayBox object at 0x7fe2b078ba00>, <autograd.numpy.numpy_boxes.ArrayBox object at 0x7fe2b078b0c0>, <autograd.numpy.numpy_boxes.ArrayBox object at 0x7fe2b078b740>], 'fericit': [<autograd.numpy.numpy_boxes.ArrayBox object at 0x7fe2b078b9c0>, <autograd.numpy.numpy_boxes.ArrayBox object at 0x7fe2b078b6c0>, <autograd.numpy.numpy_boxes.ArrayBox object at 0x7fe2b078b200>], 'punct': [<autograd.numpy.numpy_boxes.ArrayBox object at 0x7fe2b078b480>, <autograd.numpy.numpy_boxes.ArrayBox object at 0x7fe2b078b080>, <autograd.numpy.numpy_boxes.ArrayBox object at 0x7fe2b078b600>], 'frumos': [<autograd.numpy.numpy_boxes.ArrayBox object at 0x7fe2b078b3c0>, <autograd.numpy.numpy_boxes.ArrayBox object at 0x7fe2b078b440>, <autograd.numpy.numpy_boxes.ArrayBox object at 0x7fe2b078b280>]}\n",
      "\n",
      " !!!!pv: {'cainele': [<autograd.numpy.numpy_boxes.ArrayBox object at 0x7fe2b078bb40>, <autograd.numpy.numpy_boxes.ArrayBox object at 0x7fe2b078bd40>, <autograd.numpy.numpy_boxes.ArrayBox object at 0x7fe2b078b580>], 'ursul': [<autograd.numpy.numpy_boxes.ArrayBox object at 0x7fe2b078bbc0>, <autograd.numpy.numpy_boxes.ArrayBox object at 0x7fe2b078b980>, <autograd.numpy.numpy_boxes.ArrayBox object at 0x7fe2b078b1c0>], 'bot': [<autograd.numpy.numpy_boxes.ArrayBox object at 0x7fe2b078b680>, <autograd.numpy.numpy_boxes.ArrayBox object at 0x7fe2b078ba40>, <autograd.numpy.numpy_boxes.ArrayBox object at 0x7fe2b078b940>], 'are': [<autograd.numpy.numpy_boxes.ArrayBox object at 0x7fe2b078b880>, <autograd.numpy.numpy_boxes.ArrayBox object at 0x7fe2b078b300>, <autograd.numpy.numpy_boxes.ArrayBox object at 0x7fe2b078b840>], 'este': [<autograd.numpy.numpy_boxes.ArrayBox object at 0x7fe2b078ba00>, <autograd.numpy.numpy_boxes.ArrayBox object at 0x7fe2b078b0c0>, <autograd.numpy.numpy_boxes.ArrayBox object at 0x7fe2b078b740>], 'fericit': [<autograd.numpy.numpy_boxes.ArrayBox object at 0x7fe2b078b9c0>, <autograd.numpy.numpy_boxes.ArrayBox object at 0x7fe2b078b6c0>, <autograd.numpy.numpy_boxes.ArrayBox object at 0x7fe2b078b200>], 'punct': [<autograd.numpy.numpy_boxes.ArrayBox object at 0x7fe2b078b480>, <autograd.numpy.numpy_boxes.ArrayBox object at 0x7fe2b078b080>, <autograd.numpy.numpy_boxes.ArrayBox object at 0x7fe2b078b600>], 'frumos': [<autograd.numpy.numpy_boxes.ArrayBox object at 0x7fe2b078b3c0>, <autograd.numpy.numpy_boxes.ArrayBox object at 0x7fe2b078b440>, <autograd.numpy.numpy_boxes.ArrayBox object at 0x7fe2b078b280>]}\n",
      "\n",
      "\n",
      " \n",
      " params: Autograd SequenceBox with value [[0.0, 3.2727067623013943, 0.0], [-2.0026901367720495, 2.263054289027065, 2.247970964336032], [2.4662635026712025, 2.886862584059953, 2.7636221117242448], [2.1983863013635214, 0.6144193176995146, 1.8535742941207296], [-3.484358221833103, -2.8801861065579293, 2.081495983376492], [2.9477683565568955, -2.5836351411948177, 2.3183251614723708], [-0.2485734741965019, -2.182254291592319, 2.0625151632222205], [-0.0, -3.272708097314462, -0.0]]\n",
      "Iter:8 | train_cost:0.3233503569960123\n",
      "\n",
      "\n",
      " ###vp Autograd SequenceBox with value [[0.0, 3.399448310865074, 0.0], [-2.356996207732907, 2.6209855545829206, 2.3747697182370624], [2.546618278538737, 3.0133791775616463, 3.0334270067392906], [2.3852781955377322, 0.7041764669552935, 1.9227562964404075], [-3.7137541725406145, -3.286790857223057, 2.169222250902114], [3.0859122219529005, -2.7292638958521813, 2.4669787692383682], [-0.29232381451906747, -2.4811664128941775, 2.1589304803090514], [-0.0, -3.3994497205348284, -0.0]]\n",
      "pv: {'cainele': [<autograd.numpy.numpy_boxes.ArrayBox object at 0x7fe290719ac0>, <autograd.numpy.numpy_boxes.ArrayBox object at 0x7fe2907195c0>, <autograd.numpy.numpy_boxes.ArrayBox object at 0x7fe290719c40>], 'ursul': [<autograd.numpy.numpy_boxes.ArrayBox object at 0x7fe290719d40>, <autograd.numpy.numpy_boxes.ArrayBox object at 0x7fe290719780>, <autograd.numpy.numpy_boxes.ArrayBox object at 0x7fe290719580>], 'bot': [<autograd.numpy.numpy_boxes.ArrayBox object at 0x7fe290719dc0>, <autograd.numpy.numpy_boxes.ArrayBox object at 0x7fe290719680>, <autograd.numpy.numpy_boxes.ArrayBox object at 0x7fe290719b00>], 'are': [<autograd.numpy.numpy_boxes.ArrayBox object at 0x7fe290719900>, <autograd.numpy.numpy_boxes.ArrayBox object at 0x7fe290719f80>, <autograd.numpy.numpy_boxes.ArrayBox object at 0x7fe290719e40>], 'este': [<autograd.numpy.numpy_boxes.ArrayBox object at 0x7fe290719980>, <autograd.numpy.numpy_boxes.ArrayBox object at 0x7fe290719fc0>, <autograd.numpy.numpy_boxes.ArrayBox object at 0x7fe290719cc0>], 'fericit': [<autograd.numpy.numpy_boxes.ArrayBox object at 0x7fe290719c00>, <autograd.numpy.numpy_boxes.ArrayBox object at 0x7fe290719d00>, <autograd.numpy.numpy_boxes.ArrayBox object at 0x7fe290719b80>], 'punct': [<autograd.numpy.numpy_boxes.ArrayBox object at 0x7fe2907199c0>, <autograd.numpy.numpy_boxes.ArrayBox object at 0x7fe290719a40>, <autograd.numpy.numpy_boxes.ArrayBox object at 0x7fe2907191c0>], 'frumos': [<autograd.numpy.numpy_boxes.ArrayBox object at 0x7fe2907193c0>, <autograd.numpy.numpy_boxes.ArrayBox object at 0x7fe290719a00>, <autograd.numpy.numpy_boxes.ArrayBox object at 0x7fe290719180>]}\n",
      "\n",
      " !!!!pv: {'cainele': [<autograd.numpy.numpy_boxes.ArrayBox object at 0x7fe290719ac0>, <autograd.numpy.numpy_boxes.ArrayBox object at 0x7fe2907195c0>, <autograd.numpy.numpy_boxes.ArrayBox object at 0x7fe290719c40>], 'ursul': [<autograd.numpy.numpy_boxes.ArrayBox object at 0x7fe290719d40>, <autograd.numpy.numpy_boxes.ArrayBox object at 0x7fe290719780>, <autograd.numpy.numpy_boxes.ArrayBox object at 0x7fe290719580>], 'bot': [<autograd.numpy.numpy_boxes.ArrayBox object at 0x7fe290719dc0>, <autograd.numpy.numpy_boxes.ArrayBox object at 0x7fe290719680>, <autograd.numpy.numpy_boxes.ArrayBox object at 0x7fe290719b00>], 'are': [<autograd.numpy.numpy_boxes.ArrayBox object at 0x7fe290719900>, <autograd.numpy.numpy_boxes.ArrayBox object at 0x7fe290719f80>, <autograd.numpy.numpy_boxes.ArrayBox object at 0x7fe290719e40>], 'este': [<autograd.numpy.numpy_boxes.ArrayBox object at 0x7fe290719980>, <autograd.numpy.numpy_boxes.ArrayBox object at 0x7fe290719fc0>, <autograd.numpy.numpy_boxes.ArrayBox object at 0x7fe290719cc0>], 'fericit': [<autograd.numpy.numpy_boxes.ArrayBox object at 0x7fe290719c00>, <autograd.numpy.numpy_boxes.ArrayBox object at 0x7fe290719d00>, <autograd.numpy.numpy_boxes.ArrayBox object at 0x7fe290719b80>], 'punct': [<autograd.numpy.numpy_boxes.ArrayBox object at 0x7fe2907199c0>, <autograd.numpy.numpy_boxes.ArrayBox object at 0x7fe290719a40>, <autograd.numpy.numpy_boxes.ArrayBox object at 0x7fe2907191c0>], 'frumos': [<autograd.numpy.numpy_boxes.ArrayBox object at 0x7fe2907193c0>, <autograd.numpy.numpy_boxes.ArrayBox object at 0x7fe290719a00>, <autograd.numpy.numpy_boxes.ArrayBox object at 0x7fe290719180>]}\n",
      "\n",
      "\n",
      " \n",
      " params: Autograd SequenceBox with value [[0.0, 3.399448310865074, 0.0], [-2.356996207732907, 2.6209855545829206, 2.3747697182370624], [2.546618278538737, 3.0133791775616463, 3.0334270067392906], [2.3852781955377322, 0.7041764669552935, 1.9227562964404075], [-3.7137541725406145, -3.286790857223057, 2.169222250902114], [3.0859122219529005, -2.7292638958521813, 2.4669787692383682], [-0.29232381451906747, -2.4811664128941775, 2.1589304803090514], [-0.0, -3.3994497205348284, -0.0]]\n"
     ]
    },
    {
     "name": "stdout",
     "output_type": "stream",
     "text": [
      "Iter:9 | train_cost:0.3201158567767862\n",
      "\n",
      "\n",
      " ###vp Autograd SequenceBox with value [[0.0, 3.5125622367780425, 0.0], [-2.715789823009021, 2.9814215414261405, 2.4760535854661767], [2.6195784461442915, 3.1266397472204277, 3.2737408459377146], [2.5832202203402908, 0.8164920805626188, 1.9639332781815875], [-3.925366746353297, -3.6761797257836206, 2.2437160289609226], [3.2161308708864276, -2.87006714717735, 2.5924075750109177], [-0.35123898073503884, -2.794047635720113, 2.229236212432864], [-0.0, -3.512563713110517, -0.0]]\n",
      "pv: {'cainele': [<autograd.numpy.numpy_boxes.ArrayBox object at 0x7fe290cf48c0>, <autograd.numpy.numpy_boxes.ArrayBox object at 0x7fe290cf4a00>, <autograd.numpy.numpy_boxes.ArrayBox object at 0x7fe290cf4800>], 'ursul': [<autograd.numpy.numpy_boxes.ArrayBox object at 0x7fe290cf4940>, <autograd.numpy.numpy_boxes.ArrayBox object at 0x7fe290cf47c0>, <autograd.numpy.numpy_boxes.ArrayBox object at 0x7fe290cf4780>], 'bot': [<autograd.numpy.numpy_boxes.ArrayBox object at 0x7fe290cf4440>, <autograd.numpy.numpy_boxes.ArrayBox object at 0x7fe290cf4d80>, <autograd.numpy.numpy_boxes.ArrayBox object at 0x7fe290cf4e00>], 'are': [<autograd.numpy.numpy_boxes.ArrayBox object at 0x7fe290cf4e40>, <autograd.numpy.numpy_boxes.ArrayBox object at 0x7fe290cf4f00>, <autograd.numpy.numpy_boxes.ArrayBox object at 0x7fe290cf4740>], 'este': [<autograd.numpy.numpy_boxes.ArrayBox object at 0x7fe290cf4cc0>, <autograd.numpy.numpy_boxes.ArrayBox object at 0x7fe290cf4dc0>, <autograd.numpy.numpy_boxes.ArrayBox object at 0x7fe290cf4900>], 'fericit': [<autograd.numpy.numpy_boxes.ArrayBox object at 0x7fe290cf4500>, <autograd.numpy.numpy_boxes.ArrayBox object at 0x7fe290cf41c0>, <autograd.numpy.numpy_boxes.ArrayBox object at 0x7fe290cf4bc0>], 'punct': [<autograd.numpy.numpy_boxes.ArrayBox object at 0x7fe290cf4600>, <autograd.numpy.numpy_boxes.ArrayBox object at 0x7fe290cf4ac0>, <autograd.numpy.numpy_boxes.ArrayBox object at 0x7fe290cf42c0>], 'frumos': [<autograd.numpy.numpy_boxes.ArrayBox object at 0x7fe290cf4f80>, <autograd.numpy.numpy_boxes.ArrayBox object at 0x7fe290cf4a40>, <autograd.numpy.numpy_boxes.ArrayBox object at 0x7fe290cf44c0>]}\n",
      "\n",
      " !!!!pv: {'cainele': [<autograd.numpy.numpy_boxes.ArrayBox object at 0x7fe290cf48c0>, <autograd.numpy.numpy_boxes.ArrayBox object at 0x7fe290cf4a00>, <autograd.numpy.numpy_boxes.ArrayBox object at 0x7fe290cf4800>], 'ursul': [<autograd.numpy.numpy_boxes.ArrayBox object at 0x7fe290cf4940>, <autograd.numpy.numpy_boxes.ArrayBox object at 0x7fe290cf47c0>, <autograd.numpy.numpy_boxes.ArrayBox object at 0x7fe290cf4780>], 'bot': [<autograd.numpy.numpy_boxes.ArrayBox object at 0x7fe290cf4440>, <autograd.numpy.numpy_boxes.ArrayBox object at 0x7fe290cf4d80>, <autograd.numpy.numpy_boxes.ArrayBox object at 0x7fe290cf4e00>], 'are': [<autograd.numpy.numpy_boxes.ArrayBox object at 0x7fe290cf4e40>, <autograd.numpy.numpy_boxes.ArrayBox object at 0x7fe290cf4f00>, <autograd.numpy.numpy_boxes.ArrayBox object at 0x7fe290cf4740>], 'este': [<autograd.numpy.numpy_boxes.ArrayBox object at 0x7fe290cf4cc0>, <autograd.numpy.numpy_boxes.ArrayBox object at 0x7fe290cf4dc0>, <autograd.numpy.numpy_boxes.ArrayBox object at 0x7fe290cf4900>], 'fericit': [<autograd.numpy.numpy_boxes.ArrayBox object at 0x7fe290cf4500>, <autograd.numpy.numpy_boxes.ArrayBox object at 0x7fe290cf41c0>, <autograd.numpy.numpy_boxes.ArrayBox object at 0x7fe290cf4bc0>], 'punct': [<autograd.numpy.numpy_boxes.ArrayBox object at 0x7fe290cf4600>, <autograd.numpy.numpy_boxes.ArrayBox object at 0x7fe290cf4ac0>, <autograd.numpy.numpy_boxes.ArrayBox object at 0x7fe290cf42c0>], 'frumos': [<autograd.numpy.numpy_boxes.ArrayBox object at 0x7fe290cf4f80>, <autograd.numpy.numpy_boxes.ArrayBox object at 0x7fe290cf4a40>, <autograd.numpy.numpy_boxes.ArrayBox object at 0x7fe290cf44c0>]}\n",
      "\n",
      "\n",
      " \n",
      " params: Autograd SequenceBox with value [[0.0, 3.5125622367780425, 0.0], [-2.715789823009021, 2.9814215414261405, 2.4760535854661767], [2.6195784461442915, 3.1266397472204277, 3.2737408459377146], [2.5832202203402908, 0.8164920805626188, 1.9639332781815875], [-3.925366746353297, -3.6761797257836206, 2.2437160289609226], [3.2161308708864276, -2.87006714717735, 2.5924075750109177], [-0.35123898073503884, -2.794047635720113, 2.229236212432864], [-0.0, -3.512563713110517, -0.0]]\n",
      "Iter:10 | train_cost:0.31757829298145807\n",
      "\n",
      "\n",
      " ###vp [[0.0, 3.6139335780030164, 0.0], [-3.060295586634122, 3.3262517505948614, 2.5601549159621557], [2.6881891209207533, 3.229050304380045, 3.487906462395197], [2.7828684271233923, 0.9415972710617687, 1.9852314118336136], [-4.118868471103624, -4.0412087592443084, 2.3081967312432794], [3.339499656312909, -3.0067694493237527, 2.6978583435842296], [-0.41761856442515716, -3.1046597597516437, 2.2812654345430867], [-0.0, -3.6139351141077136, -0.0]]\n",
      "pv: {'cainele': [0.0, 3.6139335780030164, 0.0], 'ursul': [-3.060295586634122, 3.3262517505948614, 2.5601549159621557], 'bot': [2.6881891209207533, 3.229050304380045, 3.487906462395197], 'are': [2.7828684271233923, 0.9415972710617687, 1.9852314118336136], 'este': [-4.118868471103624, -4.0412087592443084, 2.3081967312432794], 'fericit': [3.339499656312909, -3.0067694493237527, 2.6978583435842296], 'punct': [-0.41761856442515716, -3.1046597597516437, 2.2812654345430867], 'frumos': [-0.0, -3.6139351141077136, -0.0]}\n",
      "predictions [0, 1, 1, 1, 0, 1, 1, 1, 0, 0, 1, 1, 0, 0, 1, 1, 0, 0, 0, 1, 0, 1, 1, 0, 1, 0, 0, 1, 1, 1, 0, 0, 1, 1, 1, 0, 1, 1, 1, 1, 0, 1, 1, 1, 0, 1, 0, 0, 1, 1, 0, 1, 0, 0, 1, 1, 1, 0, 0, 0, 1, 1, 0, 1, 0, 0, 1, 0, 1, 1, 1, 1, 0, 0, 1, 0, 1, 1, 0, 0, 0, 1, 1, 0, 0, 0, 1, 0, 1, 1, 1, 1, 1, 0, 0, 1, 1, 0, 0, 0, 0, 0, 1, 0, 1, 0, 0, 0, 1, 0, 1, 1, 1, 0, 1, 1, 0, 1, 1, 1, 1, 0, 0, 0, 0, 0, 1, 1, 0, 1, 1, 1, 0, 0, 1, 1]\n",
      "ac: 0.5147058823529411\n",
      "\n",
      "\n",
      " ###vp Autograd SequenceBox with value [[0.0, 3.6139335780030164, 0.0], [-3.060295586634122, 3.3262517505948614, 2.5601549159621557], [2.6881891209207533, 3.229050304380045, 3.487906462395197], [2.7828684271233923, 0.9415972710617687, 1.9852314118336136], [-4.118868471103624, -4.0412087592443084, 2.3081967312432794], [3.339499656312909, -3.0067694493237527, 2.6978583435842296], [-0.41761856442515716, -3.1046597597516437, 2.2812654345430867], [-0.0, -3.6139351141077136, -0.0]]\n",
      "pv: {'cainele': [<autograd.numpy.numpy_boxes.ArrayBox object at 0x7fe290d6f380>, <autograd.numpy.numpy_boxes.ArrayBox object at 0x7fe290d6fc80>, <autograd.numpy.numpy_boxes.ArrayBox object at 0x7fe290d6fd00>], 'ursul': [<autograd.numpy.numpy_boxes.ArrayBox object at 0x7fe290d6f040>, <autograd.numpy.numpy_boxes.ArrayBox object at 0x7fe29047f280>, <autograd.numpy.numpy_boxes.ArrayBox object at 0x7fe29047f540>], 'bot': [<autograd.numpy.numpy_boxes.ArrayBox object at 0x7fe29047f580>, <autograd.numpy.numpy_boxes.ArrayBox object at 0x7fe29047f940>, <autograd.numpy.numpy_boxes.ArrayBox object at 0x7fe29047f480>], 'are': [<autograd.numpy.numpy_boxes.ArrayBox object at 0x7fe29047f200>, <autograd.numpy.numpy_boxes.ArrayBox object at 0x7fe290470a40>, <autograd.numpy.numpy_boxes.ArrayBox object at 0x7fe290470840>], 'este': [<autograd.numpy.numpy_boxes.ArrayBox object at 0x7fe290470e80>, <autograd.numpy.numpy_boxes.ArrayBox object at 0x7fe290470300>, <autograd.numpy.numpy_boxes.ArrayBox object at 0x7fe290470940>], 'fericit': [<autograd.numpy.numpy_boxes.ArrayBox object at 0x7fe290470800>, <autograd.numpy.numpy_boxes.ArrayBox object at 0x7fe290470980>, <autograd.numpy.numpy_boxes.ArrayBox object at 0x7fe2904702c0>], 'punct': [<autograd.numpy.numpy_boxes.ArrayBox object at 0x7fe290470500>, <autograd.numpy.numpy_boxes.ArrayBox object at 0x7fe290470640>, <autograd.numpy.numpy_boxes.ArrayBox object at 0x7fe290470140>], 'frumos': [<autograd.numpy.numpy_boxes.ArrayBox object at 0x7fe2904705c0>, <autograd.numpy.numpy_boxes.ArrayBox object at 0x7fe290470440>, <autograd.numpy.numpy_boxes.ArrayBox object at 0x7fe290470b80>]}\n",
      "\n",
      " !!!!pv: {'cainele': [<autograd.numpy.numpy_boxes.ArrayBox object at 0x7fe290d6f380>, <autograd.numpy.numpy_boxes.ArrayBox object at 0x7fe290d6fc80>, <autograd.numpy.numpy_boxes.ArrayBox object at 0x7fe290d6fd00>], 'ursul': [<autograd.numpy.numpy_boxes.ArrayBox object at 0x7fe290d6f040>, <autograd.numpy.numpy_boxes.ArrayBox object at 0x7fe29047f280>, <autograd.numpy.numpy_boxes.ArrayBox object at 0x7fe29047f540>], 'bot': [<autograd.numpy.numpy_boxes.ArrayBox object at 0x7fe29047f580>, <autograd.numpy.numpy_boxes.ArrayBox object at 0x7fe29047f940>, <autograd.numpy.numpy_boxes.ArrayBox object at 0x7fe29047f480>], 'are': [<autograd.numpy.numpy_boxes.ArrayBox object at 0x7fe29047f200>, <autograd.numpy.numpy_boxes.ArrayBox object at 0x7fe290470a40>, <autograd.numpy.numpy_boxes.ArrayBox object at 0x7fe290470840>], 'este': [<autograd.numpy.numpy_boxes.ArrayBox object at 0x7fe290470e80>, <autograd.numpy.numpy_boxes.ArrayBox object at 0x7fe290470300>, <autograd.numpy.numpy_boxes.ArrayBox object at 0x7fe290470940>], 'fericit': [<autograd.numpy.numpy_boxes.ArrayBox object at 0x7fe290470800>, <autograd.numpy.numpy_boxes.ArrayBox object at 0x7fe290470980>, <autograd.numpy.numpy_boxes.ArrayBox object at 0x7fe2904702c0>], 'punct': [<autograd.numpy.numpy_boxes.ArrayBox object at 0x7fe290470500>, <autograd.numpy.numpy_boxes.ArrayBox object at 0x7fe290470640>, <autograd.numpy.numpy_boxes.ArrayBox object at 0x7fe290470140>], 'frumos': [<autograd.numpy.numpy_boxes.ArrayBox object at 0x7fe2904705c0>, <autograd.numpy.numpy_boxes.ArrayBox object at 0x7fe290470440>, <autograd.numpy.numpy_boxes.ArrayBox object at 0x7fe290470b80>]}\n",
      "\n",
      "\n",
      " \n",
      " params: Autograd SequenceBox with value [[0.0, 3.6139335780030164, 0.0], [-3.060295586634122, 3.3262517505948614, 2.5601549159621557], [2.6881891209207533, 3.229050304380045, 3.487906462395197], [2.7828684271233923, 0.9415972710617687, 1.9852314118336136], [-4.118868471103624, -4.0412087592443084, 2.3081967312432794], [3.339499656312909, -3.0067694493237527, 2.6978583435842296], [-0.41761856442515716, -3.1046597597516437, 2.2812654345430867], [-0.0, -3.6139351141077136, -0.0]]\n"
     ]
    },
    {
     "name": "stdout",
     "output_type": "stream",
     "text": [
      "Iter:11 | train_cost:0.315974086050662\n",
      "\n",
      "\n",
      " ###vp Autograd SequenceBox with value [[0.0, 3.705080135747642, 0.0], [-3.3788622290221237, 3.6445763951336123, 2.633103704859987], [2.7545009300558574, 3.3224411381038146, 3.6787987183132187], [2.976509591857906, 1.0706080108658225, 1.9937951902830435], [-4.294609814696344, -4.377214985482861, 2.3650694310895974], [3.4567531032721384, -3.1397490801585834, 2.7860421141319494], [-0.4853376203845941, -3.401023800479304, 2.3214645056017904], [-0.0, -3.70508172562255, -0.0]]\n",
      "pv: {'cainele': [<autograd.numpy.numpy_boxes.ArrayBox object at 0x7fe2c3de73c0>, <autograd.numpy.numpy_boxes.ArrayBox object at 0x7fe2c3de7940>, <autograd.numpy.numpy_boxes.ArrayBox object at 0x7fe2c3de7e40>], 'ursul': [<autograd.numpy.numpy_boxes.ArrayBox object at 0x7fe2c3de7cc0>, <autograd.numpy.numpy_boxes.ArrayBox object at 0x7fe2c3de72c0>, <autograd.numpy.numpy_boxes.ArrayBox object at 0x7fe2c3de7140>], 'bot': [<autograd.numpy.numpy_boxes.ArrayBox object at 0x7fe2c3de7480>, <autograd.numpy.numpy_boxes.ArrayBox object at 0x7fe2c3de7080>, <autograd.numpy.numpy_boxes.ArrayBox object at 0x7fe2c3de7d00>], 'are': [<autograd.numpy.numpy_boxes.ArrayBox object at 0x7fe2c3de7b80>, <autograd.numpy.numpy_boxes.ArrayBox object at 0x7fe2c3de7c00>, <autograd.numpy.numpy_boxes.ArrayBox object at 0x7fe2c3de7f00>], 'este': [<autograd.numpy.numpy_boxes.ArrayBox object at 0x7fe2c3de7980>, <autograd.numpy.numpy_boxes.ArrayBox object at 0x7fe2c3de7c40>, <autograd.numpy.numpy_boxes.ArrayBox object at 0x7fe2c3de7e00>], 'fericit': [<autograd.numpy.numpy_boxes.ArrayBox object at 0x7fe2c3de7fc0>, <autograd.numpy.numpy_boxes.ArrayBox object at 0x7fe2c3de76c0>, <autograd.numpy.numpy_boxes.ArrayBox object at 0x7fe2c3de7b40>], 'punct': [<autograd.numpy.numpy_boxes.ArrayBox object at 0x7fe2c3de7f80>, <autograd.numpy.numpy_boxes.ArrayBox object at 0x7fe2c3de7b00>, <autograd.numpy.numpy_boxes.ArrayBox object at 0x7fe2c3de7d80>], 'frumos': [<autograd.numpy.numpy_boxes.ArrayBox object at 0x7fe2c3de79c0>, <autograd.numpy.numpy_boxes.ArrayBox object at 0x7fe2c3de7ec0>, <autograd.numpy.numpy_boxes.ArrayBox object at 0x7fe2c3de7e80>]}\n",
      "\n",
      " !!!!pv: {'cainele': [<autograd.numpy.numpy_boxes.ArrayBox object at 0x7fe2c3de73c0>, <autograd.numpy.numpy_boxes.ArrayBox object at 0x7fe2c3de7940>, <autograd.numpy.numpy_boxes.ArrayBox object at 0x7fe2c3de7e40>], 'ursul': [<autograd.numpy.numpy_boxes.ArrayBox object at 0x7fe2c3de7cc0>, <autograd.numpy.numpy_boxes.ArrayBox object at 0x7fe2c3de72c0>, <autograd.numpy.numpy_boxes.ArrayBox object at 0x7fe2c3de7140>], 'bot': [<autograd.numpy.numpy_boxes.ArrayBox object at 0x7fe2c3de7480>, <autograd.numpy.numpy_boxes.ArrayBox object at 0x7fe2c3de7080>, <autograd.numpy.numpy_boxes.ArrayBox object at 0x7fe2c3de7d00>], 'are': [<autograd.numpy.numpy_boxes.ArrayBox object at 0x7fe2c3de7b80>, <autograd.numpy.numpy_boxes.ArrayBox object at 0x7fe2c3de7c00>, <autograd.numpy.numpy_boxes.ArrayBox object at 0x7fe2c3de7f00>], 'este': [<autograd.numpy.numpy_boxes.ArrayBox object at 0x7fe2c3de7980>, <autograd.numpy.numpy_boxes.ArrayBox object at 0x7fe2c3de7c40>, <autograd.numpy.numpy_boxes.ArrayBox object at 0x7fe2c3de7e00>], 'fericit': [<autograd.numpy.numpy_boxes.ArrayBox object at 0x7fe2c3de7fc0>, <autograd.numpy.numpy_boxes.ArrayBox object at 0x7fe2c3de76c0>, <autograd.numpy.numpy_boxes.ArrayBox object at 0x7fe2c3de7b40>], 'punct': [<autograd.numpy.numpy_boxes.ArrayBox object at 0x7fe2c3de7f80>, <autograd.numpy.numpy_boxes.ArrayBox object at 0x7fe2c3de7b00>, <autograd.numpy.numpy_boxes.ArrayBox object at 0x7fe2c3de7d80>], 'frumos': [<autograd.numpy.numpy_boxes.ArrayBox object at 0x7fe2c3de79c0>, <autograd.numpy.numpy_boxes.ArrayBox object at 0x7fe2c3de7ec0>, <autograd.numpy.numpy_boxes.ArrayBox object at 0x7fe2c3de7e80>]}\n",
      "\n",
      "\n",
      " \n",
      " params: Autograd SequenceBox with value [[0.0, 3.705080135747642, 0.0], [-3.3788622290221237, 3.6445763951336123, 2.633103704859987], [2.7545009300558574, 3.3224411381038146, 3.6787987183132187], [2.976509591857906, 1.0706080108658225, 1.9937951902830435], [-4.294609814696344, -4.377214985482861, 2.3650694310895974], [3.4567531032721384, -3.1397490801585834, 2.7860421141319494], [-0.4853376203845941, -3.401023800479304, 2.3214645056017904], [-0.0, -3.70508172562255, -0.0]]\n",
      "Iter:12 | train_cost:0.3152063566216286\n",
      "\n",
      "\n",
      " ###vp Autograd SequenceBox with value [[0.0, 3.787248955736553, 0.0], [-3.6651754517411153, 3.930731661087288, 2.6991441416451027], [2.8198957003479883, 3.408231738773645, 3.848904745892249], [3.1583242637526956, 1.1958926702522978, 1.995707323128181], [-4.4533428190929705, -4.681532507181911, 2.416140184130704], [3.568400679713843, -3.269165414852247, 2.859256307797395], [-0.5497078275254753, -3.6749668192239837, 2.3549449974901266], [-0.0, -3.787250594109678, -0.0]]\n",
      "pv: {'cainele': [<autograd.numpy.numpy_boxes.ArrayBox object at 0x7fe29108af00>, <autograd.numpy.numpy_boxes.ArrayBox object at 0x7fe29108a7c0>, <autograd.numpy.numpy_boxes.ArrayBox object at 0x7fe29108a780>], 'ursul': [<autograd.numpy.numpy_boxes.ArrayBox object at 0x7fe29108ac40>, <autograd.numpy.numpy_boxes.ArrayBox object at 0x7fe29108abc0>, <autograd.numpy.numpy_boxes.ArrayBox object at 0x7fe29108ad40>], 'bot': [<autograd.numpy.numpy_boxes.ArrayBox object at 0x7fe29108a880>, <autograd.numpy.numpy_boxes.ArrayBox object at 0x7fe29108a6c0>, <autograd.numpy.numpy_boxes.ArrayBox object at 0x7fe29108aec0>], 'are': [<autograd.numpy.numpy_boxes.ArrayBox object at 0x7fe29108a740>, <autograd.numpy.numpy_boxes.ArrayBox object at 0x7fe29108a640>, <autograd.numpy.numpy_boxes.ArrayBox object at 0x7fe29108ad80>], 'este': [<autograd.numpy.numpy_boxes.ArrayBox object at 0x7fe29108adc0>, <autograd.numpy.numpy_boxes.ArrayBox object at 0x7fe29108ad00>, <autograd.numpy.numpy_boxes.ArrayBox object at 0x7fe29108a180>], 'fericit': [<autograd.numpy.numpy_boxes.ArrayBox object at 0x7fe29108a700>, <autograd.numpy.numpy_boxes.ArrayBox object at 0x7fe29108ab40>, <autograd.numpy.numpy_boxes.ArrayBox object at 0x7fe29108aa80>], 'punct': [<autograd.numpy.numpy_boxes.ArrayBox object at 0x7fe29108a8c0>, <autograd.numpy.numpy_boxes.ArrayBox object at 0x7fe29108a600>, <autograd.numpy.numpy_boxes.ArrayBox object at 0x7fe29108aa00>], 'frumos': [<autograd.numpy.numpy_boxes.ArrayBox object at 0x7fe29108ab80>, <autograd.numpy.numpy_boxes.ArrayBox object at 0x7fe29108a840>, <autograd.numpy.numpy_boxes.ArrayBox object at 0x7fe29108afc0>]}\n",
      "\n",
      " !!!!pv: {'cainele': [<autograd.numpy.numpy_boxes.ArrayBox object at 0x7fe29108af00>, <autograd.numpy.numpy_boxes.ArrayBox object at 0x7fe29108a7c0>, <autograd.numpy.numpy_boxes.ArrayBox object at 0x7fe29108a780>], 'ursul': [<autograd.numpy.numpy_boxes.ArrayBox object at 0x7fe29108ac40>, <autograd.numpy.numpy_boxes.ArrayBox object at 0x7fe29108abc0>, <autograd.numpy.numpy_boxes.ArrayBox object at 0x7fe29108ad40>], 'bot': [<autograd.numpy.numpy_boxes.ArrayBox object at 0x7fe29108a880>, <autograd.numpy.numpy_boxes.ArrayBox object at 0x7fe29108a6c0>, <autograd.numpy.numpy_boxes.ArrayBox object at 0x7fe29108aec0>], 'are': [<autograd.numpy.numpy_boxes.ArrayBox object at 0x7fe29108a740>, <autograd.numpy.numpy_boxes.ArrayBox object at 0x7fe29108a640>, <autograd.numpy.numpy_boxes.ArrayBox object at 0x7fe29108ad80>], 'este': [<autograd.numpy.numpy_boxes.ArrayBox object at 0x7fe29108adc0>, <autograd.numpy.numpy_boxes.ArrayBox object at 0x7fe29108ad00>, <autograd.numpy.numpy_boxes.ArrayBox object at 0x7fe29108a180>], 'fericit': [<autograd.numpy.numpy_boxes.ArrayBox object at 0x7fe29108a700>, <autograd.numpy.numpy_boxes.ArrayBox object at 0x7fe29108ab40>, <autograd.numpy.numpy_boxes.ArrayBox object at 0x7fe29108aa80>], 'punct': [<autograd.numpy.numpy_boxes.ArrayBox object at 0x7fe29108a8c0>, <autograd.numpy.numpy_boxes.ArrayBox object at 0x7fe29108a600>, <autograd.numpy.numpy_boxes.ArrayBox object at 0x7fe29108aa00>], 'frumos': [<autograd.numpy.numpy_boxes.ArrayBox object at 0x7fe29108ab80>, <autograd.numpy.numpy_boxes.ArrayBox object at 0x7fe29108a840>, <autograd.numpy.numpy_boxes.ArrayBox object at 0x7fe29108afc0>]}\n",
      "\n",
      "\n",
      " \n",
      " params: Autograd SequenceBox with value [[0.0, 3.787248955736553, 0.0], [-3.6651754517411153, 3.930731661087288, 2.6991441416451027], [2.8198957003479883, 3.408231738773645, 3.848904745892249], [3.1583242637526956, 1.1958926702522978, 1.995707323128181], [-4.4533428190929705, -4.681532507181911, 2.416140184130704], [3.568400679713843, -3.269165414852247, 2.859256307797395], [-0.5497078275254753, -3.6749668192239837, 2.3549449974901266], [-0.0, -3.787250594109678, -0.0]]\n"
     ]
    },
    {
     "name": "stdout",
     "output_type": "stream",
     "text": [
      "Iter:13 | train_cost:0.31504666771793194\n",
      "\n",
      "\n",
      " ###vp Autograd SequenceBox with value [[0.0, 3.8614817625391162, 0.0], [-3.916587124587049, 4.182542400150927, 2.761194570796634], [2.885294854691811, 3.4875404320127017, 4.00039040924903], [3.324351702859784, 1.3113872582080583, 1.9959193015768368], [-4.596036615163382, -4.9530268600336305, 2.462770223700798], [3.6748010937626736, -3.3950395351887956, 2.919472508466766], [-0.6073882703771368, -3.921522393557766, 2.3855909517705283], [-0.0, -3.8614834447483366, -0.0]]\n",
      "pv: {'cainele': [<autograd.numpy.numpy_boxes.ArrayBox object at 0x7fe290ef04c0>, <autograd.numpy.numpy_boxes.ArrayBox object at 0x7fe290ef0b40>, <autograd.numpy.numpy_boxes.ArrayBox object at 0x7fe290ef0c00>], 'ursul': [<autograd.numpy.numpy_boxes.ArrayBox object at 0x7fe290ef0900>, <autograd.numpy.numpy_boxes.ArrayBox object at 0x7fe290ef0d00>, <autograd.numpy.numpy_boxes.ArrayBox object at 0x7fe290ef0cc0>], 'bot': [<autograd.numpy.numpy_boxes.ArrayBox object at 0x7fe290ef0bc0>, <autograd.numpy.numpy_boxes.ArrayBox object at 0x7fe290ef0880>, <autograd.numpy.numpy_boxes.ArrayBox object at 0x7fe290ef0780>], 'are': [<autograd.numpy.numpy_boxes.ArrayBox object at 0x7fe290ef0980>, <autograd.numpy.numpy_boxes.ArrayBox object at 0x7fe290ef0a00>, <autograd.numpy.numpy_boxes.ArrayBox object at 0x7fe290ef0700>], 'este': [<autograd.numpy.numpy_boxes.ArrayBox object at 0x7fe290ef0a40>, <autograd.numpy.numpy_boxes.ArrayBox object at 0x7fe290ef09c0>, <autograd.numpy.numpy_boxes.ArrayBox object at 0x7fe290ef0800>], 'fericit': [<autograd.numpy.numpy_boxes.ArrayBox object at 0x7fe290ef0300>, <autograd.numpy.numpy_boxes.ArrayBox object at 0x7fe290ef0480>, <autograd.numpy.numpy_boxes.ArrayBox object at 0x7fe290ef0500>], 'punct': [<autograd.numpy.numpy_boxes.ArrayBox object at 0x7fe290ef00c0>, <autograd.numpy.numpy_boxes.ArrayBox object at 0x7fe290ef03c0>, <autograd.numpy.numpy_boxes.ArrayBox object at 0x7fe290ef0400>], 'frumos': [<autograd.numpy.numpy_boxes.ArrayBox object at 0x7fe290ef06c0>, <autograd.numpy.numpy_boxes.ArrayBox object at 0x7fe290ef0240>, <autograd.numpy.numpy_boxes.ArrayBox object at 0x7fe290ef0380>]}\n",
      "\n",
      " !!!!pv: {'cainele': [<autograd.numpy.numpy_boxes.ArrayBox object at 0x7fe290ef04c0>, <autograd.numpy.numpy_boxes.ArrayBox object at 0x7fe290ef0b40>, <autograd.numpy.numpy_boxes.ArrayBox object at 0x7fe290ef0c00>], 'ursul': [<autograd.numpy.numpy_boxes.ArrayBox object at 0x7fe290ef0900>, <autograd.numpy.numpy_boxes.ArrayBox object at 0x7fe290ef0d00>, <autograd.numpy.numpy_boxes.ArrayBox object at 0x7fe290ef0cc0>], 'bot': [<autograd.numpy.numpy_boxes.ArrayBox object at 0x7fe290ef0bc0>, <autograd.numpy.numpy_boxes.ArrayBox object at 0x7fe290ef0880>, <autograd.numpy.numpy_boxes.ArrayBox object at 0x7fe290ef0780>], 'are': [<autograd.numpy.numpy_boxes.ArrayBox object at 0x7fe290ef0980>, <autograd.numpy.numpy_boxes.ArrayBox object at 0x7fe290ef0a00>, <autograd.numpy.numpy_boxes.ArrayBox object at 0x7fe290ef0700>], 'este': [<autograd.numpy.numpy_boxes.ArrayBox object at 0x7fe290ef0a40>, <autograd.numpy.numpy_boxes.ArrayBox object at 0x7fe290ef09c0>, <autograd.numpy.numpy_boxes.ArrayBox object at 0x7fe290ef0800>], 'fericit': [<autograd.numpy.numpy_boxes.ArrayBox object at 0x7fe290ef0300>, <autograd.numpy.numpy_boxes.ArrayBox object at 0x7fe290ef0480>, <autograd.numpy.numpy_boxes.ArrayBox object at 0x7fe290ef0500>], 'punct': [<autograd.numpy.numpy_boxes.ArrayBox object at 0x7fe290ef00c0>, <autograd.numpy.numpy_boxes.ArrayBox object at 0x7fe290ef03c0>, <autograd.numpy.numpy_boxes.ArrayBox object at 0x7fe290ef0400>], 'frumos': [<autograd.numpy.numpy_boxes.ArrayBox object at 0x7fe290ef06c0>, <autograd.numpy.numpy_boxes.ArrayBox object at 0x7fe290ef0240>, <autograd.numpy.numpy_boxes.ArrayBox object at 0x7fe290ef0380>]}\n",
      "\n",
      "\n",
      " \n",
      " params: Autograd SequenceBox with value [[0.0, 3.8614817625391162, 0.0], [-3.916587124587049, 4.182542400150927, 2.761194570796634], [2.885294854691811, 3.4875404320127017, 4.00039040924903], [3.324351702859784, 1.3113872582080583, 1.9959193015768368], [-4.596036615163382, -4.9530268600336305, 2.462770223700798], [3.6748010937626736, -3.3950395351887956, 2.919472508466766], [-0.6073882703771368, -3.921522393557766, 2.3855909517705283], [-0.0, -3.8614834447483366, -0.0]]\n",
      "Iter:14 | train_cost:0.31524929917892264\n",
      "\n",
      "\n",
      " ###vp Autograd SequenceBox with value [[0.0, 3.9286608237983653, 0.0], [-4.132795640455725, 4.400004117610622, 2.821210783002072], [2.951296367450249, 3.5612595964857983, 4.1351542089727245], [3.4722560239401923, 1.4127221813362856, 1.9982371266724195], [-4.723760164474422, -5.191690039535812, 2.505987136078934], [3.776211498964892, -3.517306970883311, 2.9684007091079425], [-0.6562238463221735, -4.138224356591521, 2.416214493068955], [-0.0, -3.9286625456981397, -0.0]]\n",
      "pv: {'cainele': [<autograd.numpy.numpy_boxes.ArrayBox object at 0x7fe290ad84c0>, <autograd.numpy.numpy_boxes.ArrayBox object at 0x7fe290ad8b40>, <autograd.numpy.numpy_boxes.ArrayBox object at 0x7fe290ad8c00>], 'ursul': [<autograd.numpy.numpy_boxes.ArrayBox object at 0x7fe290ad8900>, <autograd.numpy.numpy_boxes.ArrayBox object at 0x7fe290ad8d00>, <autograd.numpy.numpy_boxes.ArrayBox object at 0x7fe290ad8cc0>], 'bot': [<autograd.numpy.numpy_boxes.ArrayBox object at 0x7fe290ad8bc0>, <autograd.numpy.numpy_boxes.ArrayBox object at 0x7fe290ad8880>, <autograd.numpy.numpy_boxes.ArrayBox object at 0x7fe290ad8780>], 'are': [<autograd.numpy.numpy_boxes.ArrayBox object at 0x7fe290ad8980>, <autograd.numpy.numpy_boxes.ArrayBox object at 0x7fe290ad8a00>, <autograd.numpy.numpy_boxes.ArrayBox object at 0x7fe290ad8700>], 'este': [<autograd.numpy.numpy_boxes.ArrayBox object at 0x7fe290ad8a40>, <autograd.numpy.numpy_boxes.ArrayBox object at 0x7fe290ad89c0>, <autograd.numpy.numpy_boxes.ArrayBox object at 0x7fe290ad8800>], 'fericit': [<autograd.numpy.numpy_boxes.ArrayBox object at 0x7fe290ad8300>, <autograd.numpy.numpy_boxes.ArrayBox object at 0x7fe290ad8480>, <autograd.numpy.numpy_boxes.ArrayBox object at 0x7fe290ad8500>], 'punct': [<autograd.numpy.numpy_boxes.ArrayBox object at 0x7fe290ad80c0>, <autograd.numpy.numpy_boxes.ArrayBox object at 0x7fe290ad83c0>, <autograd.numpy.numpy_boxes.ArrayBox object at 0x7fe290ad8400>], 'frumos': [<autograd.numpy.numpy_boxes.ArrayBox object at 0x7fe290ad86c0>, <autograd.numpy.numpy_boxes.ArrayBox object at 0x7fe290ad8240>, <autograd.numpy.numpy_boxes.ArrayBox object at 0x7fe290ad8380>]}\n",
      "\n",
      " !!!!pv: {'cainele': [<autograd.numpy.numpy_boxes.ArrayBox object at 0x7fe290ad84c0>, <autograd.numpy.numpy_boxes.ArrayBox object at 0x7fe290ad8b40>, <autograd.numpy.numpy_boxes.ArrayBox object at 0x7fe290ad8c00>], 'ursul': [<autograd.numpy.numpy_boxes.ArrayBox object at 0x7fe290ad8900>, <autograd.numpy.numpy_boxes.ArrayBox object at 0x7fe290ad8d00>, <autograd.numpy.numpy_boxes.ArrayBox object at 0x7fe290ad8cc0>], 'bot': [<autograd.numpy.numpy_boxes.ArrayBox object at 0x7fe290ad8bc0>, <autograd.numpy.numpy_boxes.ArrayBox object at 0x7fe290ad8880>, <autograd.numpy.numpy_boxes.ArrayBox object at 0x7fe290ad8780>], 'are': [<autograd.numpy.numpy_boxes.ArrayBox object at 0x7fe290ad8980>, <autograd.numpy.numpy_boxes.ArrayBox object at 0x7fe290ad8a00>, <autograd.numpy.numpy_boxes.ArrayBox object at 0x7fe290ad8700>], 'este': [<autograd.numpy.numpy_boxes.ArrayBox object at 0x7fe290ad8a40>, <autograd.numpy.numpy_boxes.ArrayBox object at 0x7fe290ad89c0>, <autograd.numpy.numpy_boxes.ArrayBox object at 0x7fe290ad8800>], 'fericit': [<autograd.numpy.numpy_boxes.ArrayBox object at 0x7fe290ad8300>, <autograd.numpy.numpy_boxes.ArrayBox object at 0x7fe290ad8480>, <autograd.numpy.numpy_boxes.ArrayBox object at 0x7fe290ad8500>], 'punct': [<autograd.numpy.numpy_boxes.ArrayBox object at 0x7fe290ad80c0>, <autograd.numpy.numpy_boxes.ArrayBox object at 0x7fe290ad83c0>, <autograd.numpy.numpy_boxes.ArrayBox object at 0x7fe290ad8400>], 'frumos': [<autograd.numpy.numpy_boxes.ArrayBox object at 0x7fe290ad86c0>, <autograd.numpy.numpy_boxes.ArrayBox object at 0x7fe290ad8240>, <autograd.numpy.numpy_boxes.ArrayBox object at 0x7fe290ad8380>]}\n",
      "\n",
      "\n",
      " \n",
      " params: Autograd SequenceBox with value [[0.0, 3.9286608237983653, 0.0], [-4.132795640455725, 4.400004117610622, 2.821210783002072], [2.951296367450249, 3.5612595964857983, 4.1351542089727245], [3.4722560239401923, 1.4127221813362856, 1.9982371266724195], [-4.723760164474422, -5.191690039535812, 2.505987136078934], [3.776211498964892, -3.517306970883311, 2.9684007091079425], [-0.6562238463221735, -4.138224356591521, 2.416214493068955], [-0.0, -3.9286625456981397, -0.0]]\n"
     ]
    },
    {
     "name": "stdout",
     "output_type": "stream",
     "text": [
      "Iter:15 | train_cost:0.31560604292743877\n",
      "\n",
      "\n",
      " ###vp Autograd SequenceBox with value [[0.0, 3.9895420114777655, 0.0], [-4.314922120832281, 4.584392354706251, 2.880455065648697], [3.0182668654887093, 3.6301087062761175, 4.254870740562735], [3.601001823311813, 1.4971498780189287, 2.005372388682783], [-4.837610589931002, -5.398313584701719, 2.5465655792383672], [3.8728209133540465, -3.6358531670377787, 3.0075371182806574], [-0.6950349443036625, -4.324426877980994, 2.4487303969562073], [-0.0, -3.9895437693652, -0.0]]\n",
      "pv: {'cainele': [<autograd.numpy.numpy_boxes.ArrayBox object at 0x7fe290ed78c0>, <autograd.numpy.numpy_boxes.ArrayBox object at 0x7fe290ed7a00>, <autograd.numpy.numpy_boxes.ArrayBox object at 0x7fe290ed7800>], 'ursul': [<autograd.numpy.numpy_boxes.ArrayBox object at 0x7fe290ed7940>, <autograd.numpy.numpy_boxes.ArrayBox object at 0x7fe290ed77c0>, <autograd.numpy.numpy_boxes.ArrayBox object at 0x7fe290ed7780>], 'bot': [<autograd.numpy.numpy_boxes.ArrayBox object at 0x7fe290ed7440>, <autograd.numpy.numpy_boxes.ArrayBox object at 0x7fe290ed7d80>, <autograd.numpy.numpy_boxes.ArrayBox object at 0x7fe290ed7e00>], 'are': [<autograd.numpy.numpy_boxes.ArrayBox object at 0x7fe290ed7e40>, <autograd.numpy.numpy_boxes.ArrayBox object at 0x7fe290ed7f00>, <autograd.numpy.numpy_boxes.ArrayBox object at 0x7fe290ed7740>], 'este': [<autograd.numpy.numpy_boxes.ArrayBox object at 0x7fe290ed7cc0>, <autograd.numpy.numpy_boxes.ArrayBox object at 0x7fe290ed7dc0>, <autograd.numpy.numpy_boxes.ArrayBox object at 0x7fe290ed7900>], 'fericit': [<autograd.numpy.numpy_boxes.ArrayBox object at 0x7fe290ed7500>, <autograd.numpy.numpy_boxes.ArrayBox object at 0x7fe290ed71c0>, <autograd.numpy.numpy_boxes.ArrayBox object at 0x7fe290ed7bc0>], 'punct': [<autograd.numpy.numpy_boxes.ArrayBox object at 0x7fe290ed7600>, <autograd.numpy.numpy_boxes.ArrayBox object at 0x7fe290ed7ac0>, <autograd.numpy.numpy_boxes.ArrayBox object at 0x7fe290ed72c0>], 'frumos': [<autograd.numpy.numpy_boxes.ArrayBox object at 0x7fe290ed7f80>, <autograd.numpy.numpy_boxes.ArrayBox object at 0x7fe290ed7a40>, <autograd.numpy.numpy_boxes.ArrayBox object at 0x7fe290ed74c0>]}\n",
      "\n",
      " !!!!pv: {'cainele': [<autograd.numpy.numpy_boxes.ArrayBox object at 0x7fe290ed78c0>, <autograd.numpy.numpy_boxes.ArrayBox object at 0x7fe290ed7a00>, <autograd.numpy.numpy_boxes.ArrayBox object at 0x7fe290ed7800>], 'ursul': [<autograd.numpy.numpy_boxes.ArrayBox object at 0x7fe290ed7940>, <autograd.numpy.numpy_boxes.ArrayBox object at 0x7fe290ed77c0>, <autograd.numpy.numpy_boxes.ArrayBox object at 0x7fe290ed7780>], 'bot': [<autograd.numpy.numpy_boxes.ArrayBox object at 0x7fe290ed7440>, <autograd.numpy.numpy_boxes.ArrayBox object at 0x7fe290ed7d80>, <autograd.numpy.numpy_boxes.ArrayBox object at 0x7fe290ed7e00>], 'are': [<autograd.numpy.numpy_boxes.ArrayBox object at 0x7fe290ed7e40>, <autograd.numpy.numpy_boxes.ArrayBox object at 0x7fe290ed7f00>, <autograd.numpy.numpy_boxes.ArrayBox object at 0x7fe290ed7740>], 'este': [<autograd.numpy.numpy_boxes.ArrayBox object at 0x7fe290ed7cc0>, <autograd.numpy.numpy_boxes.ArrayBox object at 0x7fe290ed7dc0>, <autograd.numpy.numpy_boxes.ArrayBox object at 0x7fe290ed7900>], 'fericit': [<autograd.numpy.numpy_boxes.ArrayBox object at 0x7fe290ed7500>, <autograd.numpy.numpy_boxes.ArrayBox object at 0x7fe290ed71c0>, <autograd.numpy.numpy_boxes.ArrayBox object at 0x7fe290ed7bc0>], 'punct': [<autograd.numpy.numpy_boxes.ArrayBox object at 0x7fe290ed7600>, <autograd.numpy.numpy_boxes.ArrayBox object at 0x7fe290ed7ac0>, <autograd.numpy.numpy_boxes.ArrayBox object at 0x7fe290ed72c0>], 'frumos': [<autograd.numpy.numpy_boxes.ArrayBox object at 0x7fe290ed7f80>, <autograd.numpy.numpy_boxes.ArrayBox object at 0x7fe290ed7a40>, <autograd.numpy.numpy_boxes.ArrayBox object at 0x7fe290ed74c0>]}\n",
      "\n",
      "\n",
      " \n",
      " params: Autograd SequenceBox with value [[0.0, 3.9895420114777655, 0.0], [-4.314922120832281, 4.584392354706251, 2.880455065648697], [3.0182668654887093, 3.6301087062761175, 4.254870740562735], [3.601001823311813, 1.4971498780189287, 2.005372388682783], [-4.837610589931002, -5.398313584701719, 2.5465655792383672], [3.8728209133540465, -3.6358531670377787, 3.0075371182806574], [-0.6950349443036625, -4.324426877980994, 2.4487303969562073], [-0.0, -3.9895437693652, -0.0]]\n",
      "Iter:16 | train_cost:0.31596502526367015\n",
      "\n",
      "\n",
      " ###vp Autograd SequenceBox with value [[0.0, 4.044779218409443, 0.0], [-4.464910218938854, 4.737700092301159, 2.939689303697433], [3.0864048445175283, 3.694672655026947, 4.361025764298582], [3.710527871404814, 1.5633379097403144, 2.019044890733292], [-4.938671144130617, -5.574238296088502, 2.585086354100949], [3.964773356352465, -3.7505378438900365, 3.038200282413114], [-0.7234034308321351, -4.480739878517491, 2.484324949145296], [-0.0, -4.0447810089646445, -0.0]]\n",
      "pv: {'cainele': [<autograd.numpy.numpy_boxes.ArrayBox object at 0x7fe290a6b4c0>, <autograd.numpy.numpy_boxes.ArrayBox object at 0x7fe290a6bb40>, <autograd.numpy.numpy_boxes.ArrayBox object at 0x7fe290a6bc00>], 'ursul': [<autograd.numpy.numpy_boxes.ArrayBox object at 0x7fe290a6b900>, <autograd.numpy.numpy_boxes.ArrayBox object at 0x7fe290a6bd40>, <autograd.numpy.numpy_boxes.ArrayBox object at 0x7fe290a6bcc0>], 'bot': [<autograd.numpy.numpy_boxes.ArrayBox object at 0x7fe290a6bbc0>, <autograd.numpy.numpy_boxes.ArrayBox object at 0x7fe290a6b880>, <autograd.numpy.numpy_boxes.ArrayBox object at 0x7fe290a6b780>], 'are': [<autograd.numpy.numpy_boxes.ArrayBox object at 0x7fe290a6b980>, <autograd.numpy.numpy_boxes.ArrayBox object at 0x7fe290a6ba00>, <autograd.numpy.numpy_boxes.ArrayBox object at 0x7fe290a6b700>], 'este': [<autograd.numpy.numpy_boxes.ArrayBox object at 0x7fe290a6ba40>, <autograd.numpy.numpy_boxes.ArrayBox object at 0x7fe290a6b9c0>, <autograd.numpy.numpy_boxes.ArrayBox object at 0x7fe290a6b800>], 'fericit': [<autograd.numpy.numpy_boxes.ArrayBox object at 0x7fe290a6b300>, <autograd.numpy.numpy_boxes.ArrayBox object at 0x7fe290a6b480>, <autograd.numpy.numpy_boxes.ArrayBox object at 0x7fe290a6b500>], 'punct': [<autograd.numpy.numpy_boxes.ArrayBox object at 0x7fe290a6b0c0>, <autograd.numpy.numpy_boxes.ArrayBox object at 0x7fe290a6b3c0>, <autograd.numpy.numpy_boxes.ArrayBox object at 0x7fe290a6b400>], 'frumos': [<autograd.numpy.numpy_boxes.ArrayBox object at 0x7fe290a6b6c0>, <autograd.numpy.numpy_boxes.ArrayBox object at 0x7fe290a6b240>, <autograd.numpy.numpy_boxes.ArrayBox object at 0x7fe290a6b380>]}\n",
      "\n",
      " !!!!pv: {'cainele': [<autograd.numpy.numpy_boxes.ArrayBox object at 0x7fe290a6b4c0>, <autograd.numpy.numpy_boxes.ArrayBox object at 0x7fe290a6bb40>, <autograd.numpy.numpy_boxes.ArrayBox object at 0x7fe290a6bc00>], 'ursul': [<autograd.numpy.numpy_boxes.ArrayBox object at 0x7fe290a6b900>, <autograd.numpy.numpy_boxes.ArrayBox object at 0x7fe290a6bd40>, <autograd.numpy.numpy_boxes.ArrayBox object at 0x7fe290a6bcc0>], 'bot': [<autograd.numpy.numpy_boxes.ArrayBox object at 0x7fe290a6bbc0>, <autograd.numpy.numpy_boxes.ArrayBox object at 0x7fe290a6b880>, <autograd.numpy.numpy_boxes.ArrayBox object at 0x7fe290a6b780>], 'are': [<autograd.numpy.numpy_boxes.ArrayBox object at 0x7fe290a6b980>, <autograd.numpy.numpy_boxes.ArrayBox object at 0x7fe290a6ba00>, <autograd.numpy.numpy_boxes.ArrayBox object at 0x7fe290a6b700>], 'este': [<autograd.numpy.numpy_boxes.ArrayBox object at 0x7fe290a6ba40>, <autograd.numpy.numpy_boxes.ArrayBox object at 0x7fe290a6b9c0>, <autograd.numpy.numpy_boxes.ArrayBox object at 0x7fe290a6b800>], 'fericit': [<autograd.numpy.numpy_boxes.ArrayBox object at 0x7fe290a6b300>, <autograd.numpy.numpy_boxes.ArrayBox object at 0x7fe290a6b480>, <autograd.numpy.numpy_boxes.ArrayBox object at 0x7fe290a6b500>], 'punct': [<autograd.numpy.numpy_boxes.ArrayBox object at 0x7fe290a6b0c0>, <autograd.numpy.numpy_boxes.ArrayBox object at 0x7fe290a6b3c0>, <autograd.numpy.numpy_boxes.ArrayBox object at 0x7fe290a6b400>], 'frumos': [<autograd.numpy.numpy_boxes.ArrayBox object at 0x7fe290a6b6c0>, <autograd.numpy.numpy_boxes.ArrayBox object at 0x7fe290a6b240>, <autograd.numpy.numpy_boxes.ArrayBox object at 0x7fe290a6b380>]}\n",
      "\n",
      "\n",
      " \n",
      " params: Autograd SequenceBox with value [[0.0, 4.044779218409443, 0.0], [-4.464910218938854, 4.737700092301159, 2.939689303697433], [3.0864048445175283, 3.694672655026947, 4.361025764298582], [3.710527871404814, 1.5633379097403144, 2.019044890733292], [-4.938671144130617, -5.574238296088502, 2.585086354100949], [3.964773356352465, -3.7505378438900365, 3.038200282413114], [-0.7234034308321351, -4.480739878517491, 2.484324949145296], [-0.0, -4.0447810089646445, -0.0]]\n"
     ]
    },
    {
     "name": "stdout",
     "output_type": "stream",
     "text": [
      "Iter:17 | train_cost:0.3162304524367201\n",
      "\n",
      "\n",
      " ###vp Autograd SequenceBox with value [[0.0, 4.0949427768837445, 0.0], [-4.585154225237806, 4.862297482585072, 2.999311977507649], [3.1557848863816123, 3.755430056556213, 4.454944627276867], [3.8014694770432325, 1.611107217440223, 2.0401149965102565], [-5.027987952819545, -5.721169786269619, 2.621980028754391], [4.052184078544792, -3.8612119612766858, 3.0615587746374167], [-0.7414834084940244, -4.608604816460718, 2.5236057573692126], [-0.0, -4.094944597120958, -0.0]]\n",
      "pv: {'cainele': [<autograd.numpy.numpy_boxes.ArrayBox object at 0x7fe290e9e700>, <autograd.numpy.numpy_boxes.ArrayBox object at 0x7fe290e9ea80>, <autograd.numpy.numpy_boxes.ArrayBox object at 0x7fe290e9ec40>], 'ursul': [<autograd.numpy.numpy_boxes.ArrayBox object at 0x7fe290e9ec00>, <autograd.numpy.numpy_boxes.ArrayBox object at 0x7fe290e9ed40>, <autograd.numpy.numpy_boxes.ArrayBox object at 0x7fe290e9e300>], 'bot': [<autograd.numpy.numpy_boxes.ArrayBox object at 0x7fe290e9eb40>, <autograd.numpy.numpy_boxes.ArrayBox object at 0x7fe290e9e400>, <autograd.numpy.numpy_boxes.ArrayBox object at 0x7fe290e9ecc0>], 'are': [<autograd.numpy.numpy_boxes.ArrayBox object at 0x7fe290e9edc0>, <autograd.numpy.numpy_boxes.ArrayBox object at 0x7fe290e9eec0>, <autograd.numpy.numpy_boxes.ArrayBox object at 0x7fe290e9ea40>], 'este': [<autograd.numpy.numpy_boxes.ArrayBox object at 0x7fe290e9e900>, <autograd.numpy.numpy_boxes.ArrayBox object at 0x7fe290e9ee40>, <autograd.numpy.numpy_boxes.ArrayBox object at 0x7fe290e9eb80>], 'fericit': [<autograd.numpy.numpy_boxes.ArrayBox object at 0x7fe290e9e1c0>, <autograd.numpy.numpy_boxes.ArrayBox object at 0x7fe290e9eac0>, <autograd.numpy.numpy_boxes.ArrayBox object at 0x7fe290e9e880>], 'punct': [<autograd.numpy.numpy_boxes.ArrayBox object at 0x7fe290e9e5c0>, <autograd.numpy.numpy_boxes.ArrayBox object at 0x7fe290e9e9c0>, <autograd.numpy.numpy_boxes.ArrayBox object at 0x7fe290e9e8c0>], 'frumos': [<autograd.numpy.numpy_boxes.ArrayBox object at 0x7fe290e9e380>, <autograd.numpy.numpy_boxes.ArrayBox object at 0x7fe290e9e840>, <autograd.numpy.numpy_boxes.ArrayBox object at 0x7fe290e9e600>]}\n",
      "\n",
      " !!!!pv: {'cainele': [<autograd.numpy.numpy_boxes.ArrayBox object at 0x7fe290e9e700>, <autograd.numpy.numpy_boxes.ArrayBox object at 0x7fe290e9ea80>, <autograd.numpy.numpy_boxes.ArrayBox object at 0x7fe290e9ec40>], 'ursul': [<autograd.numpy.numpy_boxes.ArrayBox object at 0x7fe290e9ec00>, <autograd.numpy.numpy_boxes.ArrayBox object at 0x7fe290e9ed40>, <autograd.numpy.numpy_boxes.ArrayBox object at 0x7fe290e9e300>], 'bot': [<autograd.numpy.numpy_boxes.ArrayBox object at 0x7fe290e9eb40>, <autograd.numpy.numpy_boxes.ArrayBox object at 0x7fe290e9e400>, <autograd.numpy.numpy_boxes.ArrayBox object at 0x7fe290e9ecc0>], 'are': [<autograd.numpy.numpy_boxes.ArrayBox object at 0x7fe290e9edc0>, <autograd.numpy.numpy_boxes.ArrayBox object at 0x7fe290e9eec0>, <autograd.numpy.numpy_boxes.ArrayBox object at 0x7fe290e9ea40>], 'este': [<autograd.numpy.numpy_boxes.ArrayBox object at 0x7fe290e9e900>, <autograd.numpy.numpy_boxes.ArrayBox object at 0x7fe290e9ee40>, <autograd.numpy.numpy_boxes.ArrayBox object at 0x7fe290e9eb80>], 'fericit': [<autograd.numpy.numpy_boxes.ArrayBox object at 0x7fe290e9e1c0>, <autograd.numpy.numpy_boxes.ArrayBox object at 0x7fe290e9eac0>, <autograd.numpy.numpy_boxes.ArrayBox object at 0x7fe290e9e880>], 'punct': [<autograd.numpy.numpy_boxes.ArrayBox object at 0x7fe290e9e5c0>, <autograd.numpy.numpy_boxes.ArrayBox object at 0x7fe290e9e9c0>, <autograd.numpy.numpy_boxes.ArrayBox object at 0x7fe290e9e8c0>], 'frumos': [<autograd.numpy.numpy_boxes.ArrayBox object at 0x7fe290e9e380>, <autograd.numpy.numpy_boxes.ArrayBox object at 0x7fe290e9e840>, <autograd.numpy.numpy_boxes.ArrayBox object at 0x7fe290e9e600>]}\n",
      "\n",
      "\n",
      " \n",
      " params: Autograd SequenceBox with value [[0.0, 4.0949427768837445, 0.0], [-4.585154225237806, 4.862297482585072, 2.999311977507649], [3.1557848863816123, 3.755430056556213, 4.454944627276867], [3.8014694770432325, 1.611107217440223, 2.0401149965102565], [-5.027987952819545, -5.721169786269619, 2.621980028754391], [4.052184078544792, -3.8612119612766858, 3.0615587746374167], [-0.7414834084940244, -4.608604816460718, 2.5236057573692126], [-0.0, -4.094944597120958, -0.0]]\n",
      "Iter:18 | train_cost:0.31635398511832663\n",
      "\n",
      "\n",
      " ###vp Autograd SequenceBox with value [[0.0, 4.140533615873151, 0.0], [-4.678276588504824, 4.960733014294695, 3.0594554607002116], [3.226389157462957, 3.8127745628323066, 4.537815432220907], [3.874946213858311, 1.6411745738187316, 2.068726399596614], [-5.106558431442394, -5.84104635891215, 2.657559491249177], [4.135151023614766, -3.9677295955971146, 3.078652713996512], [-0.7498467722716495, -4.709996894065933, 2.566728290324378], [-0.0, -4.140535463100176, -0.0]]\n",
      "pv: {'cainele': [<autograd.numpy.numpy_boxes.ArrayBox object at 0x7fe290afc8c0>, <autograd.numpy.numpy_boxes.ArrayBox object at 0x7fe290afca00>, <autograd.numpy.numpy_boxes.ArrayBox object at 0x7fe290afc800>], 'ursul': [<autograd.numpy.numpy_boxes.ArrayBox object at 0x7fe290afc940>, <autograd.numpy.numpy_boxes.ArrayBox object at 0x7fe290afc7c0>, <autograd.numpy.numpy_boxes.ArrayBox object at 0x7fe290afc780>], 'bot': [<autograd.numpy.numpy_boxes.ArrayBox object at 0x7fe290afc580>, <autograd.numpy.numpy_boxes.ArrayBox object at 0x7fe290afcd80>, <autograd.numpy.numpy_boxes.ArrayBox object at 0x7fe290afce00>], 'are': [<autograd.numpy.numpy_boxes.ArrayBox object at 0x7fe290afce40>, <autograd.numpy.numpy_boxes.ArrayBox object at 0x7fe290afcf00>, <autograd.numpy.numpy_boxes.ArrayBox object at 0x7fe290afc740>], 'este': [<autograd.numpy.numpy_boxes.ArrayBox object at 0x7fe290afccc0>, <autograd.numpy.numpy_boxes.ArrayBox object at 0x7fe290afcdc0>, <autograd.numpy.numpy_boxes.ArrayBox object at 0x7fe290afc900>], 'fericit': [<autograd.numpy.numpy_boxes.ArrayBox object at 0x7fe290afc440>, <autograd.numpy.numpy_boxes.ArrayBox object at 0x7fe290afc1c0>, <autograd.numpy.numpy_boxes.ArrayBox object at 0x7fe290afcbc0>], 'punct': [<autograd.numpy.numpy_boxes.ArrayBox object at 0x7fe290afc600>, <autograd.numpy.numpy_boxes.ArrayBox object at 0x7fe290afcac0>, <autograd.numpy.numpy_boxes.ArrayBox object at 0x7fe290afc2c0>], 'frumos': [<autograd.numpy.numpy_boxes.ArrayBox object at 0x7fe290afcf80>, <autograd.numpy.numpy_boxes.ArrayBox object at 0x7fe290afca40>, <autograd.numpy.numpy_boxes.ArrayBox object at 0x7fe290afc4c0>]}\n",
      "\n",
      " !!!!pv: {'cainele': [<autograd.numpy.numpy_boxes.ArrayBox object at 0x7fe290afc8c0>, <autograd.numpy.numpy_boxes.ArrayBox object at 0x7fe290afca00>, <autograd.numpy.numpy_boxes.ArrayBox object at 0x7fe290afc800>], 'ursul': [<autograd.numpy.numpy_boxes.ArrayBox object at 0x7fe290afc940>, <autograd.numpy.numpy_boxes.ArrayBox object at 0x7fe290afc7c0>, <autograd.numpy.numpy_boxes.ArrayBox object at 0x7fe290afc780>], 'bot': [<autograd.numpy.numpy_boxes.ArrayBox object at 0x7fe290afc580>, <autograd.numpy.numpy_boxes.ArrayBox object at 0x7fe290afcd80>, <autograd.numpy.numpy_boxes.ArrayBox object at 0x7fe290afce00>], 'are': [<autograd.numpy.numpy_boxes.ArrayBox object at 0x7fe290afce40>, <autograd.numpy.numpy_boxes.ArrayBox object at 0x7fe290afcf00>, <autograd.numpy.numpy_boxes.ArrayBox object at 0x7fe290afc740>], 'este': [<autograd.numpy.numpy_boxes.ArrayBox object at 0x7fe290afccc0>, <autograd.numpy.numpy_boxes.ArrayBox object at 0x7fe290afcdc0>, <autograd.numpy.numpy_boxes.ArrayBox object at 0x7fe290afc900>], 'fericit': [<autograd.numpy.numpy_boxes.ArrayBox object at 0x7fe290afc440>, <autograd.numpy.numpy_boxes.ArrayBox object at 0x7fe290afc1c0>, <autograd.numpy.numpy_boxes.ArrayBox object at 0x7fe290afcbc0>], 'punct': [<autograd.numpy.numpy_boxes.ArrayBox object at 0x7fe290afc600>, <autograd.numpy.numpy_boxes.ArrayBox object at 0x7fe290afcac0>, <autograd.numpy.numpy_boxes.ArrayBox object at 0x7fe290afc2c0>], 'frumos': [<autograd.numpy.numpy_boxes.ArrayBox object at 0x7fe290afcf80>, <autograd.numpy.numpy_boxes.ArrayBox object at 0x7fe290afca40>, <autograd.numpy.numpy_boxes.ArrayBox object at 0x7fe290afc4c0>]}\n",
      "\n",
      "\n",
      " \n",
      " params: Autograd SequenceBox with value [[0.0, 4.140533615873151, 0.0], [-4.678276588504824, 4.960733014294695, 3.0594554607002116], [3.226389157462957, 3.8127745628323066, 4.537815432220907], [3.874946213858311, 1.6411745738187316, 2.068726399596614], [-5.106558431442394, -5.84104635891215, 2.657559491249177], [4.135151023614766, -3.9677295955971146, 3.078652713996512], [-0.7498467722716495, -4.709996894065933, 2.566728290324378], [-0.0, -4.140535463100176, -0.0]]\n"
     ]
    },
    {
     "name": "stdout",
     "output_type": "stream",
     "text": [
      "Iter:19 | train_cost:0.31632365142808455\n"
     ]
    }
   ],
   "source": [
    "ls_progres=[]\n",
    "ac_progres=[]\n",
    "for e in range(nr_epochs):\n",
    "    params, ls = opt.step_and_cost(lambda p: cost( params=p, x=x_merge, y=y_merge),params)\n",
    "\n",
    "    print(\"Iter:{} | train_cost:{}\".format(e, ls))\n",
    "    ls_progres.append(ls)\n",
    "\n",
    "\n",
    "    if e%10==0:\n",
    "        \n",
    "        parameterize_vovabulary = update_vocabulary(parameterize_vovabulary, params)\n",
    "        x_vec=[[ parameterize_vovabulary[w] for w in piece] for piece in x_merge]\n",
    "    \n",
    "        predictions = [sense_circutis(w_input) for w_input in x_vec ]\n",
    "        \n",
    "        \n",
    "        ac=sense_accuracy(predictions, y=y_merge)\n",
    "        ac_progres.append(ac)\n",
    "        \n",
    "        print(\"ac:\",ac)\n"
   ]
  },
  {
   "cell_type": "code",
   "execution_count": 42,
   "id": "588da78b",
   "metadata": {},
   "outputs": [
    {
     "name": "stdout",
     "output_type": "stream",
     "text": [
      "\n",
      "\n",
      " ###vp [[0.0, 4.181994326873847, 0.0], [-4.746999227562753, 5.035621558110675, 3.12005583872423], [3.298130268040508, 3.867031218337843, 4.610708044821885], [3.9324109236618185, 1.6549289973703898, 2.1044464744243316], [-5.175326827854144, -5.9359464776627275, 2.692044530076764], [4.213762921281883, -4.06995621011381, 3.0904107185378975], [-0.74936229756269, -4.787225621338677, 2.6135001843151096], [-0.0, -4.181996198657925, -0.0]]\n",
      "pv: {'cainele': [0.0, 4.181994326873847, 0.0], 'ursul': [-4.746999227562753, 5.035621558110675, 3.12005583872423], 'bot': [3.298130268040508, 3.867031218337843, 4.610708044821885], 'are': [3.9324109236618185, 1.6549289973703898, 2.1044464744243316], 'este': [-5.175326827854144, -5.9359464776627275, 2.692044530076764], 'fericit': [4.213762921281883, -4.06995621011381, 3.0904107185378975], 'punct': [-0.74936229756269, -4.787225621338677, 2.6135001843151096], 'frumos': [-0.0, -4.181996198657925, -0.0]}\n"
     ]
    },
    {
     "data": {
      "text/plain": [
       "{'cainele': [0.0, 4.181994326873847, 0.0],\n",
       " 'ursul': [-4.746999227562753, 5.035621558110675, 3.12005583872423],\n",
       " 'bot': [3.298130268040508, 3.867031218337843, 4.610708044821885],\n",
       " 'are': [3.9324109236618185, 1.6549289973703898, 2.1044464744243316],\n",
       " 'este': [-5.175326827854144, -5.9359464776627275, 2.692044530076764],\n",
       " 'fericit': [4.213762921281883, -4.06995621011381, 3.0904107185378975],\n",
       " 'punct': [-0.74936229756269, -4.787225621338677, 2.6135001843151096],\n",
       " 'frumos': [-0.0, -4.181996198657925, -0.0]}"
      ]
     },
     "execution_count": 42,
     "metadata": {},
     "output_type": "execute_result"
    }
   ],
   "source": [
    "parameterize_vovabulary=update_vocabulary(parameterize_vovabulary, params)\n",
    "parameterize_vovabulary"
   ]
  },
  {
   "cell_type": "markdown",
   "id": "7a168d90",
   "metadata": {},
   "source": [
    "### Results"
   ]
  },
  {
   "cell_type": "code",
   "execution_count": 43,
   "id": "2a08dfa0",
   "metadata": {},
   "outputs": [],
   "source": [
    "import matplotlib.pyplot as plt"
   ]
  },
  {
   "cell_type": "code",
   "execution_count": 44,
   "id": "e8078825",
   "metadata": {},
   "outputs": [
    {
     "name": "stdout",
     "output_type": "stream",
     "text": [
      "last loss: 0.31632365142808455\n"
     ]
    },
    {
     "data": {
      "image/png": "[encoded data removed]",
      "text/plain": [
       "<Figure size 432x288 with 1 Axes>"
      ]
     },
     "metadata": {
      "needs_background": "light"
     },
     "output_type": "display_data"
    }
   ],
   "source": [
    "fig = plt.figure()\n",
    "plt.plot([x for x in range(0,len(ls_progres))],np.array(ls_progres),label=\"train loss\")\n",
    "\n",
    "\n",
    "plt.legend()\n",
    "plt.title(\"loss_sense_embeding\",)\n",
    "plt.xlabel(\"epoch\")\n",
    "plt.ylabel(\"loss\")\n",
    "\n",
    "print(\"last loss:\",ls_progres[-1])"
   ]
  },
  {
   "cell_type": "code",
   "execution_count": 45,
   "id": "26430d1d",
   "metadata": {},
   "outputs": [
    {
     "name": "stdout",
     "output_type": "stream",
     "text": [
      "accuracy loss: 0.5147058823529411\n"
     ]
    },
    {
     "data": {
      "image/png": "[encoded data removed]",
      "text/plain": [
       "<Figure size 432x288 with 1 Axes>"
      ]
     },
     "metadata": {
      "needs_background": "light"
     },
     "output_type": "display_data"
    }
   ],
   "source": [
    "fig = plt.figure()\n",
    "plt.plot([x for x in range(0,len(ac_progres)*10,10)],np.array(ac_progres),label=\"train accuracy\")\n",
    "\n",
    "\n",
    "plt.legend()\n",
    "plt.title(\"accuracy_sense_embeding\",)\n",
    "plt.xlabel(\"epoch\")\n",
    "plt.ylabel(\"accyracy\")\n",
    "\n",
    "print(\"accuracy loss:\",ac_progres[-1])"
   ]
  },
  {
   "cell_type": "code",
   "execution_count": 46,
   "id": "52d86ffa",
   "metadata": {},
   "outputs": [
    {
     "data": {
      "text/plain": [
       "{'cainele': [0.0, 4.181994326873847, 0.0],\n",
       " 'ursul': [-4.746999227562753, 5.035621558110675, 3.12005583872423],\n",
       " 'bot': [3.298130268040508, 3.867031218337843, 4.610708044821885],\n",
       " 'are': [3.9324109236618185, 1.6549289973703898, 2.1044464744243316],\n",
       " 'este': [-5.175326827854144, -5.9359464776627275, 2.692044530076764],\n",
       " 'fericit': [4.213762921281883, -4.06995621011381, 3.0904107185378975],\n",
       " 'punct': [-0.74936229756269, -4.787225621338677, 2.6135001843151096],\n",
       " 'frumos': [-0.0, -4.181996198657925, -0.0]}"
      ]
     },
     "execution_count": 46,
     "metadata": {},
     "output_type": "execute_result"
    }
   ],
   "source": [
    "parameterize_vovabulary"
   ]
  },
  {
   "cell_type": "code",
   "execution_count": 63,
   "id": "b7296263",
   "metadata": {},
   "outputs": [
    {
     "name": "stdout",
     "output_type": "stream",
     "text": [
      "[[0.0, 4.181994326873847, 0.0], [-4.746999227562753, 5.035621558110675, 3.12005583872423], [3.298130268040508, 3.867031218337843, 4.610708044821885], [3.9324109236618185, 1.6549289973703898, 2.1044464744243316], [-5.175326827854144, -5.9359464776627275, 2.692044530076764], [4.213762921281883, -4.06995621011381, 3.0904107185378975], [-0.74936229756269, -4.787225621338677, 2.6135001843151096], [-0.0, -4.181996198657925, -0.0]]\n"
     ]
    }
   ],
   "source": [
    "words = []\n",
    "for k in parameterize_vovabulary:\n",
    "    words.append(parameterize_vovabulary[k])\n",
    "print(words)"
   ]
  },
  {
   "cell_type": "markdown",
   "id": "c0b41817",
   "metadata": {},
   "source": [
    "### New distribution"
   ]
  },
  {
   "cell_type": "code",
   "execution_count": 57,
   "id": "12bba0df",
   "metadata": {},
   "outputs": [
    {
     "data": {
      "image/png": "[encoded data removed]",
      "text/plain": [
       "<Figure size 432x288 with 1 Axes>"
      ]
     },
     "metadata": {
      "needs_background": "light"
     },
     "output_type": "display_data"
    }
   ],
   "source": [
    "\n",
    "\n",
    "x_new=[]\n",
    "y_new=[]\n",
    "z_new=[]\n",
    "\n",
    "for key in parameterize_vovabulary.keys():\n",
    "    x_new.append(parameterize_vovabulary[key][0])\n",
    "    y_new.append(parameterize_vovabulary[key][1])\n",
    "    z_new.append(parameterize_vovabulary[key][2])\n",
    "    \n",
    "    \n",
    "fig = plt.figure()\n",
    "ax = plt.axes(projection='3d')\n",
    "    \n",
    "ax.scatter(x_old, y_old, z_old,)\n",
    "ax.scatter(x_new, y_new, z_new,)\n",
    "\n",
    "pp.show()"
   ]
  },
  {
   "cell_type": "code",
   "execution_count": null,
   "id": "4cda655a",
   "metadata": {},
   "outputs": [],
   "source": []
  },
  {
   "cell_type": "markdown",
   "id": "2d9a0cfd",
   "metadata": {},
   "source": [
    "## Prediction"
   ]
  },
  {
   "cell_type": "code",
   "execution_count": 58,
   "id": "10193a87",
   "metadata": {},
   "outputs": [],
   "source": [
    "x_sense,y = working_window(history_lenghth, splited_text=corpus.split_text)"
   ]
  },
  {
   "cell_type": "code",
   "execution_count": 59,
   "id": "2f7c2405",
   "metadata": {},
   "outputs": [
    {
     "name": "stdout",
     "output_type": "stream",
     "text": [
      "[['ursul', 'are', 'bot'], ['are', 'bot', 'punct'], ['bot', 'punct', 'cainele'], ['punct', 'cainele', 'are'], ['cainele', 'are', 'bot'], ['are', 'bot', 'punct'], ['bot', 'punct', 'ursul'], ['punct', 'ursul', 'este'], ['ursul', 'este', 'fericit'], ['este', 'fericit', 'punct'], ['fericit', 'punct', 'cainele'], ['punct', 'cainele', 'este'], ['cainele', 'este', 'fericit'], ['este', 'fericit', 'punct'], ['fericit', 'punct', 'cainele'], ['punct', 'cainele', 'este'], ['cainele', 'este', 'frumos'], ['este', 'frumos', 'punct'], ['frumos', 'punct', 'cainele'], ['punct', 'cainele', 'are'], ['cainele', 'are', 'bot'], ['are', 'bot', 'frumos'], ['bot', 'frumos', 'punct'], ['frumos', 'punct', 'cainele'], ['punct', 'cainele', 'frumos'], ['cainele', 'frumos', 'are'], ['frumos', 'are', 'bot'], ['are', 'bot', 'punct'], ['bot', 'punct', 'ursul'], ['punct', 'ursul', 'frumos'], ['ursul', 'frumos', 'are'], ['frumos', 'are', 'bot'], ['are', 'bot', 'punct'], ['bot', 'punct', 'ursul'], ['punct', 'ursul', 'fericit'], ['ursul', 'fericit', 'are'], ['fericit', 'are', 'bot'], ['are', 'bot', 'punct'], ['bot', 'punct', 'ursul'], ['punct', 'ursul', 'fericit'], ['ursul', 'fericit', 'are'], ['fericit', 'are', 'bot'], ['are', 'bot', 'frumos'], ['bot', 'frumos', 'punct'], ['frumos', 'punct', 'cainele'], ['punct', 'cainele', 'frumos'], ['cainele', 'frumos', 'are'], ['frumos', 'are', 'bot'], ['are', 'bot', 'frumos'], ['bot', 'frumos', 'punct'], ['frumos', 'punct', 'ursul'], ['punct', 'ursul', 'frumos'], ['ursul', 'frumos', 'are'], ['frumos', 'are', 'bot'], ['are', 'bot', 'punct'], ['bot', 'punct', 'ursul'], ['punct', 'ursul', 'frumos'], ['ursul', 'frumos', 'este'], ['frumos', 'este', 'fericit'], ['este', 'fericit', 'punct'], ['fericit', 'punct', 'cainele'], ['punct', 'cainele', 'fericit'], ['cainele', 'fericit', 'este'], ['fericit', 'este', 'frumos'], ['este', 'frumos', 'punct'], ['frumos', 'punct', 'ursul'], ['punct', 'ursul', 'fericit'], ['ursul', 'fericit', 'este']]\n",
      "['punct', 'cainele', 'are', 'bot', 'punct', 'ursul', 'este', 'fericit', 'punct', 'cainele', 'este', 'fericit', 'punct', 'cainele', 'este', 'frumos', 'punct', 'cainele', 'are', 'bot', 'frumos', 'punct', 'cainele', 'frumos', 'are', 'bot', 'punct', 'ursul', 'frumos', 'are', 'bot', 'punct', 'ursul', 'fericit', 'are', 'bot', 'punct', 'ursul', 'fericit', 'are', 'bot', 'frumos', 'punct', 'cainele', 'frumos', 'are', 'bot', 'frumos', 'punct', 'ursul', 'frumos', 'are', 'bot', 'punct', 'ursul', 'frumos', 'este', 'fericit', 'punct', 'cainele', 'fericit', 'este', 'frumos', 'punct', 'ursul', 'fericit', 'este', 'frumos']\n"
     ]
    }
   ],
   "source": [
    "print(x_sense)\n",
    "print(y)"
   ]
  },
  {
   "cell_type": "code",
   "execution_count": 62,
   "id": "a22c1afa",
   "metadata": {},
   "outputs": [],
   "source": [
    "\n",
    "nr_words = len(parameterize_vovabulary)\n",
    "dev = qml.device(\"default.qubit\", wires=history_lenghth+nr_words*2) "
   ]
  },
  {
   "cell_type": "code",
   "execution_count": null,
   "id": "bdc2ca55",
   "metadata": {},
   "outputs": [],
   "source": [
    "\n",
    "def put_word_on_sphere_control(params, qubit,control):\n",
    "    \"\"\"\n",
    "\n",
    "    :param params: [x, y ,z ]\n",
    "    :param qubit:\n",
    "    \"\"\"\n",
    "\n",
    "    if params[2] != 0.0:\n",
    "        theta = np.arctan(np.sqrt(params[0] * params[0] + params[1] * params[1]) / params[2])\n",
    "    else:\n",
    "        theta = np.pi / 2\n",
    "\n",
    "    if params[0] != 0.0:\n",
    "        phi = np.arctan(params[1] / params[0])\n",
    "    else:\n",
    "        phi = np.pi / 2\n",
    "\n",
    "    if params[1] * params[1] == 1.0:\n",
    "        phi = np.pi / 2\n",
    "        theta = -params[1] * np.pi / 2\n",
    "\n",
    "    if (params[0] > 0) and (params[1] >= 0) and (params[2] > 0):\n",
    "        theta = theta\n",
    "\n",
    "    elif (params[0] < 0) and (params[1] >= 0) and (params[2] > 0):\n",
    "        theta = 2 * np.pi - theta\n",
    "\n",
    "    elif (params[0] > 0) and (params[1] <= 0) and (params[2] > 0):\n",
    "        theta = -2 * np.pi + theta\n",
    "\n",
    "    elif (params[0] < 0) and (params[1] <= 0) and (params[2] > 0):\n",
    "        theta = 2 * np.pi - theta\n",
    "\n",
    "    elif (params[0] < 0) and (params[1] <= 0) and (params[2] < 0):\n",
    "        theta = np.pi - theta\n",
    "\n",
    "    elif (params[0] < 0) and (params[1] >= 0) and (params[2] < 0):\n",
    "        theta = np.pi - theta\n",
    "\n",
    "    elif (params[0] > 0) and (params[1] <= 0) and (params[2] < 0):\n",
    "        theta = np.pi + theta\n",
    "\n",
    "    else:  # (params[0] > 0) and (params[1] > 0) and (params[2] < 0)\n",
    "        theta = -np.pi + theta\n",
    "\n",
    "    qml.CRY(theta, wires=[control, qubit])\n",
    "    qml.CRZ(phi, wires=[control, qubit])\n"
   ]
  },
  {
   "cell_type": "code",
   "execution_count": null,
   "id": "64f488f4",
   "metadata": {},
   "outputs": [],
   "source": [
    "@qml.qnode(dev)\n",
    "def next_gen(params, x, obs='z', nr_words= 8):\n",
    "    \"\"\"\n",
    "    obs:'z', 'x' or 'y'\n",
    "    \"\"\"\n",
    "    ###########################\n",
    "    # initialize the circuit#\n",
    "    # past words \n",
    "    for i in range(len(x)):\n",
    "        put_word_on_sphere(x[i], qubit=i)\n",
    "\n",
    "    # supeerposition \n",
    "    for i in range(nr_words):\n",
    "        control_q=i+len(x)\n",
    "        target=i+len(x)+nr_words\n",
    "        pml.Hadamrd(control_q)\n",
    "\n",
    "        put_word_on_sphere_control(words[i], target,control_q)\n",
    "        \n",
    "    ###########################\n",
    "    # CX\n",
    "    # interaction\n",
    "    for i in range(1,len(x)):\n",
    "        qml.CNOT(wires=[0,i])\n",
    "        \n",
    "    for i in range(len(x)+nr_words,len(x)+2*nr_words):\n",
    "        qml.CNOT(wires=[0,i])\n",
    "    \n",
    "    #############################\n",
    "    #PK\n",
    "    \n",
    "    #############################\n",
    "    ## Reverse \n",
    "    # CX\n",
    "    # interaction\n",
    "    for i in range(1,len(x)):\n",
    "        qml.CNOT(wires=[0,i])\n",
    "        \n",
    "    for i in range(len(x)+nr_words,len(x)+2*nr_words):\n",
    "        qml.CNOT(wires=[0,i])\n",
    "    #############################\n",
    "    ## Reverse \n",
    "    # CX\n",
    "    for i in range(1,len(x)):\n",
    "        qml.CNOT(wires=[0,i])\n",
    "        \n",
    "    for i in range(len(x)+nr_words,len(x)+2*nr_words):\n",
    "        qml.CNOT(wires=[0,i])\n",
    "    #############################\n",
    "    ## Reverse\n",
    "    # supeerposition \n",
    "    for i in range(nr_words):\n",
    "        control_q=i+len(x)\n",
    "        target=i+len(x)+nr_words\n",
    "        qml.adjoint(put_word_on_sphere_control)(words[i], target,control_q)\n",
    "    #############################\n",
    "    \n",
    "    # diffuser\n",
    "    \n",
    "    \n",
    "    for param in params:\n",
    "        layer_type1(param, wires=[0,1,2])\n",
    "    #circuit_initializer(x) # just for a test \n",
    "\n",
    "\n",
    "    # measure \n",
    "    if obs=='z':\n",
    "        return  qml.expval(qml.PauliZ(3))\n",
    "    if obs=='x':\n",
    "        return qml.expval(qml.PauliX(3))\n",
    "    if obs=='y':\n",
    "        return qml.expval(qml.PauliY(3))"
   ]
  }
 ],
 "metadata": {
  "kernelspec": {
   "display_name": "Python 3 (ipykernel)",
   "language": "python",
   "name": "python3"
  },
  "language_info": {
   "codemirror_mode": {
    "name": "ipython",
    "version": 3
   },
   "file_extension": ".py",
   "mimetype": "text/x-python",
   "name": "python",
   "nbconvert_exporter": "python",
   "pygments_lexer": "ipython3",
   "version": "3.9.7"
  }
 },
 "nbformat": 4,
 "nbformat_minor": 5
}
